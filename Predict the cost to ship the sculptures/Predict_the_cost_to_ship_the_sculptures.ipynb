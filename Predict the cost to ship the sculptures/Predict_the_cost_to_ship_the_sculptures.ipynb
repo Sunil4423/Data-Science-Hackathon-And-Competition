{
  "nbformat": 4,
  "nbformat_minor": 0,
  "metadata": {
    "colab": {
      "name": "Predict the cost to ship the sculptures.ipynb",
      "provenance": []
    },
    "kernelspec": {
      "display_name": "Python 3",
      "name": "python3"
    }
  },
  "cells": [
    {
      "cell_type": "code",
      "metadata": {
        "id": "qLnmi9gfg3nS"
      },
      "source": [
        "import pandas as pd\r\n",
        "import numpy as np \r\n",
        "import seaborn as sns\r\n",
        "import matplotlib.pyplot as plt "
      ],
      "execution_count": null,
      "outputs": []
    },
    {
      "cell_type": "code",
      "metadata": {
        "id": "JXyNOgbghhjC"
      },
      "source": [
        "train=pd.read_csv('/content/drive/MyDrive/Data Science/Predict the cost to ship the sculptures/dataset/train.csv')\r\n",
        "test=pd.read_csv('/content/drive/MyDrive/Data Science/Predict the cost to ship the sculptures/dataset/test.csv')"
      ],
      "execution_count": null,
      "outputs": []
    },
    {
      "cell_type": "code",
      "metadata": {
        "colab": {
          "base_uri": "https://localhost:8080/",
          "height": 360
        },
        "id": "DklWNvDPlRUb",
        "outputId": "2c8014ff-2b5d-4769-f2ff-7d0892918170"
      },
      "source": [
        "train.head()"
      ],
      "execution_count": null,
      "outputs": [
        {
          "output_type": "execute_result",
          "data": {
            "text/html": [
              "<div>\n",
              "<style scoped>\n",
              "    .dataframe tbody tr th:only-of-type {\n",
              "        vertical-align: middle;\n",
              "    }\n",
              "\n",
              "    .dataframe tbody tr th {\n",
              "        vertical-align: top;\n",
              "    }\n",
              "\n",
              "    .dataframe thead th {\n",
              "        text-align: right;\n",
              "    }\n",
              "</style>\n",
              "<table border=\"1\" class=\"dataframe\">\n",
              "  <thead>\n",
              "    <tr style=\"text-align: right;\">\n",
              "      <th></th>\n",
              "      <th>Customer Id</th>\n",
              "      <th>Artist Name</th>\n",
              "      <th>Artist Reputation</th>\n",
              "      <th>Height</th>\n",
              "      <th>Width</th>\n",
              "      <th>Weight</th>\n",
              "      <th>Material</th>\n",
              "      <th>Price Of Sculpture</th>\n",
              "      <th>Base Shipping Price</th>\n",
              "      <th>International</th>\n",
              "      <th>Express Shipment</th>\n",
              "      <th>Installation Included</th>\n",
              "      <th>Transport</th>\n",
              "      <th>Fragile</th>\n",
              "      <th>Customer Information</th>\n",
              "      <th>Remote Location</th>\n",
              "      <th>Scheduled Date</th>\n",
              "      <th>Delivery Date</th>\n",
              "      <th>Customer Location</th>\n",
              "      <th>Cost</th>\n",
              "    </tr>\n",
              "  </thead>\n",
              "  <tbody>\n",
              "    <tr>\n",
              "      <th>0</th>\n",
              "      <td>fffe3900350033003300</td>\n",
              "      <td>Billy Jenkins</td>\n",
              "      <td>0.26</td>\n",
              "      <td>17.0</td>\n",
              "      <td>6.0</td>\n",
              "      <td>4128.0</td>\n",
              "      <td>Brass</td>\n",
              "      <td>13.91</td>\n",
              "      <td>16.27</td>\n",
              "      <td>Yes</td>\n",
              "      <td>Yes</td>\n",
              "      <td>No</td>\n",
              "      <td>Airways</td>\n",
              "      <td>No</td>\n",
              "      <td>Working Class</td>\n",
              "      <td>No</td>\n",
              "      <td>06/07/15</td>\n",
              "      <td>06/03/15</td>\n",
              "      <td>New Michelle, OH 50777</td>\n",
              "      <td>-283.29</td>\n",
              "    </tr>\n",
              "    <tr>\n",
              "      <th>1</th>\n",
              "      <td>fffe3800330031003900</td>\n",
              "      <td>Jean Bryant</td>\n",
              "      <td>0.28</td>\n",
              "      <td>3.0</td>\n",
              "      <td>3.0</td>\n",
              "      <td>61.0</td>\n",
              "      <td>Brass</td>\n",
              "      <td>6.83</td>\n",
              "      <td>15.00</td>\n",
              "      <td>No</td>\n",
              "      <td>No</td>\n",
              "      <td>No</td>\n",
              "      <td>Roadways</td>\n",
              "      <td>No</td>\n",
              "      <td>Working Class</td>\n",
              "      <td>No</td>\n",
              "      <td>03/06/17</td>\n",
              "      <td>03/05/17</td>\n",
              "      <td>New Michaelport, WY 12072</td>\n",
              "      <td>-159.96</td>\n",
              "    </tr>\n",
              "    <tr>\n",
              "      <th>2</th>\n",
              "      <td>fffe3600370035003100</td>\n",
              "      <td>Laura Miller</td>\n",
              "      <td>0.07</td>\n",
              "      <td>8.0</td>\n",
              "      <td>5.0</td>\n",
              "      <td>237.0</td>\n",
              "      <td>Clay</td>\n",
              "      <td>4.96</td>\n",
              "      <td>21.18</td>\n",
              "      <td>No</td>\n",
              "      <td>No</td>\n",
              "      <td>No</td>\n",
              "      <td>Roadways</td>\n",
              "      <td>Yes</td>\n",
              "      <td>Working Class</td>\n",
              "      <td>Yes</td>\n",
              "      <td>03/09/15</td>\n",
              "      <td>03/08/15</td>\n",
              "      <td>Bowmanshire, WA 19241</td>\n",
              "      <td>-154.29</td>\n",
              "    </tr>\n",
              "    <tr>\n",
              "      <th>3</th>\n",
              "      <td>fffe350031003300</td>\n",
              "      <td>Robert Chaires</td>\n",
              "      <td>0.12</td>\n",
              "      <td>9.0</td>\n",
              "      <td>NaN</td>\n",
              "      <td>NaN</td>\n",
              "      <td>Aluminium</td>\n",
              "      <td>5.81</td>\n",
              "      <td>16.31</td>\n",
              "      <td>No</td>\n",
              "      <td>No</td>\n",
              "      <td>No</td>\n",
              "      <td>NaN</td>\n",
              "      <td>No</td>\n",
              "      <td>Wealthy</td>\n",
              "      <td>Yes</td>\n",
              "      <td>05/24/15</td>\n",
              "      <td>05/20/15</td>\n",
              "      <td>East Robyn, KY 86375</td>\n",
              "      <td>-161.16</td>\n",
              "    </tr>\n",
              "    <tr>\n",
              "      <th>4</th>\n",
              "      <td>fffe3900320038003400</td>\n",
              "      <td>Rosalyn Krol</td>\n",
              "      <td>0.15</td>\n",
              "      <td>17.0</td>\n",
              "      <td>6.0</td>\n",
              "      <td>324.0</td>\n",
              "      <td>Aluminium</td>\n",
              "      <td>3.18</td>\n",
              "      <td>11.94</td>\n",
              "      <td>Yes</td>\n",
              "      <td>Yes</td>\n",
              "      <td>Yes</td>\n",
              "      <td>Airways</td>\n",
              "      <td>No</td>\n",
              "      <td>Working Class</td>\n",
              "      <td>No</td>\n",
              "      <td>12/18/16</td>\n",
              "      <td>12/14/16</td>\n",
              "      <td>Aprilside, PA 52793</td>\n",
              "      <td>-159.23</td>\n",
              "    </tr>\n",
              "  </tbody>\n",
              "</table>\n",
              "</div>"
            ],
            "text/plain": [
              "            Customer Id     Artist Name  ...          Customer Location    Cost\n",
              "0  fffe3900350033003300   Billy Jenkins  ...     New Michelle, OH 50777 -283.29\n",
              "1  fffe3800330031003900     Jean Bryant  ...  New Michaelport, WY 12072 -159.96\n",
              "2  fffe3600370035003100    Laura Miller  ...      Bowmanshire, WA 19241 -154.29\n",
              "3      fffe350031003300  Robert Chaires  ...       East Robyn, KY 86375 -161.16\n",
              "4  fffe3900320038003400    Rosalyn Krol  ...        Aprilside, PA 52793 -159.23\n",
              "\n",
              "[5 rows x 20 columns]"
            ]
          },
          "metadata": {
            "tags": []
          },
          "execution_count": 3
        }
      ]
    },
    {
      "cell_type": "code",
      "metadata": {
        "colab": {
          "base_uri": "https://localhost:8080/"
        },
        "id": "EqKTI9F1nfBy",
        "outputId": "11f222e5-b5e1-4605-a6a0-e7c560da9573"
      },
      "source": [
        "train.columns"
      ],
      "execution_count": null,
      "outputs": [
        {
          "output_type": "execute_result",
          "data": {
            "text/plain": [
              "Index(['Customer Id', 'Artist Name', 'Artist Reputation', 'Height', 'Width',\n",
              "       'Weight', 'Material', 'Price Of Sculpture', 'Base Shipping Price',\n",
              "       'International', 'Express Shipment', 'Installation Included',\n",
              "       'Transport', 'Fragile', 'Customer Information', 'Remote Location',\n",
              "       'Scheduled Date', 'Delivery Date', 'Customer Location', 'Cost'],\n",
              "      dtype='object')"
            ]
          },
          "metadata": {
            "tags": []
          },
          "execution_count": 4
        }
      ]
    },
    {
      "cell_type": "code",
      "metadata": {
        "id": "mHPxUmMlwpGF"
      },
      "source": [
        "test.columns=[c.replace(\" \",\"_\") for c in test.columns]"
      ],
      "execution_count": null,
      "outputs": []
    },
    {
      "cell_type": "code",
      "metadata": {
        "id": "qLBQAwJVy7WR"
      },
      "source": [
        "train.columns=[c.replace(\" \",\"_\") for c in train.columns]"
      ],
      "execution_count": null,
      "outputs": []
    },
    {
      "cell_type": "code",
      "metadata": {
        "colab": {
          "base_uri": "https://localhost:8080/",
          "height": 309
        },
        "id": "ilUIzj6YlXea",
        "outputId": "2622c331-099b-4d78-9f18-7c40c8109051"
      },
      "source": [
        "# combining the test and train dataset\r\n",
        "Cost=train.Cost\r\n",
        "train.drop('Cost',axis=1,inplace=True)\r\n",
        "Customer_Id=test.Customer_Id\r\n",
        "data=train.append(test)\r\n",
        "data.tail()"
      ],
      "execution_count": null,
      "outputs": [
        {
          "output_type": "execute_result",
          "data": {
            "text/html": [
              "<div>\n",
              "<style scoped>\n",
              "    .dataframe tbody tr th:only-of-type {\n",
              "        vertical-align: middle;\n",
              "    }\n",
              "\n",
              "    .dataframe tbody tr th {\n",
              "        vertical-align: top;\n",
              "    }\n",
              "\n",
              "    .dataframe thead th {\n",
              "        text-align: right;\n",
              "    }\n",
              "</style>\n",
              "<table border=\"1\" class=\"dataframe\">\n",
              "  <thead>\n",
              "    <tr style=\"text-align: right;\">\n",
              "      <th></th>\n",
              "      <th>Customer_Id</th>\n",
              "      <th>Artist_Name</th>\n",
              "      <th>Artist_Reputation</th>\n",
              "      <th>Height</th>\n",
              "      <th>Width</th>\n",
              "      <th>Weight</th>\n",
              "      <th>Material</th>\n",
              "      <th>Price_Of_Sculpture</th>\n",
              "      <th>Base_Shipping_Price</th>\n",
              "      <th>International</th>\n",
              "      <th>Express_Shipment</th>\n",
              "      <th>Installation_Included</th>\n",
              "      <th>Transport</th>\n",
              "      <th>Fragile</th>\n",
              "      <th>Customer_Information</th>\n",
              "      <th>Remote_Location</th>\n",
              "      <th>Scheduled_Date</th>\n",
              "      <th>Delivery_Date</th>\n",
              "      <th>Customer_Location</th>\n",
              "    </tr>\n",
              "  </thead>\n",
              "  <tbody>\n",
              "    <tr>\n",
              "      <th>3495</th>\n",
              "      <td>fffe3200300037003100</td>\n",
              "      <td>Orlando Miller</td>\n",
              "      <td>0.36</td>\n",
              "      <td>13.0</td>\n",
              "      <td>6.0</td>\n",
              "      <td>23511.0</td>\n",
              "      <td>Marble</td>\n",
              "      <td>78.01</td>\n",
              "      <td>88.70</td>\n",
              "      <td>No</td>\n",
              "      <td>Yes</td>\n",
              "      <td>No</td>\n",
              "      <td>Airways</td>\n",
              "      <td>No</td>\n",
              "      <td>Wealthy</td>\n",
              "      <td>No</td>\n",
              "      <td>02/09/16</td>\n",
              "      <td>02/09/16</td>\n",
              "      <td>Smithville, IA 22615</td>\n",
              "    </tr>\n",
              "    <tr>\n",
              "      <th>3496</th>\n",
              "      <td>fffe390031003100</td>\n",
              "      <td>Javier Loughry</td>\n",
              "      <td>0.72</td>\n",
              "      <td>29.0</td>\n",
              "      <td>14.0</td>\n",
              "      <td>NaN</td>\n",
              "      <td>Bronze</td>\n",
              "      <td>214.85</td>\n",
              "      <td>80.28</td>\n",
              "      <td>Yes</td>\n",
              "      <td>Yes</td>\n",
              "      <td>No</td>\n",
              "      <td>Airways</td>\n",
              "      <td>No</td>\n",
              "      <td>Wealthy</td>\n",
              "      <td>No</td>\n",
              "      <td>11/26/18</td>\n",
              "      <td>11/30/18</td>\n",
              "      <td>Kennethstad, NE 65012</td>\n",
              "    </tr>\n",
              "    <tr>\n",
              "      <th>3497</th>\n",
              "      <td>fffe3200350031003700</td>\n",
              "      <td>Lashawnda Walton</td>\n",
              "      <td>0.59</td>\n",
              "      <td>12.0</td>\n",
              "      <td>6.0</td>\n",
              "      <td>NaN</td>\n",
              "      <td>Brass</td>\n",
              "      <td>8.91</td>\n",
              "      <td>19.58</td>\n",
              "      <td>No</td>\n",
              "      <td>No</td>\n",
              "      <td>Yes</td>\n",
              "      <td>Airways</td>\n",
              "      <td>No</td>\n",
              "      <td>Working Class</td>\n",
              "      <td>No</td>\n",
              "      <td>04/01/17</td>\n",
              "      <td>04/02/17</td>\n",
              "      <td>Lake Christian, AL 95571</td>\n",
              "    </tr>\n",
              "    <tr>\n",
              "      <th>3498</th>\n",
              "      <td>fffe3100380031003000</td>\n",
              "      <td>Rita Battee</td>\n",
              "      <td>NaN</td>\n",
              "      <td>17.0</td>\n",
              "      <td>9.0</td>\n",
              "      <td>565.0</td>\n",
              "      <td>Aluminium</td>\n",
              "      <td>6.75</td>\n",
              "      <td>10.89</td>\n",
              "      <td>No</td>\n",
              "      <td>Yes</td>\n",
              "      <td>Yes</td>\n",
              "      <td>Airways</td>\n",
              "      <td>No</td>\n",
              "      <td>Wealthy</td>\n",
              "      <td>No</td>\n",
              "      <td>06/28/17</td>\n",
              "      <td>06/28/17</td>\n",
              "      <td>West Regina, UT 49761</td>\n",
              "    </tr>\n",
              "    <tr>\n",
              "      <th>3499</th>\n",
              "      <td>fffe3200340037003300</td>\n",
              "      <td>Paul Jones</td>\n",
              "      <td>0.97</td>\n",
              "      <td>25.0</td>\n",
              "      <td>11.0</td>\n",
              "      <td>989903.0</td>\n",
              "      <td>Stone</td>\n",
              "      <td>4768.42</td>\n",
              "      <td>31.38</td>\n",
              "      <td>No</td>\n",
              "      <td>Yes</td>\n",
              "      <td>No</td>\n",
              "      <td>Airways</td>\n",
              "      <td>No</td>\n",
              "      <td>Working Class</td>\n",
              "      <td>No</td>\n",
              "      <td>02/19/19</td>\n",
              "      <td>02/15/19</td>\n",
              "      <td>Carsonshire, KY 50092</td>\n",
              "    </tr>\n",
              "  </tbody>\n",
              "</table>\n",
              "</div>"
            ],
            "text/plain": [
              "               Customer_Id  ...         Customer_Location\n",
              "3495  fffe3200300037003100  ...      Smithville, IA 22615\n",
              "3496      fffe390031003100  ...     Kennethstad, NE 65012\n",
              "3497  fffe3200350031003700  ...  Lake Christian, AL 95571\n",
              "3498  fffe3100380031003000  ...     West Regina, UT 49761\n",
              "3499  fffe3200340037003300  ...     Carsonshire, KY 50092\n",
              "\n",
              "[5 rows x 19 columns]"
            ]
          },
          "metadata": {
            "tags": []
          },
          "execution_count": 8
        }
      ]
    },
    {
      "cell_type": "code",
      "metadata": {
        "colab": {
          "base_uri": "https://localhost:8080/",
          "height": 297
        },
        "id": "4wakwdpM0iUQ",
        "outputId": "a9df6c92-7e70-4c5b-99ce-3367bf41e3d7"
      },
      "source": [
        "data.describe()"
      ],
      "execution_count": null,
      "outputs": [
        {
          "output_type": "execute_result",
          "data": {
            "text/html": [
              "<div>\n",
              "<style scoped>\n",
              "    .dataframe tbody tr th:only-of-type {\n",
              "        vertical-align: middle;\n",
              "    }\n",
              "\n",
              "    .dataframe tbody tr th {\n",
              "        vertical-align: top;\n",
              "    }\n",
              "\n",
              "    .dataframe thead th {\n",
              "        text-align: right;\n",
              "    }\n",
              "</style>\n",
              "<table border=\"1\" class=\"dataframe\">\n",
              "  <thead>\n",
              "    <tr style=\"text-align: right;\">\n",
              "      <th></th>\n",
              "      <th>Artist_Reputation</th>\n",
              "      <th>Height</th>\n",
              "      <th>Width</th>\n",
              "      <th>Weight</th>\n",
              "      <th>Price_Of_Sculpture</th>\n",
              "      <th>Base_Shipping_Price</th>\n",
              "    </tr>\n",
              "  </thead>\n",
              "  <tbody>\n",
              "    <tr>\n",
              "      <th>count</th>\n",
              "      <td>9028.000000</td>\n",
              "      <td>9506.000000</td>\n",
              "      <td>9275.000000</td>\n",
              "      <td>9.264000e+03</td>\n",
              "      <td>10000.000000</td>\n",
              "      <td>10000.000000</td>\n",
              "    </tr>\n",
              "    <tr>\n",
              "      <th>mean</th>\n",
              "      <td>0.462369</td>\n",
              "      <td>21.591521</td>\n",
              "      <td>9.528625</td>\n",
              "      <td>3.913883e+05</td>\n",
              "      <td>1145.936085</td>\n",
              "      <td>37.038181</td>\n",
              "    </tr>\n",
              "    <tr>\n",
              "      <th>std</th>\n",
              "      <td>0.268147</td>\n",
              "      <td>11.871639</td>\n",
              "      <td>5.351653</td>\n",
              "      <td>2.620939e+06</td>\n",
              "      <td>8353.013952</td>\n",
              "      <td>26.677378</td>\n",
              "    </tr>\n",
              "    <tr>\n",
              "      <th>min</th>\n",
              "      <td>0.000000</td>\n",
              "      <td>3.000000</td>\n",
              "      <td>2.000000</td>\n",
              "      <td>3.000000e+00</td>\n",
              "      <td>3.000000</td>\n",
              "      <td>10.000000</td>\n",
              "    </tr>\n",
              "    <tr>\n",
              "      <th>25%</th>\n",
              "      <td>0.230000</td>\n",
              "      <td>12.000000</td>\n",
              "      <td>6.000000</td>\n",
              "      <td>4.957500e+02</td>\n",
              "      <td>5.210000</td>\n",
              "      <td>16.750000</td>\n",
              "    </tr>\n",
              "    <tr>\n",
              "      <th>50%</th>\n",
              "      <td>0.450000</td>\n",
              "      <td>20.000000</td>\n",
              "      <td>8.000000</td>\n",
              "      <td>3.032000e+03</td>\n",
              "      <td>7.670000</td>\n",
              "      <td>23.320000</td>\n",
              "    </tr>\n",
              "    <tr>\n",
              "      <th>75%</th>\n",
              "      <td>0.680000</td>\n",
              "      <td>29.000000</td>\n",
              "      <td>12.000000</td>\n",
              "      <td>3.560525e+04</td>\n",
              "      <td>86.537500</td>\n",
              "      <td>57.122500</td>\n",
              "    </tr>\n",
              "    <tr>\n",
              "      <th>max</th>\n",
              "      <td>1.000000</td>\n",
              "      <td>73.000000</td>\n",
              "      <td>50.000000</td>\n",
              "      <td>1.179279e+08</td>\n",
              "      <td>382385.670000</td>\n",
              "      <td>99.980000</td>\n",
              "    </tr>\n",
              "  </tbody>\n",
              "</table>\n",
              "</div>"
            ],
            "text/plain": [
              "       Artist_Reputation       Height  ...  Price_Of_Sculpture  Base_Shipping_Price\n",
              "count        9028.000000  9506.000000  ...        10000.000000         10000.000000\n",
              "mean            0.462369    21.591521  ...         1145.936085            37.038181\n",
              "std             0.268147    11.871639  ...         8353.013952            26.677378\n",
              "min             0.000000     3.000000  ...            3.000000            10.000000\n",
              "25%             0.230000    12.000000  ...            5.210000            16.750000\n",
              "50%             0.450000    20.000000  ...            7.670000            23.320000\n",
              "75%             0.680000    29.000000  ...           86.537500            57.122500\n",
              "max             1.000000    73.000000  ...       382385.670000            99.980000\n",
              "\n",
              "[8 rows x 6 columns]"
            ]
          },
          "metadata": {
            "tags": []
          },
          "execution_count": 9
        }
      ]
    },
    {
      "cell_type": "code",
      "metadata": {
        "id": "KIy6GUAu4gy_"
      },
      "source": [
        "# Drop features missing more than 30% data\r\n",
        "# calculating the % of missing data for each features\r\n",
        "\r\n",
        "missing_features=data.isnull().mean().sort_values(ascending=False)"
      ],
      "execution_count": null,
      "outputs": []
    },
    {
      "cell_type": "code",
      "metadata": {
        "colab": {
          "base_uri": "https://localhost:8080/"
        },
        "id": "FNM6hENDRPAM",
        "outputId": "3ffcabfd-ea81-4a7e-dda4-5a1b9a4edf6c"
      },
      "source": [
        "missing_features.head(10)"
      ],
      "execution_count": null,
      "outputs": [
        {
          "output_type": "execute_result",
          "data": {
            "text/plain": [
              "Transport             0.1624\n",
              "Artist_Reputation     0.0972\n",
              "Remote_Location       0.0771\n",
              "Material              0.0764\n",
              "Weight                0.0736\n",
              "Width                 0.0725\n",
              "Height                0.0494\n",
              "Customer_Location     0.0000\n",
              "Price_Of_Sculpture    0.0000\n",
              "Artist_Name           0.0000\n",
              "dtype: float64"
            ]
          },
          "metadata": {
            "tags": []
          },
          "execution_count": 13
        }
      ]
    },
    {
      "cell_type": "code",
      "metadata": {
        "colab": {
          "base_uri": "https://localhost:8080/"
        },
        "id": "bKnGK8kbRkH6",
        "outputId": "2d7d7b34-f8c2-44f2-a36d-bd3b9885ad29"
      },
      "source": [
        "data.dtypes"
      ],
      "execution_count": null,
      "outputs": [
        {
          "output_type": "execute_result",
          "data": {
            "text/plain": [
              "Customer_Id               object\n",
              "Artist_Name               object\n",
              "Artist_Reputation        float64\n",
              "Height                   float64\n",
              "Width                    float64\n",
              "Weight                   float64\n",
              "Material                  object\n",
              "Price_Of_Sculpture       float64\n",
              "Base_Shipping_Price      float64\n",
              "International             object\n",
              "Express_Shipment          object\n",
              "Installation_Included     object\n",
              "Transport                 object\n",
              "Fragile                   object\n",
              "Customer_Information      object\n",
              "Remote_Location           object\n",
              "Scheduled_Date            object\n",
              "Delivery_Date             object\n",
              "Customer_Location         object\n",
              "dtype: object"
            ]
          },
          "metadata": {
            "tags": []
          },
          "execution_count": 16
        }
      ]
    },
    {
      "cell_type": "code",
      "metadata": {
        "colab": {
          "base_uri": "https://localhost:8080/"
        },
        "id": "mFrmE9GvR6DO",
        "outputId": "8d64bbc6-4a0a-45a6-b4ef-e681cb4226c1"
      },
      "source": [
        "data['Transport'].isnull().sum()"
      ],
      "execution_count": null,
      "outputs": [
        {
          "output_type": "execute_result",
          "data": {
            "text/plain": [
              "1624"
            ]
          },
          "metadata": {
            "tags": []
          },
          "execution_count": 18
        }
      ]
    },
    {
      "cell_type": "code",
      "metadata": {
        "colab": {
          "base_uri": "https://localhost:8080/",
          "height": 296
        },
        "id": "xfAOiWT9SFlQ",
        "outputId": "a8949198-4590-4aa8-ab89-bbf2519bd389"
      },
      "source": [
        "sns.boxplot(x=data['Width'])"
      ],
      "execution_count": null,
      "outputs": [
        {
          "output_type": "execute_result",
          "data": {
            "text/plain": [
              "<matplotlib.axes._subplots.AxesSubplot at 0x7f7898efbef0>"
            ]
          },
          "metadata": {
            "tags": []
          },
          "execution_count": 29
        },
        {
          "output_type": "display_data",
          "data": {
            "image/png": "[encoded data removed]",
            "text/plain": [
              "<Figure size 432x288 with 1 Axes>"
            ]
          },
          "metadata": {
            "tags": []
          }
        }
      ]
    },
    {
      "cell_type": "code",
      "metadata": {
        "colab": {
          "base_uri": "https://localhost:8080/",
          "height": 296
        },
        "id": "fjf39VaFUIhU",
        "outputId": "a2c430d1-166c-4e50-c70a-abadde3665da"
      },
      "source": [
        "sns.boxplot(x=data['Height'])"
      ],
      "execution_count": null,
      "outputs": [
        {
          "output_type": "execute_result",
          "data": {
            "text/plain": [
              "<matplotlib.axes._subplots.AxesSubplot at 0x7f7898f73828>"
            ]
          },
          "metadata": {
            "tags": []
          },
          "execution_count": 26
        },
        {
          "output_type": "display_data",
          "data": {
            "image/png": "[encoded data removed]",
            "text/plain": [
              "<Figure size 432x288 with 1 Axes>"
            ]
          },
          "metadata": {
            "tags": []
          }
        }
      ]
    },
    {
      "cell_type": "code",
      "metadata": {
        "colab": {
          "base_uri": "https://localhost:8080/",
          "height": 296
        },
        "id": "Ng7eUfk4ZaQK",
        "outputId": "030691b8-ef0b-4307-cd38-854bf6e4bc98"
      },
      "source": [
        "sns.boxplot(x=data['Weight'])"
      ],
      "execution_count": null,
      "outputs": [
        {
          "output_type": "execute_result",
          "data": {
            "text/plain": [
              "<matplotlib.axes._subplots.AxesSubplot at 0x7f7898ef9390>"
            ]
          },
          "metadata": {
            "tags": []
          },
          "execution_count": 27
        },
        {
          "output_type": "display_data",
          "data": {
            "image/png": "[encoded data removed]",
            "text/plain": [
              "<Figure size 432x288 with 1 Axes>"
            ]
          },
          "metadata": {
            "tags": []
          }
        }
      ]
    },
    {
      "cell_type": "code",
      "metadata": {
        "colab": {
          "base_uri": "https://localhost:8080/"
        },
        "id": "_zX15-3ZZfsv",
        "outputId": "a64cf516-4e1a-422b-ccc4-6777bd30adab"
      },
      "source": [
        "out=[]\r\n",
        "def Zscore_outlier(df):\r\n",
        "    m = np.mean(df)\r\n",
        "    sd = np.std(df)\r\n",
        "    for i in df: \r\n",
        "        z = (i-m)/sd\r\n",
        "        if np.abs(z) > 3: \r\n",
        "            out.append(i)\r\n",
        "    print(\"Outliers:\",out)\r\n",
        "Zscore_outlier(data['Weight'])"
      ],
      "execution_count": null,
      "outputs": [
        {
          "output_type": "stream",
          "text": [
            "Outliers: [23972911.0, 11196264.0, 12496971.0, 17895571.0, 14616806.0, 12247852.0, 10712360.0, 14083967.0, 9724016.0, 13122717.0, 29282087.0, 26793635.0, 44587296.0, 18169592.0, 47544217.0, 12474924.0, 10740646.0, 11170102.0, 9288173.0, 17101644.0, 25254560.0, 19453774.0, 8691641.0, 12025261.0, 22094065.0, 10366187.0, 10148222.0, 11811959.0, 20346568.0, 19091622.0, 9117294.0, 16372329.0, 13037599.0, 9502360.0, 27317777.0, 9773200.0, 11075102.0, 25165789.0, 8315113.0, 14797323.0, 9294079.0, 13817875.0, 24039379.0, 47717848.0, 16007003.0, 15562715.0, 23884847.0, 8385994.0, 49145353.0, 10078717.0, 9719857.0, 53118478.0, 8325677.0, 19388767.0, 13423877.0, 14405551.0, 117927869.0, 9144579.0, 8786922.0, 17704429.0, 16841581.0, 12961980.0, 10104492.0, 15299202.0, 8597138.0, 15989786.0, 12206681.0, 8421872.0, 12710876.0, 16994302.0, 16314708.0, 25693893.0, 30636442.0, 11492124.0, 8838545.0, 19165757.0, 23362827.0, 36928110.0, 9285034.0, 8825669.0, 17530199.0, 8987408.0, 11143982.0, 9760241.0, 64595001.0, 38385653.0, 9303370.0, 10082717.0, 9548170.0, 9099354.0, 37460807.0, 53376552.0, 25701299.0, 11132863.0, 45898991.0, 11802668.0]\n"
          ],
          "name": "stdout"
        }
      ]
    },
    {
      "cell_type": "code",
      "metadata": {
        "colab": {
          "base_uri": "https://localhost:8080/",
          "height": 661
        },
        "id": "Dgf49zS6mplZ",
        "outputId": "3c9d8761-7849-477e-8345-e1f092e104ea"
      },
      "source": [
        "#median imputation\r\n",
        "sns.boxplot(data['Height'])\r\n",
        "plt.title(\"Box Plot before mean imputation\")\r\n",
        "plt.show()\r\n",
        "q1=data['Height'].quantile(0.25)\r\n",
        "q3 = data['Height'].quantile(0.75)\r\n",
        "iqr = q3-q1\r\n",
        "Lower_tail = q1 - 1.5 * iqr\r\n",
        "Upper_tail = q3 + 1.5 * iqr\r\n",
        "m = np.mean(data['Height'])\r\n",
        "for i in data['Height']:\r\n",
        "    if i > Upper_tail or i < Lower_tail:\r\n",
        "            data['Height'] = data['Height'].replace(i, m)\r\n",
        "sns.boxplot(data['Height'])\r\n",
        "plt.title(\"Box Plot after mean imputation\")\r\n",
        "plt.show() "
      ],
      "execution_count": null,
      "outputs": [
        {
          "output_type": "stream",
          "text": [
            "/usr/local/lib/python3.6/dist-packages/seaborn/_decorators.py:43: FutureWarning: Pass the following variable as a keyword arg: x. From version 0.12, the only valid positional argument will be `data`, and passing other arguments without an explicit keyword will result in an error or misinterpretation.\n",
            "  FutureWarning\n"
          ],
          "name": "stderr"
        },
        {
          "output_type": "display_data",
          "data": {
            "image/png": "[encoded data removed]",
            "text/plain": [
              "<Figure size 432x288 with 1 Axes>"
            ]
          },
          "metadata": {
            "tags": []
          }
        },
        {
          "output_type": "stream",
          "text": [
            "/usr/local/lib/python3.6/dist-packages/seaborn/_decorators.py:43: FutureWarning: Pass the following variable as a keyword arg: x. From version 0.12, the only valid positional argument will be `data`, and passing other arguments without an explicit keyword will result in an error or misinterpretation.\n",
            "  FutureWarning\n"
          ],
          "name": "stderr"
        },
        {
          "output_type": "display_data",
          "data": {
            "image/png": "[encoded data removed]",
            "text/plain": [
              "<Figure size 432x288 with 1 Axes>"
            ]
          },
          "metadata": {
            "tags": []
          }
        }
      ]
    },
    {
      "cell_type": "code",
      "metadata": {
        "colab": {
          "base_uri": "https://localhost:8080/",
          "height": 661
        },
        "id": "eK7GZ6TxrtVl",
        "outputId": "7d27ecd3-f298-4493-d78f-a9ce48b677b6"
      },
      "source": [
        "sns.boxplot(data['Weight'])\r\n",
        "plt.title(\"Box Plot before mean imputation\")\r\n",
        "plt.show()\r\n",
        "q1=data['Weight'].quantile(0.25)\r\n",
        "q3 = data['Weight'].quantile(0.75)\r\n",
        "iqr = q3-q1\r\n",
        "Lower_tail = q1 - 1.5 * iqr\r\n",
        "Upper_tail = q3 + 1.5 * iqr\r\n",
        "m = np.mean(data['Weight'])\r\n",
        "for i in data['Weight']:\r\n",
        "    if i > Upper_tail or i < Lower_tail:\r\n",
        "            data['Weight'] = data['Weight'].replace(i, m)\r\n",
        "sns.boxplot(data['Weight'])\r\n",
        "plt.title(\"Box Plot after mean imputation\")\r\n",
        "plt.show()"
      ],
      "execution_count": null,
      "outputs": [
        {
          "output_type": "stream",
          "text": [
            "/usr/local/lib/python3.6/dist-packages/seaborn/_decorators.py:43: FutureWarning: Pass the following variable as a keyword arg: x. From version 0.12, the only valid positional argument will be `data`, and passing other arguments without an explicit keyword will result in an error or misinterpretation.\n",
            "  FutureWarning\n"
          ],
          "name": "stderr"
        },
        {
          "output_type": "display_data",
          "data": {
            "image/png": "[encoded data removed]",
            "text/plain": [
              "<Figure size 432x288 with 1 Axes>"
            ]
          },
          "metadata": {
            "tags": []
          }
        },
        {
          "output_type": "stream",
          "text": [
            "/usr/local/lib/python3.6/dist-packages/seaborn/_decorators.py:43: FutureWarning: Pass the following variable as a keyword arg: x. From version 0.12, the only valid positional argument will be `data`, and passing other arguments without an explicit keyword will result in an error or misinterpretation.\n",
            "  FutureWarning\n"
          ],
          "name": "stderr"
        },
        {
          "output_type": "display_data",
          "data": {
            "image/png": "[encoded data removed]",
            "text/plain": [
              "<Figure size 432x288 with 1 Axes>"
            ]
          },
          "metadata": {
            "tags": []
          }
        }
      ]
    },
    {
      "cell_type": "code",
      "metadata": {
        "colab": {
          "base_uri": "https://localhost:8080/",
          "height": 661
        },
        "id": "OcPEm2TntEv3",
        "outputId": "a8c8d2c5-148f-43a3-fc2c-fd344c58df59"
      },
      "source": [
        "sns.boxplot(data['Width'])\r\n",
        "plt.title(\"Box Plot before mean imputation\")\r\n",
        "plt.show()\r\n",
        "q1=data['Width'].quantile(0.25)\r\n",
        "q3 = data['Width'].quantile(0.75)\r\n",
        "iqr = q3-q1\r\n",
        "Lower_tail = q1 - 1.5 * iqr\r\n",
        "Upper_tail = q3 + 1.5 * iqr\r\n",
        "m = np.mean(data['Width'])\r\n",
        "for i in data['Width']:\r\n",
        "    if i > Upper_tail or i < Lower_tail:\r\n",
        "            data['Width'] = data['Width'].replace(i, m)\r\n",
        "sns.boxplot(data['Width'])\r\n",
        "plt.title(\"Box Plot after mean imputation\")\r\n",
        "plt.show()"
      ],
      "execution_count": null,
      "outputs": [
        {
          "output_type": "stream",
          "text": [
            "/usr/local/lib/python3.6/dist-packages/seaborn/_decorators.py:43: FutureWarning: Pass the following variable as a keyword arg: x. From version 0.12, the only valid positional argument will be `data`, and passing other arguments without an explicit keyword will result in an error or misinterpretation.\n",
            "  FutureWarning\n"
          ],
          "name": "stderr"
        },
        {
          "output_type": "display_data",
          "data": {
            "image/png": "[encoded data removed]",
            "text/plain": [
              "<Figure size 432x288 with 1 Axes>"
            ]
          },
          "metadata": {
            "tags": []
          }
        },
        {
          "output_type": "stream",
          "text": [
            "/usr/local/lib/python3.6/dist-packages/seaborn/_decorators.py:43: FutureWarning: Pass the following variable as a keyword arg: x. From version 0.12, the only valid positional argument will be `data`, and passing other arguments without an explicit keyword will result in an error or misinterpretation.\n",
            "  FutureWarning\n"
          ],
          "name": "stderr"
        },
        {
          "output_type": "display_data",
          "data": {
            "image/png": "[encoded data removed]",
            "text/plain": [
              "<Figure size 432x288 with 1 Axes>"
            ]
          },
          "metadata": {
            "tags": []
          }
        }
      ]
    },
    {
      "cell_type": "code",
      "metadata": {
        "id": "Q2dDKq7ftlwX"
      },
      "source": [
        "# Filling null values \r\n",
        "data['Height'] = data['Height'].fillna( data['Height'].dropna().mean() )\r\n",
        "data['Width']=data['Width'].fillna(data['Width'].dropna().mean() )\r\n",
        "data['Weight']=data['Weight'].fillna(data['Weight'].dropna().mean())\r\n",
        "data['Artist_Reputation']=data['Artist_Reputation'].fillna(data['Artist_Reputation'].dropna().mean())"
      ],
      "execution_count": null,
      "outputs": []
    },
    {
      "cell_type": "code",
      "metadata": {
        "colab": {
          "base_uri": "https://localhost:8080/",
          "height": 296
        },
        "id": "cFhw4GTMvKwo",
        "outputId": "28bec6e5-ff84-475c-cd00-f2734510b3c7"
      },
      "source": [
        "sns.boxplot(x=data['Height'])"
      ],
      "execution_count": null,
      "outputs": [
        {
          "output_type": "execute_result",
          "data": {
            "text/plain": [
              "<matplotlib.axes._subplots.AxesSubplot at 0x7f7898b6b470>"
            ]
          },
          "metadata": {
            "tags": []
          },
          "execution_count": 44
        },
        {
          "output_type": "display_data",
          "data": {
            "image/png": "[encoded data removed]",
            "text/plain": [
              "<Figure size 432x288 with 1 Axes>"
            ]
          },
          "metadata": {
            "tags": []
          }
        }
      ]
    },
    {
      "cell_type": "code",
      "metadata": {
        "colab": {
          "base_uri": "https://localhost:8080/",
          "height": 296
        },
        "id": "Tu1xjydOv4-S",
        "outputId": "32d924bd-e4a7-414a-cdcd-62a7d3e9023b"
      },
      "source": [
        "sns.boxplot(x=data['Width'])"
      ],
      "execution_count": null,
      "outputs": [
        {
          "output_type": "execute_result",
          "data": {
            "text/plain": [
              "<matplotlib.axes._subplots.AxesSubplot at 0x7f7898c6bf28>"
            ]
          },
          "metadata": {
            "tags": []
          },
          "execution_count": 45
        },
        {
          "output_type": "display_data",
          "data": {
            "image/png": "[encoded data removed]",
            "text/plain": [
              "<Figure size 432x288 with 1 Axes>"
            ]
          },
          "metadata": {
            "tags": []
          }
        }
      ]
    },
    {
      "cell_type": "code",
      "metadata": {
        "colab": {
          "base_uri": "https://localhost:8080/"
        },
        "id": "dICHp1fLzDUj",
        "outputId": "fd9f5bf6-311e-46b6-ce72-86a53dd18986"
      },
      "source": [
        "data.isnull().sum()"
      ],
      "execution_count": null,
      "outputs": [
        {
          "output_type": "execute_result",
          "data": {
            "text/plain": [
              "Customer_Id                 0\n",
              "Artist_Name                 0\n",
              "Artist_Reputation           0\n",
              "Height                      0\n",
              "Width                       0\n",
              "Weight                      0\n",
              "Material                  764\n",
              "Price_Of_Sculpture          0\n",
              "Base_Shipping_Price         0\n",
              "International               0\n",
              "Express_Shipment            0\n",
              "Installation_Included       0\n",
              "Transport                1624\n",
              "Fragile                     0\n",
              "Customer_Information        0\n",
              "Remote_Location           771\n",
              "Scheduled_Date              0\n",
              "Delivery_Date               0\n",
              "Customer_Location           0\n",
              "dtype: int64"
            ]
          },
          "metadata": {
            "tags": []
          },
          "execution_count": 46
        }
      ]
    },
    {
      "cell_type": "code",
      "metadata": {
        "colab": {
          "base_uri": "https://localhost:8080/"
        },
        "id": "sU321895zI70",
        "outputId": "7d907bd0-f008-4dc9-dd6d-d8975e880134"
      },
      "source": [
        "data['Material'].value_counts(dropna=False)"
      ],
      "execution_count": null,
      "outputs": [
        {
          "output_type": "execute_result",
          "data": {
            "text/plain": [
              "Aluminium    1367\n",
              "Bronze       1363\n",
              "Brass        1340\n",
              "Clay         1313\n",
              "Wood         1307\n",
              "Marble       1302\n",
              "Stone        1244\n",
              "NaN           764\n",
              "Name: Material, dtype: int64"
            ]
          },
          "metadata": {
            "tags": []
          },
          "execution_count": 51
        }
      ]
    },
    {
      "cell_type": "code",
      "metadata": {
        "id": "CejIQBiczTum"
      },
      "source": [
        "data['Remote_Location'].fillna('No',inplace=True)"
      ],
      "execution_count": null,
      "outputs": []
    },
    {
      "cell_type": "code",
      "metadata": {
        "colab": {
          "base_uri": "https://localhost:8080/"
        },
        "id": "o6NGWfCL0iPs",
        "outputId": "b9f44c64-f62b-490d-e9a4-890e7165f05c"
      },
      "source": [
        "data['Transport'].value_counts(dropna=False)"
      ],
      "execution_count": null,
      "outputs": [
        {
          "output_type": "execute_result",
          "data": {
            "text/plain": [
              "Roadways     3366\n",
              "Airways      3033\n",
              "Waterways    1977\n",
              "NaN          1624\n",
              "Name: Transport, dtype: int64"
            ]
          },
          "metadata": {
            "tags": []
          },
          "execution_count": 52
        }
      ]
    },
    {
      "cell_type": "code",
      "metadata": {
        "colab": {
          "background_save": true
        },
        "id": "n6ev2eXc1IAo"
      },
      "source": [
        "data['Transport'].fillna(0,inppace=True)\r\n",
        "data['Material'].fillna(0,inppace=True)\r\n"
      ],
      "execution_count": null,
      "outputs": []
    },
    {
      "cell_type": "code",
      "metadata": {
        "colab": {
          "background_save": true
        },
        "id": "IgYLJlPv2BsT",
        "outputId": "400891dd-73b0-43b2-f60d-4bb916c8a8bc"
      },
      "source": [
        "data"
      ],
      "execution_count": null,
      "outputs": [
        {
          "output_type": "execute_result",
          "data": {
            "text/plain": [
              "Customer_Id              0\n",
              "Artist_Name              0\n",
              "Artist_Reputation        0\n",
              "Height                   0\n",
              "Width                    0\n",
              "Weight                   0\n",
              "Material                 0\n",
              "Price_Of_Sculpture       0\n",
              "Base_Shipping_Price      0\n",
              "International            0\n",
              "Express_Shipment         0\n",
              "Installation_Included    0\n",
              "Transport                0\n",
              "Fragile                  0\n",
              "Customer_Information     0\n",
              "Remote_Location          0\n",
              "Scheduled_Date           0\n",
              "Delivery_Date            0\n",
              "Customer_Location        0\n",
              "dtype: int64"
            ]
          },
          "metadata": {
            "tags": []
          },
          "execution_count": 0
        }
      ]
    }
  ]
}