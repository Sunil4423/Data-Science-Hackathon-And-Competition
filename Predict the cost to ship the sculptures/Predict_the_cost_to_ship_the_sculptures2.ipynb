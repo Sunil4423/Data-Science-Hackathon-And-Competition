{
  "nbformat": 4,
  "nbformat_minor": 0,
  "metadata": {
    "colab": {
      "name": "Predict the cost to ship the sculptures2.ipynb",
      "provenance": []
    },
    "kernelspec": {
      "display_name": "Python 3",
      "name": "python3"
    }
  },
  "cells": [
    {
      "cell_type": "code",
      "metadata": {
        "id": "aKafdudmYES_"
      },
      "source": [
        "import pandas as pd\r\n",
        "import numpy as np\r\n",
        "import matplotlib.pyplot as plt\r\n",
        "import seaborn as sns\r\n"
      ],
      "execution_count": null,
      "outputs": []
    },
    {
      "cell_type": "code",
      "metadata": {
        "id": "YszdDn5TYLhi"
      },
      "source": [
        "train=pd.read_csv('/content/drive/MyDrive/Data Science/Predict the cost to ship the sculptures/dataset/train.csv')\r\n",
        "test=pd.read_csv('/content/drive/MyDrive/Data Science/Predict the cost to ship the sculptures/dataset/test.csv')"
      ],
      "execution_count": null,
      "outputs": []
    },
    {
      "cell_type": "code",
      "metadata": {
        "id": "LDkifVRXn-nV"
      },
      "source": [
        "train1=train"
      ],
      "execution_count": null,
      "outputs": []
    },
    {
      "cell_type": "code",
      "metadata": {
        "id": "XPLF2NwkYOa3"
      },
      "source": [
        "test.columns=[c.replace(\" \",\"_\") for c in test.columns]\r\n",
        "train.columns=[c.replace(\" \",\"_\") for c in train.columns]"
      ],
      "execution_count": null,
      "outputs": []
    },
    {
      "cell_type": "code",
      "metadata": {
        "colab": {
          "base_uri": "https://localhost:8080/",
          "height": 309
        },
        "id": "coB0Jjo1aNEJ",
        "outputId": "c96a2ce4-1cc8-47ad-8703-85503a250475"
      },
      "source": [
        "# combining the test and train dataset\r\n",
        "Cost=train.Cost\r\n",
        "train.drop('Cost',axis=1,inplace=True)\r\n",
        "Customer_Id=test.Customer_Id\r\n",
        "data=train.append(test)\r\n",
        "data.tail()"
      ],
      "execution_count": null,
      "outputs": [
        {
          "output_type": "execute_result",
          "data": {
            "text/html": [
              "<div>\n",
              "<style scoped>\n",
              "    .dataframe tbody tr th:only-of-type {\n",
              "        vertical-align: middle;\n",
              "    }\n",
              "\n",
              "    .dataframe tbody tr th {\n",
              "        vertical-align: top;\n",
              "    }\n",
              "\n",
              "    .dataframe thead th {\n",
              "        text-align: right;\n",
              "    }\n",
              "</style>\n",
              "<table border=\"1\" class=\"dataframe\">\n",
              "  <thead>\n",
              "    <tr style=\"text-align: right;\">\n",
              "      <th></th>\n",
              "      <th>Customer_Id</th>\n",
              "      <th>Artist_Name</th>\n",
              "      <th>Artist_Reputation</th>\n",
              "      <th>Height</th>\n",
              "      <th>Width</th>\n",
              "      <th>Weight</th>\n",
              "      <th>Material</th>\n",
              "      <th>Price_Of_Sculpture</th>\n",
              "      <th>Base_Shipping_Price</th>\n",
              "      <th>International</th>\n",
              "      <th>Express_Shipment</th>\n",
              "      <th>Installation_Included</th>\n",
              "      <th>Transport</th>\n",
              "      <th>Fragile</th>\n",
              "      <th>Customer_Information</th>\n",
              "      <th>Remote_Location</th>\n",
              "      <th>Scheduled_Date</th>\n",
              "      <th>Delivery_Date</th>\n",
              "      <th>Customer_Location</th>\n",
              "    </tr>\n",
              "  </thead>\n",
              "  <tbody>\n",
              "    <tr>\n",
              "      <th>3495</th>\n",
              "      <td>fffe3200300037003100</td>\n",
              "      <td>Orlando Miller</td>\n",
              "      <td>0.36</td>\n",
              "      <td>13.0</td>\n",
              "      <td>6.0</td>\n",
              "      <td>23511.0</td>\n",
              "      <td>Marble</td>\n",
              "      <td>78.01</td>\n",
              "      <td>88.70</td>\n",
              "      <td>No</td>\n",
              "      <td>Yes</td>\n",
              "      <td>No</td>\n",
              "      <td>Airways</td>\n",
              "      <td>No</td>\n",
              "      <td>Wealthy</td>\n",
              "      <td>No</td>\n",
              "      <td>02/09/16</td>\n",
              "      <td>02/09/16</td>\n",
              "      <td>Smithville, IA 22615</td>\n",
              "    </tr>\n",
              "    <tr>\n",
              "      <th>3496</th>\n",
              "      <td>fffe390031003100</td>\n",
              "      <td>Javier Loughry</td>\n",
              "      <td>0.72</td>\n",
              "      <td>29.0</td>\n",
              "      <td>14.0</td>\n",
              "      <td>NaN</td>\n",
              "      <td>Bronze</td>\n",
              "      <td>214.85</td>\n",
              "      <td>80.28</td>\n",
              "      <td>Yes</td>\n",
              "      <td>Yes</td>\n",
              "      <td>No</td>\n",
              "      <td>Airways</td>\n",
              "      <td>No</td>\n",
              "      <td>Wealthy</td>\n",
              "      <td>No</td>\n",
              "      <td>11/26/18</td>\n",
              "      <td>11/30/18</td>\n",
              "      <td>Kennethstad, NE 65012</td>\n",
              "    </tr>\n",
              "    <tr>\n",
              "      <th>3497</th>\n",
              "      <td>fffe3200350031003700</td>\n",
              "      <td>Lashawnda Walton</td>\n",
              "      <td>0.59</td>\n",
              "      <td>12.0</td>\n",
              "      <td>6.0</td>\n",
              "      <td>NaN</td>\n",
              "      <td>Brass</td>\n",
              "      <td>8.91</td>\n",
              "      <td>19.58</td>\n",
              "      <td>No</td>\n",
              "      <td>No</td>\n",
              "      <td>Yes</td>\n",
              "      <td>Airways</td>\n",
              "      <td>No</td>\n",
              "      <td>Working Class</td>\n",
              "      <td>No</td>\n",
              "      <td>04/01/17</td>\n",
              "      <td>04/02/17</td>\n",
              "      <td>Lake Christian, AL 95571</td>\n",
              "    </tr>\n",
              "    <tr>\n",
              "      <th>3498</th>\n",
              "      <td>fffe3100380031003000</td>\n",
              "      <td>Rita Battee</td>\n",
              "      <td>NaN</td>\n",
              "      <td>17.0</td>\n",
              "      <td>9.0</td>\n",
              "      <td>565.0</td>\n",
              "      <td>Aluminium</td>\n",
              "      <td>6.75</td>\n",
              "      <td>10.89</td>\n",
              "      <td>No</td>\n",
              "      <td>Yes</td>\n",
              "      <td>Yes</td>\n",
              "      <td>Airways</td>\n",
              "      <td>No</td>\n",
              "      <td>Wealthy</td>\n",
              "      <td>No</td>\n",
              "      <td>06/28/17</td>\n",
              "      <td>06/28/17</td>\n",
              "      <td>West Regina, UT 49761</td>\n",
              "    </tr>\n",
              "    <tr>\n",
              "      <th>3499</th>\n",
              "      <td>fffe3200340037003300</td>\n",
              "      <td>Paul Jones</td>\n",
              "      <td>0.97</td>\n",
              "      <td>25.0</td>\n",
              "      <td>11.0</td>\n",
              "      <td>989903.0</td>\n",
              "      <td>Stone</td>\n",
              "      <td>4768.42</td>\n",
              "      <td>31.38</td>\n",
              "      <td>No</td>\n",
              "      <td>Yes</td>\n",
              "      <td>No</td>\n",
              "      <td>Airways</td>\n",
              "      <td>No</td>\n",
              "      <td>Working Class</td>\n",
              "      <td>No</td>\n",
              "      <td>02/19/19</td>\n",
              "      <td>02/15/19</td>\n",
              "      <td>Carsonshire, KY 50092</td>\n",
              "    </tr>\n",
              "  </tbody>\n",
              "</table>\n",
              "</div>"
            ],
            "text/plain": [
              "               Customer_Id  ...         Customer_Location\n",
              "3495  fffe3200300037003100  ...      Smithville, IA 22615\n",
              "3496      fffe390031003100  ...     Kennethstad, NE 65012\n",
              "3497  fffe3200350031003700  ...  Lake Christian, AL 95571\n",
              "3498  fffe3100380031003000  ...     West Regina, UT 49761\n",
              "3499  fffe3200340037003300  ...     Carsonshire, KY 50092\n",
              "\n",
              "[5 rows x 19 columns]"
            ]
          },
          "metadata": {
            "tags": []
          },
          "execution_count": 5
        }
      ]
    },
    {
      "cell_type": "code",
      "metadata": {
        "id": "mardeXBGaPYL"
      },
      "source": [
        "data = data.drop(columns = ['Customer_Id', 'Artist_Name'])"
      ],
      "execution_count": null,
      "outputs": []
    },
    {
      "cell_type": "code",
      "metadata": {
        "colab": {
          "base_uri": "https://localhost:8080/"
        },
        "id": "HmO_wUr9aPVH",
        "outputId": "e742be0a-9555-41b1-c379-b12836bb5eb9"
      },
      "source": [
        "print(data.shape)\r\n",
        "data.drop_duplicates(inplace=True)\r\n",
        "print(data.shape)"
      ],
      "execution_count": null,
      "outputs": [
        {
          "output_type": "stream",
          "text": [
            "(10000, 17)\n",
            "(10000, 17)\n"
          ],
          "name": "stdout"
        }
      ]
    },
    {
      "cell_type": "code",
      "metadata": {
        "id": "3GAjaStwaPNa"
      },
      "source": [
        "# numarical and categorical \r\n",
        "def divideFeatures(df):\r\n",
        "    numberical_features = df.select_dtypes(include=[np.number])\r\n",
        "    categorical_features = df.select_dtypes(include=[np.object])\r\n",
        "    return numberical_features, categorical_features"
      ],
      "execution_count": null,
      "outputs": []
    },
    {
      "cell_type": "code",
      "metadata": {
        "id": "VVl1hJz8bRPK"
      },
      "source": [
        "continuous_features, categorical_features = divideFeatures(data)"
      ],
      "execution_count": null,
      "outputs": []
    },
    {
      "cell_type": "code",
      "metadata": {
        "colab": {
          "base_uri": "https://localhost:8080/",
          "height": 204
        },
        "id": "Us7YpEpLbUxe",
        "outputId": "42e9fe62-cb95-4bc3-91f7-45baa824f688"
      },
      "source": [
        "continuous_features.head()"
      ],
      "execution_count": null,
      "outputs": [
        {
          "output_type": "execute_result",
          "data": {
            "text/html": [
              "<div>\n",
              "<style scoped>\n",
              "    .dataframe tbody tr th:only-of-type {\n",
              "        vertical-align: middle;\n",
              "    }\n",
              "\n",
              "    .dataframe tbody tr th {\n",
              "        vertical-align: top;\n",
              "    }\n",
              "\n",
              "    .dataframe thead th {\n",
              "        text-align: right;\n",
              "    }\n",
              "</style>\n",
              "<table border=\"1\" class=\"dataframe\">\n",
              "  <thead>\n",
              "    <tr style=\"text-align: right;\">\n",
              "      <th></th>\n",
              "      <th>Artist_Reputation</th>\n",
              "      <th>Height</th>\n",
              "      <th>Width</th>\n",
              "      <th>Weight</th>\n",
              "      <th>Price_Of_Sculpture</th>\n",
              "      <th>Base_Shipping_Price</th>\n",
              "    </tr>\n",
              "  </thead>\n",
              "  <tbody>\n",
              "    <tr>\n",
              "      <th>0</th>\n",
              "      <td>0.26</td>\n",
              "      <td>17.0</td>\n",
              "      <td>6.0</td>\n",
              "      <td>4128.0</td>\n",
              "      <td>13.91</td>\n",
              "      <td>16.27</td>\n",
              "    </tr>\n",
              "    <tr>\n",
              "      <th>1</th>\n",
              "      <td>0.28</td>\n",
              "      <td>3.0</td>\n",
              "      <td>3.0</td>\n",
              "      <td>61.0</td>\n",
              "      <td>6.83</td>\n",
              "      <td>15.00</td>\n",
              "    </tr>\n",
              "    <tr>\n",
              "      <th>2</th>\n",
              "      <td>0.07</td>\n",
              "      <td>8.0</td>\n",
              "      <td>5.0</td>\n",
              "      <td>237.0</td>\n",
              "      <td>4.96</td>\n",
              "      <td>21.18</td>\n",
              "    </tr>\n",
              "    <tr>\n",
              "      <th>3</th>\n",
              "      <td>0.12</td>\n",
              "      <td>9.0</td>\n",
              "      <td>NaN</td>\n",
              "      <td>NaN</td>\n",
              "      <td>5.81</td>\n",
              "      <td>16.31</td>\n",
              "    </tr>\n",
              "    <tr>\n",
              "      <th>4</th>\n",
              "      <td>0.15</td>\n",
              "      <td>17.0</td>\n",
              "      <td>6.0</td>\n",
              "      <td>324.0</td>\n",
              "      <td>3.18</td>\n",
              "      <td>11.94</td>\n",
              "    </tr>\n",
              "  </tbody>\n",
              "</table>\n",
              "</div>"
            ],
            "text/plain": [
              "   Artist_Reputation  Height  ...  Price_Of_Sculpture  Base_Shipping_Price\n",
              "0               0.26    17.0  ...               13.91                16.27\n",
              "1               0.28     3.0  ...                6.83                15.00\n",
              "2               0.07     8.0  ...                4.96                21.18\n",
              "3               0.12     9.0  ...                5.81                16.31\n",
              "4               0.15    17.0  ...                3.18                11.94\n",
              "\n",
              "[5 rows x 6 columns]"
            ]
          },
          "metadata": {
            "tags": []
          },
          "execution_count": 10
        }
      ]
    },
    {
      "cell_type": "code",
      "metadata": {
        "colab": {
          "base_uri": "https://localhost:8080/",
          "height": 292
        },
        "id": "XGisYAl5bYKn",
        "outputId": "327017b0-287f-46a8-c745-381103dea8ee"
      },
      "source": [
        "categorical_features.head()"
      ],
      "execution_count": null,
      "outputs": [
        {
          "output_type": "execute_result",
          "data": {
            "text/html": [
              "<div>\n",
              "<style scoped>\n",
              "    .dataframe tbody tr th:only-of-type {\n",
              "        vertical-align: middle;\n",
              "    }\n",
              "\n",
              "    .dataframe tbody tr th {\n",
              "        vertical-align: top;\n",
              "    }\n",
              "\n",
              "    .dataframe thead th {\n",
              "        text-align: right;\n",
              "    }\n",
              "</style>\n",
              "<table border=\"1\" class=\"dataframe\">\n",
              "  <thead>\n",
              "    <tr style=\"text-align: right;\">\n",
              "      <th></th>\n",
              "      <th>Material</th>\n",
              "      <th>International</th>\n",
              "      <th>Express_Shipment</th>\n",
              "      <th>Installation_Included</th>\n",
              "      <th>Transport</th>\n",
              "      <th>Fragile</th>\n",
              "      <th>Customer_Information</th>\n",
              "      <th>Remote_Location</th>\n",
              "      <th>Scheduled_Date</th>\n",
              "      <th>Delivery_Date</th>\n",
              "      <th>Customer_Location</th>\n",
              "    </tr>\n",
              "  </thead>\n",
              "  <tbody>\n",
              "    <tr>\n",
              "      <th>0</th>\n",
              "      <td>Brass</td>\n",
              "      <td>Yes</td>\n",
              "      <td>Yes</td>\n",
              "      <td>No</td>\n",
              "      <td>Airways</td>\n",
              "      <td>No</td>\n",
              "      <td>Working Class</td>\n",
              "      <td>No</td>\n",
              "      <td>06/07/15</td>\n",
              "      <td>06/03/15</td>\n",
              "      <td>New Michelle, OH 50777</td>\n",
              "    </tr>\n",
              "    <tr>\n",
              "      <th>1</th>\n",
              "      <td>Brass</td>\n",
              "      <td>No</td>\n",
              "      <td>No</td>\n",
              "      <td>No</td>\n",
              "      <td>Roadways</td>\n",
              "      <td>No</td>\n",
              "      <td>Working Class</td>\n",
              "      <td>No</td>\n",
              "      <td>03/06/17</td>\n",
              "      <td>03/05/17</td>\n",
              "      <td>New Michaelport, WY 12072</td>\n",
              "    </tr>\n",
              "    <tr>\n",
              "      <th>2</th>\n",
              "      <td>Clay</td>\n",
              "      <td>No</td>\n",
              "      <td>No</td>\n",
              "      <td>No</td>\n",
              "      <td>Roadways</td>\n",
              "      <td>Yes</td>\n",
              "      <td>Working Class</td>\n",
              "      <td>Yes</td>\n",
              "      <td>03/09/15</td>\n",
              "      <td>03/08/15</td>\n",
              "      <td>Bowmanshire, WA 19241</td>\n",
              "    </tr>\n",
              "    <tr>\n",
              "      <th>3</th>\n",
              "      <td>Aluminium</td>\n",
              "      <td>No</td>\n",
              "      <td>No</td>\n",
              "      <td>No</td>\n",
              "      <td>NaN</td>\n",
              "      <td>No</td>\n",
              "      <td>Wealthy</td>\n",
              "      <td>Yes</td>\n",
              "      <td>05/24/15</td>\n",
              "      <td>05/20/15</td>\n",
              "      <td>East Robyn, KY 86375</td>\n",
              "    </tr>\n",
              "    <tr>\n",
              "      <th>4</th>\n",
              "      <td>Aluminium</td>\n",
              "      <td>Yes</td>\n",
              "      <td>Yes</td>\n",
              "      <td>Yes</td>\n",
              "      <td>Airways</td>\n",
              "      <td>No</td>\n",
              "      <td>Working Class</td>\n",
              "      <td>No</td>\n",
              "      <td>12/18/16</td>\n",
              "      <td>12/14/16</td>\n",
              "      <td>Aprilside, PA 52793</td>\n",
              "    </tr>\n",
              "  </tbody>\n",
              "</table>\n",
              "</div>"
            ],
            "text/plain": [
              "    Material International  ... Delivery_Date          Customer_Location\n",
              "0      Brass           Yes  ...      06/03/15     New Michelle, OH 50777\n",
              "1      Brass            No  ...      03/05/17  New Michaelport, WY 12072\n",
              "2       Clay            No  ...      03/08/15      Bowmanshire, WA 19241\n",
              "3  Aluminium            No  ...      05/20/15       East Robyn, KY 86375\n",
              "4  Aluminium           Yes  ...      12/14/16        Aprilside, PA 52793\n",
              "\n",
              "[5 rows x 11 columns]"
            ]
          },
          "metadata": {
            "tags": []
          },
          "execution_count": 11
        }
      ]
    },
    {
      "cell_type": "code",
      "metadata": {
        "colab": {
          "base_uri": "https://localhost:8080/",
          "height": 786
        },
        "id": "WWO6GvnGbiqO",
        "outputId": "8b70e360-ede0-40a6-d4e9-417f7af3fc73"
      },
      "source": [
        "#checking the outliers \r\n",
        "fig = plt.figure(figsize=(16,16))\r\n",
        "for i in range(len(continuous_features.columns)):\r\n",
        "    fig.add_subplot(3, 4, i+1)\r\n",
        "    sns.boxplot(y=continuous_features.iloc[:,i])\r\n",
        "\r\n",
        "plt.tight_layout()\r\n",
        "plt.show()"
      ],
      "execution_count": null,
      "outputs": [
        {
          "output_type": "display_data",
          "data": {
            "image/png": "[encoded data removed]",
            "text/plain": [
              "<Figure size 1152x1152 with 6 Axes>"
            ]
          },
          "metadata": {
            "tags": [],
            "needs_background": "light"
          }
        }
      ]
    },
    {
      "cell_type": "code",
      "metadata": {
        "colab": {
          "base_uri": "https://localhost:8080/",
          "height": 508
        },
        "id": "Lz3nFZWlb0w3",
        "outputId": "5f6b64d0-fcc5-43a9-800e-9077fe520022"
      },
      "source": [
        "# visualizing the categorical featuers\r\n",
        "\r\n",
        "fig = plt.figure(figsize=(16,30))\r\n",
        "for i in range(len(categorical_features.columns[:-3])):\r\n",
        "    fig.add_subplot(9, 5, i+1)\r\n",
        "    categorical_features.iloc[:,i].hist()\r\n",
        "    plt.xlabel(categorical_features.columns[i])\r\n",
        "\r\n",
        "plt.tight_layout()\r\n",
        "plt.show()"
      ],
      "execution_count": null,
      "outputs": [
        {
          "output_type": "display_data",
          "data": {
            "image/png": "[encoded data removed]",
            "text/plain": [
              "<Figure size 1152x2160 with 8 Axes>"
            ]
          },
          "metadata": {
            "tags": [],
            "needs_background": "light"
          }
        }
      ]
    },
    {
      "cell_type": "code",
      "metadata": {
        "colab": {
          "base_uri": "https://localhost:8080/",
          "height": 705
        },
        "id": "HnNtM5p7dtcy",
        "outputId": "b808dfe6-d66d-46f7-cf1f-4b252bf0c609"
      },
      "source": [
        "corr = data.corr()\r\n",
        "plt.figure(figsize=(18,10))\r\n",
        "sns.heatmap(corr, annot=True, square=True)\r\n",
        "plt.show"
      ],
      "execution_count": null,
      "outputs": [
        {
          "output_type": "execute_result",
          "data": {
            "text/plain": [
              "<function matplotlib.pyplot.show>"
            ]
          },
          "metadata": {
            "tags": []
          },
          "execution_count": 14
        },
        {
          "output_type": "display_data",
          "data": {
            "image/png": "[encoded data removed]",
            "text/plain": [
              "<Figure size 1296x720 with 2 Axes>"
            ]
          },
          "metadata": {
            "tags": [],
            "needs_background": "light"
          }
        }
      ]
    },
    {
      "cell_type": "code",
      "metadata": {
        "id": "kNGHLvkSd3kK"
      },
      "source": [
        "def fillNan(df, col, value):\r\n",
        "    df[col].fillna(value, inplace=True)"
      ],
      "execution_count": null,
      "outputs": []
    },
    {
      "cell_type": "code",
      "metadata": {
        "colab": {
          "base_uri": "https://localhost:8080/"
        },
        "id": "-06Zcvr7eXoQ",
        "outputId": "e8f4a15c-2291-43a1-a13e-4d5ae1ed605e"
      },
      "source": [
        "fillNan(data, 'Artist_Reputation', data['Artist_Reputation'].median())\r\n",
        "data['Artist_Reputation'].isna().sum()"
      ],
      "execution_count": null,
      "outputs": [
        {
          "output_type": "execute_result",
          "data": {
            "text/plain": [
              "0"
            ]
          },
          "metadata": {
            "tags": []
          },
          "execution_count": 16
        }
      ]
    },
    {
      "cell_type": "code",
      "metadata": {
        "id": "zNRoWPdeelli"
      },
      "source": [
        "fillNan(data, 'Height', data['Height'].median())\r\n",
        "fillNan(data, 'Width', data['Width'].median())"
      ],
      "execution_count": null,
      "outputs": []
    },
    {
      "cell_type": "code",
      "metadata": {
        "id": "SZpHa9S1ezPY"
      },
      "source": [
        "fillNan(data, 'Weight', data['Weight'].median())"
      ],
      "execution_count": null,
      "outputs": []
    },
    {
      "cell_type": "code",
      "metadata": {
        "colab": {
          "base_uri": "https://localhost:8080/"
        },
        "id": "fLUetJ1ufA4V",
        "outputId": "f20334d6-e514-4df5-80c4-744bf9a9fce1"
      },
      "source": [
        "fillNan(data, 'Material', data['Material'].mode()[0])\r\n",
        "data['Material'].isna().sum()"
      ],
      "execution_count": null,
      "outputs": [
        {
          "output_type": "execute_result",
          "data": {
            "text/plain": [
              "0"
            ]
          },
          "metadata": {
            "tags": []
          },
          "execution_count": 19
        }
      ]
    },
    {
      "cell_type": "code",
      "metadata": {
        "colab": {
          "base_uri": "https://localhost:8080/"
        },
        "id": "leStud_1fLGJ",
        "outputId": "ca164bbe-6fd1-452d-9677-60c9bf275e33"
      },
      "source": [
        "fillNan(data, 'Transport', data['Transport'].mode()[0])\r\n",
        "data['Transport'].isna().sum()"
      ],
      "execution_count": null,
      "outputs": [
        {
          "output_type": "execute_result",
          "data": {
            "text/plain": [
              "0"
            ]
          },
          "metadata": {
            "tags": []
          },
          "execution_count": 20
        }
      ]
    },
    {
      "cell_type": "code",
      "metadata": {
        "colab": {
          "base_uri": "https://localhost:8080/"
        },
        "id": "6tCy7C1xfjxb",
        "outputId": "ebfbc2d3-0b9c-41cf-9afb-34ec27280ac4"
      },
      "source": [
        "fillNan(data, 'Remote_Location', data['Remote_Location'].mode()[0])\r\n",
        "data['Remote_Location'].isna().sum()"
      ],
      "execution_count": null,
      "outputs": [
        {
          "output_type": "execute_result",
          "data": {
            "text/plain": [
              "0"
            ]
          },
          "metadata": {
            "tags": []
          },
          "execution_count": 21
        }
      ]
    },
    {
      "cell_type": "code",
      "metadata": {
        "colab": {
          "base_uri": "https://localhost:8080/"
        },
        "id": "bpcgvE6hfpBX",
        "outputId": "9522111c-f71d-4746-8733-e67d447be1fa"
      },
      "source": [
        "data.isnull().sum()"
      ],
      "execution_count": null,
      "outputs": [
        {
          "output_type": "execute_result",
          "data": {
            "text/plain": [
              "Artist_Reputation        0\n",
              "Height                   0\n",
              "Width                    0\n",
              "Weight                   0\n",
              "Material                 0\n",
              "Price_Of_Sculpture       0\n",
              "Base_Shipping_Price      0\n",
              "International            0\n",
              "Express_Shipment         0\n",
              "Installation_Included    0\n",
              "Transport                0\n",
              "Fragile                  0\n",
              "Customer_Information     0\n",
              "Remote_Location          0\n",
              "Scheduled_Date           0\n",
              "Delivery_Date            0\n",
              "Customer_Location        0\n",
              "dtype: int64"
            ]
          },
          "metadata": {
            "tags": []
          },
          "execution_count": 22
        }
      ]
    },
    {
      "cell_type": "code",
      "metadata": {
        "id": "wcTp2ACUfy_Z"
      },
      "source": [
        "data['State'] = data['Customer_Location'].map(lambda x:x.split()[-2])"
      ],
      "execution_count": null,
      "outputs": []
    },
    {
      "cell_type": "code",
      "metadata": {
        "id": "z6KBqcWjgKTT"
      },
      "source": [
        "data.drop(columns=['Customer_Location'], inplace=True)"
      ],
      "execution_count": null,
      "outputs": []
    },
    {
      "cell_type": "code",
      "metadata": {
        "id": "7vl2yF-HgJea"
      },
      "source": [
        "data['Scheduled_Date']=pd.to_datetime(data['Scheduled_Date'])\r\n",
        "data['Delivery_Date'] = pd.to_datetime(data['Delivery_Date'])\r\n",
        "data['schedulediff'] = (data['Delivery_Date']-data['Scheduled_Date']).map(lambda x:str(x).split()[0])"
      ],
      "execution_count": null,
      "outputs": []
    },
    {
      "cell_type": "code",
      "metadata": {
        "id": "kGat7rvHhCAL"
      },
      "source": [
        "data['dday'] = data['Delivery_Date'].dt.day\r\n",
        "data['dmonth'] = data['Delivery_Date'].dt.month\r\n",
        "data['dyear'] = data['Delivery_Date'].dt.year\r\n",
        "data['ddayof_week'] = data['Delivery_Date'].dt.dayofweek"
      ],
      "execution_count": null,
      "outputs": []
    },
    {
      "cell_type": "code",
      "metadata": {
        "id": "xwZhfzVohXHz"
      },
      "source": [
        "data.drop(columns=['Scheduled_Date', 'Delivery_Date'], inplace = True, axis=1)"
      ],
      "execution_count": null,
      "outputs": []
    },
    {
      "cell_type": "code",
      "metadata": {
        "id": "DehVfAWfhhvj"
      },
      "source": [
        "data['schedulediff']=pd.to_numeric(data['schedulediff'])"
      ],
      "execution_count": null,
      "outputs": []
    },
    {
      "cell_type": "code",
      "metadata": {
        "id": "OidfNZH8h_WJ"
      },
      "source": [
        "def no_of_unique_val(df):\r\n",
        "    for col in df:\r\n",
        "        print(f'{col} : {df[col].unique()}')"
      ],
      "execution_count": null,
      "outputs": []
    },
    {
      "cell_type": "code",
      "metadata": {
        "id": "3Ekvik2Gifmg"
      },
      "source": [
        "continuous_data, categorical_data = divideFeatures(data)"
      ],
      "execution_count": null,
      "outputs": []
    },
    {
      "cell_type": "code",
      "metadata": {
        "colab": {
          "base_uri": "https://localhost:8080/"
        },
        "id": "CsBeU0L8iTvm",
        "outputId": "b939b715-1b40-4095-b15a-716c9dc22af2"
      },
      "source": [
        "no_of_unique_val(categorical_data)"
      ],
      "execution_count": null,
      "outputs": [
        {
          "output_type": "stream",
          "text": [
            "Material : ['Brass' 'Clay' 'Aluminium' 'Wood' 'Marble' 'Bronze' 'Stone']\n",
            "International : ['Yes' 'No']\n",
            "Express_Shipment : ['Yes' 'No']\n",
            "Installation_Included : ['No' 'Yes']\n",
            "Transport : ['Airways' 'Roadways' 'Waterways']\n",
            "Fragile : ['No' 'Yes']\n",
            "Customer_Information : ['Working Class' 'Wealthy']\n",
            "Remote_Location : ['No' 'Yes']\n",
            "State : ['OH' 'WY' 'WA' 'KY' 'PA' 'AL' 'WV' 'CA' 'ND' 'GA' 'DC' 'TX' 'CO' 'AE'\n",
            " 'OR' 'MI' 'NM' 'AR' 'AP' 'VT' 'IA' 'MN' 'NH' 'SC' 'AA' 'OK' 'HI' 'RI'\n",
            " 'LA' 'DE' 'ID' 'CT' 'MS' 'FL' 'VA' 'MA' 'KS' 'ME' 'NC' 'NV' 'MD' 'SD'\n",
            " 'WI' 'MT' 'IL' 'AZ' 'AK' 'NY' 'NJ' 'TN' 'NE' 'MO' 'IN' 'UT']\n"
          ],
          "name": "stdout"
        }
      ]
    },
    {
      "cell_type": "code",
      "metadata": {
        "id": "4ulTD-mpiWnc"
      },
      "source": [
        "#binary coding\r\n",
        "yes_no_columns = ['International', 'Express_Shipment', 'Installation_Included', 'Fragile', 'Remote_Location']\r\n",
        "\r\n",
        "for column in yes_no_columns:\r\n",
        "    data[column].replace({'Yes':1, 'No':0}, inplace=True)"
      ],
      "execution_count": null,
      "outputs": []
    },
    {
      "cell_type": "code",
      "metadata": {
        "id": "sKNF7638iwLK"
      },
      "source": [
        "#one Hot encoding for the columns Customer Information, Transport\r\n",
        "data = pd.get_dummies(data=data, columns = ['Customer_Information', 'Transport'])"
      ],
      "execution_count": null,
      "outputs": []
    },
    {
      "cell_type": "code",
      "metadata": {
        "id": "UW8kXBJ0i17R"
      },
      "source": [
        "from sklearn.preprocessing import LabelEncoder\r\n",
        "le = LabelEncoder()\r\n",
        "le_columns=['Material', 'State']\r\n",
        "\r\n",
        "for le_column in le_columns:\r\n",
        "    data[le_column] = le.fit_transform(data[le_column])"
      ],
      "execution_count": null,
      "outputs": []
    },
    {
      "cell_type": "code",
      "metadata": {
        "colab": {
          "base_uri": "https://localhost:8080/",
          "height": 241
        },
        "id": "AVbXB3dYjHGO",
        "outputId": "36ceec1c-7310-4712-e332-778f7e197671"
      },
      "source": [
        "data.head()"
      ],
      "execution_count": null,
      "outputs": [
        {
          "output_type": "execute_result",
          "data": {
            "text/html": [
              "<div>\n",
              "<style scoped>\n",
              "    .dataframe tbody tr th:only-of-type {\n",
              "        vertical-align: middle;\n",
              "    }\n",
              "\n",
              "    .dataframe tbody tr th {\n",
              "        vertical-align: top;\n",
              "    }\n",
              "\n",
              "    .dataframe thead th {\n",
              "        text-align: right;\n",
              "    }\n",
              "</style>\n",
              "<table border=\"1\" class=\"dataframe\">\n",
              "  <thead>\n",
              "    <tr style=\"text-align: right;\">\n",
              "      <th></th>\n",
              "      <th>Artist_Reputation</th>\n",
              "      <th>Height</th>\n",
              "      <th>Width</th>\n",
              "      <th>Weight</th>\n",
              "      <th>Material</th>\n",
              "      <th>Price_Of_Sculpture</th>\n",
              "      <th>Base_Shipping_Price</th>\n",
              "      <th>International</th>\n",
              "      <th>Express_Shipment</th>\n",
              "      <th>Installation_Included</th>\n",
              "      <th>Fragile</th>\n",
              "      <th>Remote_Location</th>\n",
              "      <th>State</th>\n",
              "      <th>schedulediff</th>\n",
              "      <th>dday</th>\n",
              "      <th>dmonth</th>\n",
              "      <th>dyear</th>\n",
              "      <th>ddayof_week</th>\n",
              "      <th>Customer_Information_Wealthy</th>\n",
              "      <th>Customer_Information_Working Class</th>\n",
              "      <th>Transport_Airways</th>\n",
              "      <th>Transport_Roadways</th>\n",
              "      <th>Transport_Waterways</th>\n",
              "    </tr>\n",
              "  </thead>\n",
              "  <tbody>\n",
              "    <tr>\n",
              "      <th>0</th>\n",
              "      <td>0.26</td>\n",
              "      <td>17.0</td>\n",
              "      <td>6.0</td>\n",
              "      <td>4128.0</td>\n",
              "      <td>1</td>\n",
              "      <td>13.91</td>\n",
              "      <td>16.27</td>\n",
              "      <td>1</td>\n",
              "      <td>1</td>\n",
              "      <td>0</td>\n",
              "      <td>0</td>\n",
              "      <td>0</td>\n",
              "      <td>38</td>\n",
              "      <td>-4</td>\n",
              "      <td>3</td>\n",
              "      <td>6</td>\n",
              "      <td>2015</td>\n",
              "      <td>2</td>\n",
              "      <td>0</td>\n",
              "      <td>1</td>\n",
              "      <td>1</td>\n",
              "      <td>0</td>\n",
              "      <td>0</td>\n",
              "    </tr>\n",
              "    <tr>\n",
              "      <th>1</th>\n",
              "      <td>0.28</td>\n",
              "      <td>3.0</td>\n",
              "      <td>3.0</td>\n",
              "      <td>61.0</td>\n",
              "      <td>1</td>\n",
              "      <td>6.83</td>\n",
              "      <td>15.00</td>\n",
              "      <td>0</td>\n",
              "      <td>0</td>\n",
              "      <td>0</td>\n",
              "      <td>0</td>\n",
              "      <td>0</td>\n",
              "      <td>53</td>\n",
              "      <td>-1</td>\n",
              "      <td>5</td>\n",
              "      <td>3</td>\n",
              "      <td>2017</td>\n",
              "      <td>6</td>\n",
              "      <td>0</td>\n",
              "      <td>1</td>\n",
              "      <td>0</td>\n",
              "      <td>1</td>\n",
              "      <td>0</td>\n",
              "    </tr>\n",
              "    <tr>\n",
              "      <th>2</th>\n",
              "      <td>0.07</td>\n",
              "      <td>8.0</td>\n",
              "      <td>5.0</td>\n",
              "      <td>237.0</td>\n",
              "      <td>3</td>\n",
              "      <td>4.96</td>\n",
              "      <td>21.18</td>\n",
              "      <td>0</td>\n",
              "      <td>0</td>\n",
              "      <td>0</td>\n",
              "      <td>1</td>\n",
              "      <td>1</td>\n",
              "      <td>50</td>\n",
              "      <td>-1</td>\n",
              "      <td>8</td>\n",
              "      <td>3</td>\n",
              "      <td>2015</td>\n",
              "      <td>6</td>\n",
              "      <td>0</td>\n",
              "      <td>1</td>\n",
              "      <td>0</td>\n",
              "      <td>1</td>\n",
              "      <td>0</td>\n",
              "    </tr>\n",
              "    <tr>\n",
              "      <th>3</th>\n",
              "      <td>0.12</td>\n",
              "      <td>9.0</td>\n",
              "      <td>8.0</td>\n",
              "      <td>3032.0</td>\n",
              "      <td>0</td>\n",
              "      <td>5.81</td>\n",
              "      <td>16.31</td>\n",
              "      <td>0</td>\n",
              "      <td>0</td>\n",
              "      <td>0</td>\n",
              "      <td>0</td>\n",
              "      <td>1</td>\n",
              "      <td>20</td>\n",
              "      <td>-4</td>\n",
              "      <td>20</td>\n",
              "      <td>5</td>\n",
              "      <td>2015</td>\n",
              "      <td>2</td>\n",
              "      <td>1</td>\n",
              "      <td>0</td>\n",
              "      <td>0</td>\n",
              "      <td>1</td>\n",
              "      <td>0</td>\n",
              "    </tr>\n",
              "    <tr>\n",
              "      <th>4</th>\n",
              "      <td>0.15</td>\n",
              "      <td>17.0</td>\n",
              "      <td>6.0</td>\n",
              "      <td>324.0</td>\n",
              "      <td>0</td>\n",
              "      <td>3.18</td>\n",
              "      <td>11.94</td>\n",
              "      <td>1</td>\n",
              "      <td>1</td>\n",
              "      <td>1</td>\n",
              "      <td>0</td>\n",
              "      <td>0</td>\n",
              "      <td>41</td>\n",
              "      <td>-4</td>\n",
              "      <td>14</td>\n",
              "      <td>12</td>\n",
              "      <td>2016</td>\n",
              "      <td>2</td>\n",
              "      <td>0</td>\n",
              "      <td>1</td>\n",
              "      <td>1</td>\n",
              "      <td>0</td>\n",
              "      <td>0</td>\n",
              "    </tr>\n",
              "  </tbody>\n",
              "</table>\n",
              "</div>"
            ],
            "text/plain": [
              "   Artist_Reputation  Height  ...  Transport_Roadways  Transport_Waterways\n",
              "0               0.26    17.0  ...                   0                    0\n",
              "1               0.28     3.0  ...                   1                    0\n",
              "2               0.07     8.0  ...                   1                    0\n",
              "3               0.12     9.0  ...                   1                    0\n",
              "4               0.15    17.0  ...                   0                    0\n",
              "\n",
              "[5 rows x 23 columns]"
            ]
          },
          "metadata": {
            "tags": []
          },
          "execution_count": 35
        }
      ]
    },
    {
      "cell_type": "code",
      "metadata": {
        "id": "Ta0H7zX7jKLs"
      },
      "source": [
        "data_shuffle =data.sample(frac=1, random_state=12).reset_index(drop=True)"
      ],
      "execution_count": null,
      "outputs": []
    },
    {
      "cell_type": "code",
      "metadata": {
        "id": "ouLNBioQjx0u"
      },
      "source": [
        "df_shuffle = data.sample(frac=1, random_state=12).reset_index(drop=True)"
      ],
      "execution_count": null,
      "outputs": []
    },
    {
      "cell_type": "code",
      "metadata": {
        "colab": {
          "base_uri": "https://localhost:8080/",
          "height": 292
        },
        "id": "jhfpLyHJmdXp",
        "outputId": "a35aec09-8bad-4723-9942-1bd72cace498"
      },
      "source": [
        "train1.head()"
      ],
      "execution_count": null,
      "outputs": [
        {
          "output_type": "execute_result",
          "data": {
            "text/html": [
              "<div>\n",
              "<style scoped>\n",
              "    .dataframe tbody tr th:only-of-type {\n",
              "        vertical-align: middle;\n",
              "    }\n",
              "\n",
              "    .dataframe tbody tr th {\n",
              "        vertical-align: top;\n",
              "    }\n",
              "\n",
              "    .dataframe thead th {\n",
              "        text-align: right;\n",
              "    }\n",
              "</style>\n",
              "<table border=\"1\" class=\"dataframe\">\n",
              "  <thead>\n",
              "    <tr style=\"text-align: right;\">\n",
              "      <th></th>\n",
              "      <th>Customer_Id</th>\n",
              "      <th>Artist_Name</th>\n",
              "      <th>Artist_Reputation</th>\n",
              "      <th>Height</th>\n",
              "      <th>Width</th>\n",
              "      <th>Weight</th>\n",
              "      <th>Material</th>\n",
              "      <th>Price_Of_Sculpture</th>\n",
              "      <th>Base_Shipping_Price</th>\n",
              "      <th>International</th>\n",
              "      <th>Express_Shipment</th>\n",
              "      <th>Installation_Included</th>\n",
              "      <th>Transport</th>\n",
              "      <th>Fragile</th>\n",
              "      <th>Customer_Information</th>\n",
              "      <th>Remote_Location</th>\n",
              "      <th>Scheduled_Date</th>\n",
              "      <th>Delivery_Date</th>\n",
              "      <th>Customer_Location</th>\n",
              "    </tr>\n",
              "  </thead>\n",
              "  <tbody>\n",
              "    <tr>\n",
              "      <th>0</th>\n",
              "      <td>fffe3900350033003300</td>\n",
              "      <td>Billy Jenkins</td>\n",
              "      <td>0.26</td>\n",
              "      <td>17.0</td>\n",
              "      <td>6.0</td>\n",
              "      <td>4128.0</td>\n",
              "      <td>Brass</td>\n",
              "      <td>13.91</td>\n",
              "      <td>16.27</td>\n",
              "      <td>Yes</td>\n",
              "      <td>Yes</td>\n",
              "      <td>No</td>\n",
              "      <td>Airways</td>\n",
              "      <td>No</td>\n",
              "      <td>Working Class</td>\n",
              "      <td>No</td>\n",
              "      <td>06/07/15</td>\n",
              "      <td>06/03/15</td>\n",
              "      <td>New Michelle, OH 50777</td>\n",
              "    </tr>\n",
              "    <tr>\n",
              "      <th>1</th>\n",
              "      <td>fffe3800330031003900</td>\n",
              "      <td>Jean Bryant</td>\n",
              "      <td>0.28</td>\n",
              "      <td>3.0</td>\n",
              "      <td>3.0</td>\n",
              "      <td>61.0</td>\n",
              "      <td>Brass</td>\n",
              "      <td>6.83</td>\n",
              "      <td>15.00</td>\n",
              "      <td>No</td>\n",
              "      <td>No</td>\n",
              "      <td>No</td>\n",
              "      <td>Roadways</td>\n",
              "      <td>No</td>\n",
              "      <td>Working Class</td>\n",
              "      <td>No</td>\n",
              "      <td>03/06/17</td>\n",
              "      <td>03/05/17</td>\n",
              "      <td>New Michaelport, WY 12072</td>\n",
              "    </tr>\n",
              "    <tr>\n",
              "      <th>2</th>\n",
              "      <td>fffe3600370035003100</td>\n",
              "      <td>Laura Miller</td>\n",
              "      <td>0.07</td>\n",
              "      <td>8.0</td>\n",
              "      <td>5.0</td>\n",
              "      <td>237.0</td>\n",
              "      <td>Clay</td>\n",
              "      <td>4.96</td>\n",
              "      <td>21.18</td>\n",
              "      <td>No</td>\n",
              "      <td>No</td>\n",
              "      <td>No</td>\n",
              "      <td>Roadways</td>\n",
              "      <td>Yes</td>\n",
              "      <td>Working Class</td>\n",
              "      <td>Yes</td>\n",
              "      <td>03/09/15</td>\n",
              "      <td>03/08/15</td>\n",
              "      <td>Bowmanshire, WA 19241</td>\n",
              "    </tr>\n",
              "    <tr>\n",
              "      <th>3</th>\n",
              "      <td>fffe350031003300</td>\n",
              "      <td>Robert Chaires</td>\n",
              "      <td>0.12</td>\n",
              "      <td>9.0</td>\n",
              "      <td>NaN</td>\n",
              "      <td>NaN</td>\n",
              "      <td>Aluminium</td>\n",
              "      <td>5.81</td>\n",
              "      <td>16.31</td>\n",
              "      <td>No</td>\n",
              "      <td>No</td>\n",
              "      <td>No</td>\n",
              "      <td>NaN</td>\n",
              "      <td>No</td>\n",
              "      <td>Wealthy</td>\n",
              "      <td>Yes</td>\n",
              "      <td>05/24/15</td>\n",
              "      <td>05/20/15</td>\n",
              "      <td>East Robyn, KY 86375</td>\n",
              "    </tr>\n",
              "    <tr>\n",
              "      <th>4</th>\n",
              "      <td>fffe3900320038003400</td>\n",
              "      <td>Rosalyn Krol</td>\n",
              "      <td>0.15</td>\n",
              "      <td>17.0</td>\n",
              "      <td>6.0</td>\n",
              "      <td>324.0</td>\n",
              "      <td>Aluminium</td>\n",
              "      <td>3.18</td>\n",
              "      <td>11.94</td>\n",
              "      <td>Yes</td>\n",
              "      <td>Yes</td>\n",
              "      <td>Yes</td>\n",
              "      <td>Airways</td>\n",
              "      <td>No</td>\n",
              "      <td>Working Class</td>\n",
              "      <td>No</td>\n",
              "      <td>12/18/16</td>\n",
              "      <td>12/14/16</td>\n",
              "      <td>Aprilside, PA 52793</td>\n",
              "    </tr>\n",
              "  </tbody>\n",
              "</table>\n",
              "</div>"
            ],
            "text/plain": [
              "            Customer_Id  ...          Customer_Location\n",
              "0  fffe3900350033003300  ...     New Michelle, OH 50777\n",
              "1  fffe3800330031003900  ...  New Michaelport, WY 12072\n",
              "2  fffe3600370035003100  ...      Bowmanshire, WA 19241\n",
              "3      fffe350031003300  ...       East Robyn, KY 86375\n",
              "4  fffe3900320038003400  ...        Aprilside, PA 52793\n",
              "\n",
              "[5 rows x 19 columns]"
            ]
          },
          "metadata": {
            "tags": []
          },
          "execution_count": 38
        }
      ]
    },
    {
      "cell_type": "code",
      "metadata": {
        "colab": {
          "base_uri": "https://localhost:8080/"
        },
        "id": "-CJLDWww8A_V",
        "outputId": "9d7eac5f-98e6-45c0-93ed-bae0dcc867b5"
      },
      "source": [
        "from sklearn.preprocessing import StandardScaler\r\n",
        "\r\n",
        "scaler=StandardScaler()\r\n",
        "scaler.fit(data)"
      ],
      "execution_count": null,
      "outputs": [
        {
          "output_type": "execute_result",
          "data": {
            "text/plain": [
              "StandardScaler(copy=True, with_mean=True, with_std=True)"
            ]
          },
          "metadata": {
            "tags": []
          },
          "execution_count": 39
        }
      ]
    },
    {
      "cell_type": "code",
      "metadata": {
        "id": "2UQLSBe68kSa"
      },
      "source": [
        "scaled_data=scaler.transform(data)"
      ],
      "execution_count": null,
      "outputs": []
    },
    {
      "cell_type": "code",
      "metadata": {
        "colab": {
          "base_uri": "https://localhost:8080/"
        },
        "id": "Yong5A1E8yVg",
        "outputId": "f9eb1f1d-294d-49e4-ecba-dad1ca94b24d"
      },
      "source": [
        "scaled_data"
      ],
      "execution_count": null,
      "outputs": [
        {
          "output_type": "execute_result",
          "data": {
            "text/plain": [
              "array([[-0.78952627, -0.38974114, -0.66121747, ...,  1.51560734,\n",
              "        -0.998002  , -0.49640362],\n",
              "       [-0.71103166, -1.59880314, -1.24160615, ..., -0.6598015 ,\n",
              "         1.002002  , -0.49640362],\n",
              "       [-1.53522508, -1.16699528, -0.85468037, ..., -0.6598015 ,\n",
              "         1.002002  , -0.49640362],\n",
              "       ...,\n",
              "       [ 0.50563481, -0.82154899, -0.66121747, ...,  1.51560734,\n",
              "        -0.998002  , -0.49640362],\n",
              "       [-0.04382747, -0.38974114, -0.0808288 , ...,  1.51560734,\n",
              "        -0.998002  , -0.49640362],\n",
              "       [ 1.99703243,  0.30115144,  0.30609699, ...,  1.51560734,\n",
              "        -0.998002  , -0.49640362]])"
            ]
          },
          "metadata": {
            "tags": []
          },
          "execution_count": 42
        }
      ]
    },
    {
      "cell_type": "code",
      "metadata": {
        "id": "IjPgyAr0869I"
      },
      "source": [
        "from sklearn.decomposition import PCA\r\n",
        "pca = PCA(n_components=6)\r\n",
        "pca.fit(data)\r\n",
        "pca_samples = pca.transform(data)"
      ],
      "execution_count": null,
      "outputs": []
    },
    {
      "cell_type": "code",
      "metadata": {
        "colab": {
          "base_uri": "https://localhost:8080/",
          "height": 204
        },
        "id": "EXgX9Lnz865e",
        "outputId": "544db9f2-2030-422d-df84-9b4b54d760bf"
      },
      "source": [
        "ps = pd.DataFrame(pca_samples)\r\n",
        "ps.head()"
      ],
      "execution_count": null,
      "outputs": [
        {
          "output_type": "execute_result",
          "data": {
            "text/html": [
              "<div>\n",
              "<style scoped>\n",
              "    .dataframe tbody tr th:only-of-type {\n",
              "        vertical-align: middle;\n",
              "    }\n",
              "\n",
              "    .dataframe tbody tr th {\n",
              "        vertical-align: top;\n",
              "    }\n",
              "\n",
              "    .dataframe thead th {\n",
              "        text-align: right;\n",
              "    }\n",
              "</style>\n",
              "<table border=\"1\" class=\"dataframe\">\n",
              "  <thead>\n",
              "    <tr style=\"text-align: right;\">\n",
              "      <th></th>\n",
              "      <th>0</th>\n",
              "      <th>1</th>\n",
              "      <th>2</th>\n",
              "      <th>3</th>\n",
              "      <th>4</th>\n",
              "      <th>5</th>\n",
              "    </tr>\n",
              "  </thead>\n",
              "  <tbody>\n",
              "    <tr>\n",
              "      <th>0</th>\n",
              "      <td>-358679.040181</td>\n",
              "      <td>-118.737687</td>\n",
              "      <td>20.609254</td>\n",
              "      <td>-13.304563</td>\n",
              "      <td>1.373221</td>\n",
              "      <td>-12.648183</td>\n",
              "    </tr>\n",
              "    <tr>\n",
              "      <th>1</th>\n",
              "      <td>-362746.043969</td>\n",
              "      <td>-114.328968</td>\n",
              "      <td>24.196706</td>\n",
              "      <td>-28.506793</td>\n",
              "      <td>14.939652</td>\n",
              "      <td>-10.309483</td>\n",
              "    </tr>\n",
              "    <tr>\n",
              "      <th>2</th>\n",
              "      <td>-362570.049938</td>\n",
              "      <td>-116.695239</td>\n",
              "      <td>17.191759</td>\n",
              "      <td>-25.365241</td>\n",
              "      <td>10.733051</td>\n",
              "      <td>-7.387243</td>\n",
              "    </tr>\n",
              "    <tr>\n",
              "      <th>3</th>\n",
              "      <td>-359775.058699</td>\n",
              "      <td>-123.741626</td>\n",
              "      <td>22.003115</td>\n",
              "      <td>4.646095</td>\n",
              "      <td>8.089288</td>\n",
              "      <td>4.450189</td>\n",
              "    </tr>\n",
              "    <tr>\n",
              "      <th>4</th>\n",
              "      <td>-362483.055320</td>\n",
              "      <td>-118.721545</td>\n",
              "      <td>24.850855</td>\n",
              "      <td>-16.316428</td>\n",
              "      <td>0.314754</td>\n",
              "      <td>-1.660229</td>\n",
              "    </tr>\n",
              "  </tbody>\n",
              "</table>\n",
              "</div>"
            ],
            "text/plain": [
              "               0           1          2          3          4          5\n",
              "0 -358679.040181 -118.737687  20.609254 -13.304563   1.373221 -12.648183\n",
              "1 -362746.043969 -114.328968  24.196706 -28.506793  14.939652 -10.309483\n",
              "2 -362570.049938 -116.695239  17.191759 -25.365241  10.733051  -7.387243\n",
              "3 -359775.058699 -123.741626  22.003115   4.646095   8.089288   4.450189\n",
              "4 -362483.055320 -118.721545  24.850855 -16.316428   0.314754  -1.660229"
            ]
          },
          "metadata": {
            "tags": []
          },
          "execution_count": 52
        }
      ]
    },
    {
      "cell_type": "code",
      "metadata": {
        "colab": {
          "base_uri": "https://localhost:8080/"
        },
        "id": "Eg0gMQDk86xl",
        "outputId": "a0a31ee2-fdbb-436f-af43-0dba7364e21f"
      },
      "source": [
        "pca.fit(scaled_data)"
      ],
      "execution_count": null,
      "outputs": [
        {
          "output_type": "execute_result",
          "data": {
            "text/plain": [
              "PCA(copy=True, iterated_power='auto', n_components=2, random_state=None,\n",
              "    svd_solver='auto', tol=0.0, whiten=False)"
            ]
          },
          "metadata": {
            "tags": []
          },
          "execution_count": 46
        }
      ]
    },
    {
      "cell_type": "code",
      "metadata": {
        "id": "7CKxJww4-dl8"
      },
      "source": [
        "X_pca=pca.transform(scaled_data)"
      ],
      "execution_count": null,
      "outputs": []
    },
    {
      "cell_type": "code",
      "metadata": {
        "colab": {
          "base_uri": "https://localhost:8080/"
        },
        "id": "cJwJ91a--di2",
        "outputId": "195ef266-7134-4279-8cba-808c979f875b"
      },
      "source": [
        "X_pca.shape"
      ],
      "execution_count": null,
      "outputs": [
        {
          "output_type": "execute_result",
          "data": {
            "text/plain": [
              "(10000, 2)"
            ]
          },
          "metadata": {
            "tags": []
          },
          "execution_count": 49
        }
      ]
    },
    {
      "cell_type": "code",
      "metadata": {
        "id": "mzGuzXkvoQjx",
        "colab": {
          "base_uri": "https://localhost:8080/",
          "height": 231
        },
        "outputId": "56c2f0a7-ca01-4813-c123-16fcd9515b7d"
      },
      "source": [
        "\r\n",
        "X_train=data.iloc[:6500,]\r\n",
        "y_train=Cost\r\n",
        "test_X=data.iloc[6500:,]\r\n",
        "seed=7"
      ],
      "execution_count": null,
      "outputs": [
        {
          "output_type": "error",
          "ename": "AttributeError",
          "evalue": "ignored",
          "traceback": [
            "\u001b[0;31m---------------------------------------------------------------------------\u001b[0m",
            "\u001b[0;31mAttributeError\u001b[0m                            Traceback (most recent call last)",
            "\u001b[0;32m<ipython-input-50-a0fa0ea4d091>\u001b[0m in \u001b[0;36m<module>\u001b[0;34m()\u001b[0m\n\u001b[1;32m      1\u001b[0m \u001b[0;34m\u001b[0m\u001b[0m\n\u001b[0;32m----> 2\u001b[0;31m \u001b[0mX_train\u001b[0m\u001b[0;34m=\u001b[0m\u001b[0mX_pca\u001b[0m\u001b[0;34m.\u001b[0m\u001b[0miloc\u001b[0m\u001b[0;34m[\u001b[0m\u001b[0;34m:\u001b[0m\u001b[0;36m6500\u001b[0m\u001b[0;34m,\u001b[0m\u001b[0;34m]\u001b[0m\u001b[0;34m\u001b[0m\u001b[0;34m\u001b[0m\u001b[0m\n\u001b[0m\u001b[1;32m      3\u001b[0m \u001b[0my_train\u001b[0m\u001b[0;34m=\u001b[0m\u001b[0mCost\u001b[0m\u001b[0;34m\u001b[0m\u001b[0;34m\u001b[0m\u001b[0m\n\u001b[1;32m      4\u001b[0m \u001b[0mtest_X\u001b[0m\u001b[0;34m=\u001b[0m\u001b[0mX_pca\u001b[0m\u001b[0;34m.\u001b[0m\u001b[0miloc\u001b[0m\u001b[0;34m[\u001b[0m\u001b[0;36m6500\u001b[0m\u001b[0;34m:\u001b[0m\u001b[0;34m,\u001b[0m\u001b[0;34m]\u001b[0m\u001b[0;34m\u001b[0m\u001b[0;34m\u001b[0m\u001b[0m\n\u001b[1;32m      5\u001b[0m \u001b[0mseed\u001b[0m\u001b[0;34m=\u001b[0m\u001b[0;36m7\u001b[0m\u001b[0;34m\u001b[0m\u001b[0;34m\u001b[0m\u001b[0m\n",
            "\u001b[0;31mAttributeError\u001b[0m: 'numpy.ndarray' object has no attribute 'iloc'"
          ]
        }
      ]
    },
    {
      "cell_type": "code",
      "metadata": {
        "id": "BiQOEKtwqjCy"
      },
      "source": [
        "from sklearn.model_selection import train_test_split\r\n",
        "X_train,X_test,y_train,y_test=train_test_split(X_train,y_train,random_state=seed)"
      ],
      "execution_count": null,
      "outputs": []
    },
    {
      "cell_type": "code",
      "metadata": {
        "id": "Af3phTKIqljc"
      },
      "source": [
        "# Importing Regression Model\r\n",
        "from sklearn.linear_model import LinearRegression \r\n",
        "from sklearn.linear_model import Lasso\r\n",
        "from sklearn.linear_model import ElasticNet\r\n",
        "from sklearn.tree import DecisionTreeRegressor\r\n",
        "from sklearn.neighbors import KNeighborsRegressor\r\n",
        "from sklearn.ensemble import GradientBoostingRegressor\r\n",
        "\r\n",
        "# performance Matrix\r\n",
        "from sklearn import metrics\r\n",
        "from sklearn.metrics import r2_score\r\n",
        "from sklearn.metrics import mean_squared_error\r\n",
        "from sklearn.model_selection import cross_val_score"
      ],
      "execution_count": null,
      "outputs": []
    },
    {
      "cell_type": "code",
      "metadata": {
        "colab": {
          "base_uri": "https://localhost:8080/"
        },
        "id": "9D2geMpCqn23",
        "outputId": "e68fad54-57a9-4b0a-a3e4-e69be106681f"
      },
      "source": [
        "regressor_linear = LinearRegression()\r\n",
        "regressor_linear.fit(X_train, y_train)"
      ],
      "execution_count": null,
      "outputs": [
        {
          "output_type": "execute_result",
          "data": {
            "text/plain": [
              "LinearRegression(copy_X=True, fit_intercept=True, n_jobs=None, normalize=False)"
            ]
          },
          "metadata": {
            "tags": []
          },
          "execution_count": 44
        }
      ]
    },
    {
      "cell_type": "code",
      "metadata": {
        "colab": {
          "base_uri": "https://localhost:8080/"
        },
        "id": "sc_925W9qp-p",
        "outputId": "c48a879f-1cec-4d4b-a080-72d340501215"
      },
      "source": [
        "\r\n",
        "# # Predicting Cross Validation Score the Test set results\r\n",
        "# cv_linear = cross_val_score(estimator = regressor_linear, X = X_train, y = y_train, cv = 10)\r\n",
        "\r\n",
        "# Predicting R2 Score the Train set results\r\n",
        "y_pred_linear_train = regressor_linear.predict(X_train)\r\n",
        "r2_score_linear_train = r2_score(y_train, y_pred_linear_train)\r\n",
        "\r\n",
        "# Predicting R2 Score the Test set results\r\n",
        "y_pred_linear_test = regressor_linear.predict(X_test)\r\n",
        "r2_score_linear_test = r2_score(y_test, y_pred_linear_test)\r\n",
        "\r\n",
        "# Predicting RMSE the Test set results\r\n",
        "rmse_linear = (np.sqrt(mean_squared_error(y_test, y_pred_linear_test)))\r\n",
        "# print(\"CV: \", cv_linear.mean())\r\n",
        "print('R2_score (train): ', r2_score_linear_train)\r\n",
        "print('R2_score (test): ', r2_score_linear_test)\r\n",
        "print(\"RMSE: \", rmse_linear)"
      ],
      "execution_count": null,
      "outputs": [
        {
          "output_type": "stream",
          "text": [
            "R2_score (train):  0.22011033657784862\n",
            "R2_score (test):  0.2406431082526378\n",
            "RMSE:  160494.9697864255\n"
          ],
          "name": "stdout"
        }
      ]
    },
    {
      "cell_type": "code",
      "metadata": {
        "colab": {
          "base_uri": "https://localhost:8080/"
        },
        "id": "pbHwmJmLqs8-",
        "outputId": "1bd65240-13be-4b97-9de9-576175eeeb07"
      },
      "source": [
        "from sklearn.tree import DecisionTreeRegressor\r\n",
        "regressor_dt = DecisionTreeRegressor(random_state = 0)\r\n",
        "regressor_dt.fit(X_train, y_train)"
      ],
      "execution_count": null,
      "outputs": [
        {
          "output_type": "execute_result",
          "data": {
            "text/plain": [
              "DecisionTreeRegressor(ccp_alpha=0.0, criterion='mse', max_depth=None,\n",
              "                      max_features=None, max_leaf_nodes=None,\n",
              "                      min_impurity_decrease=0.0, min_impurity_split=None,\n",
              "                      min_samples_leaf=1, min_samples_split=2,\n",
              "                      min_weight_fraction_leaf=0.0, presort='deprecated',\n",
              "                      random_state=0, splitter='best')"
            ]
          },
          "metadata": {
            "tags": []
          },
          "execution_count": 46
        }
      ]
    },
    {
      "cell_type": "code",
      "metadata": {
        "colab": {
          "base_uri": "https://localhost:8080/"
        },
        "id": "Ilk9iNmOqxtT",
        "outputId": "8086dc95-a54a-4811-a414-a302bf0c05b8"
      },
      "source": [
        "# Predicting Cross Validation Score\r\n",
        "cv_dt = cross_val_score(estimator = regressor_dt, X = X_train, y = y_train, cv = 10)\r\n",
        "\r\n",
        "# Predicting R2 Score the Train set results\r\n",
        "y_pred_dt_train = regressor_dt.predict(X_train)\r\n",
        "r2_score_dt_train = r2_score(y_train, y_pred_dt_train)\r\n",
        "\r\n",
        "# Predicting R2 Score the Test set results\r\n",
        "y_pred_dt_test = regressor_dt.predict(X_test)\r\n",
        "r2_score_dt_test = r2_score(y_test, y_pred_dt_test)\r\n",
        "\r\n",
        "# Predicting RMSE the Test set results\r\n",
        "rmse_dt = (np.sqrt(mean_squared_error(y_test, y_pred_dt_test)))\r\n",
        "# print('CV: ', cv_dt.mean())\r\n",
        "print('R2_score (train): ', r2_score_dt_train)\r\n",
        "print('R2_score (test): ', r2_score_dt_test)\r\n",
        "print(\"RMSE: \", rmse_dt)"
      ],
      "execution_count": null,
      "outputs": [
        {
          "output_type": "stream",
          "text": [
            "R2_score (train):  1.0\n",
            "R2_score (test):  0.044536135816120925\n",
            "RMSE:  180030.29338238473\n"
          ],
          "name": "stdout"
        }
      ]
    },
    {
      "cell_type": "code",
      "metadata": {
        "colab": {
          "base_uri": "https://localhost:8080/"
        },
        "id": "Kz99xR-qq05B",
        "outputId": "2077b62f-5595-4695-8973-8c30dc8146e1"
      },
      "source": [
        "# Fitting the Random Forest Regression to the dataset\r\n",
        "from sklearn.ensemble import RandomForestRegressor\r\n",
        "regressor_rf = RandomForestRegressor(n_estimators = 500, random_state = 0)\r\n",
        "regressor_rf.fit(X_train, y_train.ravel())"
      ],
      "execution_count": null,
      "outputs": [
        {
          "output_type": "execute_result",
          "data": {
            "text/plain": [
              "RandomForestRegressor(bootstrap=True, ccp_alpha=0.0, criterion='mse',\n",
              "                      max_depth=None, max_features='auto', max_leaf_nodes=None,\n",
              "                      max_samples=None, min_impurity_decrease=0.0,\n",
              "                      min_impurity_split=None, min_samples_leaf=1,\n",
              "                      min_samples_split=2, min_weight_fraction_leaf=0.0,\n",
              "                      n_estimators=500, n_jobs=None, oob_score=False,\n",
              "                      random_state=0, verbose=0, warm_start=False)"
            ]
          },
          "metadata": {
            "tags": []
          },
          "execution_count": 48
        }
      ]
    },
    {
      "cell_type": "code",
      "metadata": {
        "colab": {
          "base_uri": "https://localhost:8080/"
        },
        "id": "AJfIO5MPq8Cm",
        "outputId": "f2c0ea48-5e4d-40a3-e573-89c6f4b13464"
      },
      "source": [
        "from sklearn.metrics import r2_score\r\n",
        "\r\n",
        "# Predicting Cross Validation Score\r\n",
        "#cv_rf = cross_val_score(estimator = regressor_rf, X = X_scaled, y = y_train.ravel(), cv = 10)\r\n",
        "\r\n",
        "# Predicting R2 Score the Train set results\r\n",
        "y_pred_rf_train = regressor_rf.predict(X_train)\r\n",
        "r2_score_rf_train = r2_score(y_train, y_pred_rf_train)\r\n",
        "\r\n",
        "# Predicting R2 Score the Test set results\r\n",
        "y_pred_rf_test = regressor_rf.predict(X_test)\r\n",
        "r2_score_rf_test = r2_score(y_test, y_pred_rf_test)\r\n",
        "\r\n",
        "# Predicting RMSE the Test set results\r\n",
        "rmse_rf = (np.sqrt(mean_squared_error(y_test, y_pred_rf_test)))\r\n",
        "# print('CV: ', cv_rf.mean())\r\n",
        "print('R2_score (train): ', r2_score_rf_train)\r\n",
        "print('R2_score (test): ', r2_score_rf_test)\r\n",
        "print(\"RMSE: \", rmse_rf)"
      ],
      "execution_count": null,
      "outputs": [
        {
          "output_type": "stream",
          "text": [
            "R2_score (train):  0.8856866924223548\n",
            "R2_score (test):  0.4861835345887906\n",
            "RMSE:  132020.8317528598\n"
          ],
          "name": "stdout"
        }
      ]
    },
    {
      "cell_type": "code",
      "metadata": {
        "colab": {
          "background_save": true
        },
        "id": "cZkSBMlwrAaJ"
      },
      "source": [
        ""
      ],
      "execution_count": null,
      "outputs": []
    }
  ]
}