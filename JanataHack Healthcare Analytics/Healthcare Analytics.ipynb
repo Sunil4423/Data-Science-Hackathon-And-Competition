{
 "cells": [
  {
   "cell_type": "code",
   "execution_count": 1,
   "metadata": {},
   "outputs": [],
   "source": [
    "import pandas as pd\n",
    "import numpy as np\n",
    "import matplotlib.pyplot as plt "
   ]
  },
  {
   "cell_type": "code",
   "execution_count": 2,
   "metadata": {},
   "outputs": [],
   "source": [
    "train=pd.read_csv('D:/Sunil_M_S/Data Set/Healthcare Analytics/train/train.csv')\n",
    "First_Health_Camp_Attended=pd.read_csv('D:/Sunil_M_S/Data Set/Healthcare Analytics/train/First_Health_Camp_Attended.csv')\n",
    "Second_Health_Camp_Attended=pd.read_csv('D:/Sunil_M_S/Data Set/Healthcare Analytics/train/Second_Health_Camp_Attended.csv')\n",
    "Third_Health_Camp_Attended=pd.read_csv('D:/Sunil_M_S/Data Set/Healthcare Analytics/train/Third_Health_Camp_Attended.csv')\n",
    "Health_Camp_Detail=pd.read_csv('D:/Sunil_M_S/Data Set/Healthcare Analytics/train/Health_Camp_Detail.csv')\n",
    "Patient_Profile=pd.read_csv('D:/Sunil_M_S/Data Set/Healthcare Analytics/train/Patient_Profile.csv')"
   ]
  },
  {
   "cell_type": "code",
   "execution_count": 3,
   "metadata": {},
   "outputs": [],
   "source": [
    "test=pd.read_csv('D:/Sunil_M_S/Data Set/Healthcare Analytics/test_l0Auv8Q.csv')\n",
    "submission=pd.read_csv('D:/Sunil_M_S/Data Set/Healthcare Analytics/sample_submmission.csv')"
   ]
  },
  {
   "cell_type": "code",
   "execution_count": 4,
   "metadata": {},
   "outputs": [],
   "source": [
    "train_data=pd.merge(train,First_Health_Camp_Attended,how='left',on=['Patient_ID','Health_Camp_ID'])\n",
    "train_data=pd.merge(train_data,Second_Health_Camp_Attended,how='left',on=['Patient_ID','Health_Camp_ID'])\n",
    "train_data=pd.merge(train_data,Third_Health_Camp_Attended,how='left',on=['Patient_ID','Health_Camp_ID'])\n",
    "train_data=pd.merge(train_data,Health_Camp_Detail,how='left',on='Health_Camp_ID')\n",
    "train_data=pd.merge(train_data,Patient_Profile,how='left',on='Patient_ID')"
   ]
  },
  {
   "cell_type": "code",
   "execution_count": 5,
   "metadata": {},
   "outputs": [
    {
     "data": {
      "text/html": [
       "<div>\n",
       "<style scoped>\n",
       "    .dataframe tbody tr th:only-of-type {\n",
       "        vertical-align: middle;\n",
       "    }\n",
       "\n",
       "    .dataframe tbody tr th {\n",
       "        vertical-align: top;\n",
       "    }\n",
       "\n",
       "    .dataframe thead th {\n",
       "        text-align: right;\n",
       "    }\n",
       "</style>\n",
       "<table border=\"1\" class=\"dataframe\">\n",
       "  <thead>\n",
       "    <tr style=\"text-align: right;\">\n",
       "      <th></th>\n",
       "      <th>Patient_ID</th>\n",
       "      <th>Health_Camp_ID</th>\n",
       "      <th>Registration_Date</th>\n",
       "      <th>Var1</th>\n",
       "      <th>Var2</th>\n",
       "      <th>Var3</th>\n",
       "      <th>Var4</th>\n",
       "      <th>Var5</th>\n",
       "      <th>Donation</th>\n",
       "      <th>Health_Score</th>\n",
       "      <th>...</th>\n",
       "      <th>Online_Follower</th>\n",
       "      <th>LinkedIn_Shared</th>\n",
       "      <th>Twitter_Shared</th>\n",
       "      <th>Facebook_Shared</th>\n",
       "      <th>Income</th>\n",
       "      <th>Education_Score</th>\n",
       "      <th>Age</th>\n",
       "      <th>First_Interaction</th>\n",
       "      <th>City_Type</th>\n",
       "      <th>Employer_Category</th>\n",
       "    </tr>\n",
       "  </thead>\n",
       "  <tbody>\n",
       "    <tr>\n",
       "      <th>0</th>\n",
       "      <td>489652</td>\n",
       "      <td>6578</td>\n",
       "      <td>10-Sep-05</td>\n",
       "      <td>4</td>\n",
       "      <td>0</td>\n",
       "      <td>0</td>\n",
       "      <td>0</td>\n",
       "      <td>2</td>\n",
       "      <td>NaN</td>\n",
       "      <td>NaN</td>\n",
       "      <td>...</td>\n",
       "      <td>0</td>\n",
       "      <td>0</td>\n",
       "      <td>0</td>\n",
       "      <td>0</td>\n",
       "      <td>None</td>\n",
       "      <td>None</td>\n",
       "      <td>None</td>\n",
       "      <td>06-Dec-04</td>\n",
       "      <td>NaN</td>\n",
       "      <td>NaN</td>\n",
       "    </tr>\n",
       "    <tr>\n",
       "      <th>1</th>\n",
       "      <td>507246</td>\n",
       "      <td>6578</td>\n",
       "      <td>18-Aug-05</td>\n",
       "      <td>45</td>\n",
       "      <td>5</td>\n",
       "      <td>0</td>\n",
       "      <td>0</td>\n",
       "      <td>7</td>\n",
       "      <td>NaN</td>\n",
       "      <td>NaN</td>\n",
       "      <td>...</td>\n",
       "      <td>0</td>\n",
       "      <td>0</td>\n",
       "      <td>0</td>\n",
       "      <td>0</td>\n",
       "      <td>1</td>\n",
       "      <td>75</td>\n",
       "      <td>40</td>\n",
       "      <td>08-Sep-04</td>\n",
       "      <td>C</td>\n",
       "      <td>Others</td>\n",
       "    </tr>\n",
       "    <tr>\n",
       "      <th>2</th>\n",
       "      <td>523729</td>\n",
       "      <td>6534</td>\n",
       "      <td>29-Apr-06</td>\n",
       "      <td>0</td>\n",
       "      <td>0</td>\n",
       "      <td>0</td>\n",
       "      <td>0</td>\n",
       "      <td>0</td>\n",
       "      <td>NaN</td>\n",
       "      <td>NaN</td>\n",
       "      <td>...</td>\n",
       "      <td>0</td>\n",
       "      <td>0</td>\n",
       "      <td>0</td>\n",
       "      <td>0</td>\n",
       "      <td>None</td>\n",
       "      <td>None</td>\n",
       "      <td>None</td>\n",
       "      <td>22-Jun-04</td>\n",
       "      <td>NaN</td>\n",
       "      <td>NaN</td>\n",
       "    </tr>\n",
       "    <tr>\n",
       "      <th>3</th>\n",
       "      <td>524931</td>\n",
       "      <td>6535</td>\n",
       "      <td>07-Feb-04</td>\n",
       "      <td>0</td>\n",
       "      <td>0</td>\n",
       "      <td>0</td>\n",
       "      <td>0</td>\n",
       "      <td>0</td>\n",
       "      <td>NaN</td>\n",
       "      <td>NaN</td>\n",
       "      <td>...</td>\n",
       "      <td>0</td>\n",
       "      <td>0</td>\n",
       "      <td>0</td>\n",
       "      <td>0</td>\n",
       "      <td>None</td>\n",
       "      <td>None</td>\n",
       "      <td>None</td>\n",
       "      <td>07-Feb-04</td>\n",
       "      <td>I</td>\n",
       "      <td>NaN</td>\n",
       "    </tr>\n",
       "    <tr>\n",
       "      <th>4</th>\n",
       "      <td>521364</td>\n",
       "      <td>6529</td>\n",
       "      <td>28-Feb-06</td>\n",
       "      <td>15</td>\n",
       "      <td>1</td>\n",
       "      <td>0</td>\n",
       "      <td>0</td>\n",
       "      <td>7</td>\n",
       "      <td>NaN</td>\n",
       "      <td>NaN</td>\n",
       "      <td>...</td>\n",
       "      <td>0</td>\n",
       "      <td>0</td>\n",
       "      <td>0</td>\n",
       "      <td>1</td>\n",
       "      <td>1</td>\n",
       "      <td>70</td>\n",
       "      <td>40</td>\n",
       "      <td>04-Jul-03</td>\n",
       "      <td>I</td>\n",
       "      <td>Technology</td>\n",
       "    </tr>\n",
       "  </tbody>\n",
       "</table>\n",
       "<p>5 rows × 29 columns</p>\n",
       "</div>"
      ],
      "text/plain": [
       "   Patient_ID  Health_Camp_ID Registration_Date  Var1  Var2  Var3  Var4  Var5  \\\n",
       "0      489652            6578         10-Sep-05     4     0     0     0     2   \n",
       "1      507246            6578         18-Aug-05    45     5     0     0     7   \n",
       "2      523729            6534         29-Apr-06     0     0     0     0     0   \n",
       "3      524931            6535         07-Feb-04     0     0     0     0     0   \n",
       "4      521364            6529         28-Feb-06    15     1     0     0     7   \n",
       "\n",
       "   Donation  Health_Score  ...  Online_Follower  LinkedIn_Shared  \\\n",
       "0       NaN           NaN  ...                0                0   \n",
       "1       NaN           NaN  ...                0                0   \n",
       "2       NaN           NaN  ...                0                0   \n",
       "3       NaN           NaN  ...                0                0   \n",
       "4       NaN           NaN  ...                0                0   \n",
       "\n",
       "   Twitter_Shared  Facebook_Shared Income Education_Score   Age  \\\n",
       "0               0                0   None            None  None   \n",
       "1               0                0      1              75    40   \n",
       "2               0                0   None            None  None   \n",
       "3               0                0   None            None  None   \n",
       "4               0                1      1              70    40   \n",
       "\n",
       "  First_Interaction  City_Type  Employer_Category  \n",
       "0         06-Dec-04        NaN                NaN  \n",
       "1         08-Sep-04          C             Others  \n",
       "2         22-Jun-04        NaN                NaN  \n",
       "3         07-Feb-04          I                NaN  \n",
       "4         04-Jul-03          I         Technology  \n",
       "\n",
       "[5 rows x 29 columns]"
      ]
     },
     "execution_count": 5,
     "metadata": {},
     "output_type": "execute_result"
    }
   ],
   "source": [
    "train_data.head()"
   ]
  },
  {
   "cell_type": "code",
   "execution_count": 6,
   "metadata": {},
   "outputs": [],
   "source": [
    "test_data=pd.merge(test,First_Health_Camp_Attended,how='left',on=['Patient_ID','Health_Camp_ID'])\n",
    "test_data=pd.merge(test_data,Second_Health_Camp_Attended,how='left',on=['Patient_ID','Health_Camp_ID'])\n",
    "test_data=pd.merge(test_data,Third_Health_Camp_Attended,how='left',on=['Patient_ID','Health_Camp_ID'])\n",
    "test_data=pd.merge(test_data,Health_Camp_Detail,how='left',on='Health_Camp_ID')\n",
    "test_data=pd.merge(test_data,Patient_Profile,how='left',on='Patient_ID')"
   ]
  },
  {
   "cell_type": "code",
   "execution_count": 7,
   "metadata": {},
   "outputs": [],
   "source": [
    "del train_data['Donation']\n",
    "del test_data['Donation']\n",
    "del train_data['Unnamed: 4']\n",
    "del test_data['Unnamed: 4']"
   ]
  },
  {
   "cell_type": "code",
   "execution_count": 8,
   "metadata": {},
   "outputs": [
    {
     "data": {
      "text/plain": [
       "Patient_ID                       0\n",
       "Health_Camp_ID                   0\n",
       "Registration_Date                0\n",
       "Var1                             0\n",
       "Var2                             0\n",
       "Var3                             0\n",
       "Var4                             0\n",
       "Var5                             0\n",
       "Health_Score                 35249\n",
       "Health Score                 35249\n",
       "Number_of_stall_visited      35249\n",
       "Last_Stall_Visited_Number    35249\n",
       "Camp_Start_Date                  0\n",
       "Camp_End_Date                    0\n",
       "Category1                        0\n",
       "Category2                        0\n",
       "Category3                        0\n",
       "Online_Follower                  0\n",
       "LinkedIn_Shared                  0\n",
       "Twitter_Shared                   0\n",
       "Facebook_Shared                  0\n",
       "Income                           0\n",
       "Education_Score                  0\n",
       "Age                              0\n",
       "First_Interaction                0\n",
       "City_Type                    13394\n",
       "Employer_Category            30888\n",
       "dtype: int64"
      ]
     },
     "execution_count": 8,
     "metadata": {},
     "output_type": "execute_result"
    }
   ],
   "source": [
    "test_data.isnull().sum()"
   ]
  },
  {
   "cell_type": "code",
   "execution_count": 9,
   "metadata": {},
   "outputs": [],
   "source": [
    "x=['Health_Score','Health Score','Number_of_stall_visited','Last_Stall_Visited_Number']\n",
    "for i in x:\n",
    "    train_data[i]=train_data[i].fillna(0)\n",
    "    test_data[i]=test_data[i].fillna(0)\n",
    "    \n",
    "  "
   ]
  },
  {
   "cell_type": "code",
   "execution_count": 10,
   "metadata": {},
   "outputs": [],
   "source": [
    "train_data['outcome']=(train_data['Health_Score']+train_data['Health Score'])+(train_data['Number_of_stall_visited']+train_data['Last_Stall_Visited_Number']/30)+0.46106432158133853"
   ]
  },
  {
   "cell_type": "code",
   "execution_count": 11,
   "metadata": {},
   "outputs": [],
   "source": [
    "\n",
    "x=['Health_Score','Health Score','Number_of_stall_visited','Last_Stall_Visited_Number']\n",
    "for i in x:\n",
    "      del train_data[i]\n",
    "      del test_data[i]\n"
   ]
  },
  {
   "cell_type": "code",
   "execution_count": 12,
   "metadata": {},
   "outputs": [],
   "source": [
    "x=['Registration_Date','City_Type','Employer_Category']\n",
    "for i in x:\n",
    "      train_data[i]=train_data[i].fillna(method='bfill')\n",
    "      test_data[i]=test_data[i].fillna(method='bfill')\n",
    "      train_data[i]=train_data[i].fillna(method='ffill')\n",
    "      test_data[i]=test_data[i].fillna(method='ffill')\n"
   ]
  },
  {
   "cell_type": "code",
   "execution_count": 13,
   "metadata": {},
   "outputs": [],
   "source": [
    "\n",
    "k=['Registration_Date','Camp_Start_Date','Camp_End_Date','First_Interaction']\n",
    "for i in k:\n",
    "  train_data[i] = pd.to_datetime(train_data[i])\n",
    "  test_data[i] = pd.to_datetime(test_data[i])\n",
    "for i in k:\n",
    "  test_data[i+'_'+'year'] = test_data[i].dt.year\n",
    "  test_data[i+'_'+'day'] = test_data[i].dt.day\n",
    "  test_data[i+'_'+'weekofyear'] = test_data[i].dt.weekofyear\n",
    "  test_data[i+'_'+'month'] = test_data[i].dt.month\n",
    "  test_data[i+'_'+'dayofweek'] =test_data[i].dt.dayofweek\n",
    "  test_data[i+'_'+'weekend'] = (test_data[i].dt.weekday >=5).astype(int)\n",
    "  train_data[i+'_'+'year'] = train_data[i].dt.year\n",
    "  train_data[i+'_'+'day'] = train_data[i].dt.day\n",
    "  train_data[i+'_'+'weekofyear'] = train_data[i].dt.weekofyear\n",
    "  train_data[i+'_'+'month'] = train_data[i].dt.month\n",
    "  train_data[i+'_'+'dayofweek'] = train_data[i].dt.dayofweek\n",
    "  train_data[i+'_'+'weekend'] = (train_data[i].dt.weekday >=5).astype(int)\n",
    "for i in k:\n",
    "  del train_data[i]\n",
    "  del test_data[i]"
   ]
  },
  {
   "cell_type": "code",
   "execution_count": 14,
   "metadata": {},
   "outputs": [],
   "source": [
    "x=['City_Type','Employer_Category','Category1','Category2','Income','Education_Score','Age']\n",
    "for i in x:\n",
    "  loc = np.append(train_data[i].values, test_data[i].values, axis=0)\n",
    "  from sklearn.preprocessing import LabelEncoder\n",
    "  l=LabelEncoder()\n",
    "  l.fit(list(set(loc)))\n",
    "  train_data[i]=l.transform(train_data[i])\n",
    "  test_data[i]=l.transform(test_data[i])"
   ]
  },
  {
   "cell_type": "code",
   "execution_count": 15,
   "metadata": {},
   "outputs": [
    {
     "data": {
      "text/plain": [
       "Patient_ID                      0\n",
       "Health_Camp_ID                  0\n",
       "Var1                            0\n",
       "Var2                            0\n",
       "Var3                            0\n",
       "Var4                            0\n",
       "Var5                            0\n",
       "Category1                       0\n",
       "Category2                       0\n",
       "Category3                       0\n",
       "Online_Follower                 0\n",
       "LinkedIn_Shared                 0\n",
       "Twitter_Shared                  0\n",
       "Facebook_Shared                 0\n",
       "Income                          0\n",
       "Education_Score                 0\n",
       "Age                             0\n",
       "City_Type                       0\n",
       "Employer_Category               0\n",
       "outcome                         0\n",
       "Registration_Date_year          0\n",
       "Registration_Date_day           0\n",
       "Registration_Date_weekofyear    0\n",
       "Registration_Date_month         0\n",
       "Registration_Date_dayofweek     0\n",
       "Registration_Date_weekend       0\n",
       "Camp_Start_Date_year            0\n",
       "Camp_Start_Date_day             0\n",
       "Camp_Start_Date_weekofyear      0\n",
       "Camp_Start_Date_month           0\n",
       "Camp_Start_Date_dayofweek       0\n",
       "Camp_Start_Date_weekend         0\n",
       "Camp_End_Date_year              0\n",
       "Camp_End_Date_day               0\n",
       "Camp_End_Date_weekofyear        0\n",
       "Camp_End_Date_month             0\n",
       "Camp_End_Date_dayofweek         0\n",
       "Camp_End_Date_weekend           0\n",
       "First_Interaction_year          0\n",
       "First_Interaction_day           0\n",
       "First_Interaction_weekofyear    0\n",
       "First_Interaction_month         0\n",
       "First_Interaction_dayofweek     0\n",
       "First_Interaction_weekend       0\n",
       "dtype: int64"
      ]
     },
     "execution_count": 15,
     "metadata": {},
     "output_type": "execute_result"
    }
   ],
   "source": [
    "train_data.isnull().sum()"
   ]
  },
  {
   "cell_type": "code",
   "execution_count": 16,
   "metadata": {},
   "outputs": [],
   "source": [
    "train1=train_data.copy()\n",
    "test1=test_data.copy()"
   ]
  },
  {
   "cell_type": "code",
   "execution_count": 17,
   "metadata": {},
   "outputs": [],
   "source": [
    "\n",
    "X = train1.drop(labels=['outcome'], axis=1)\n",
    "y = train1['outcome'].values\n",
    "\n",
    "from sklearn.model_selection import train_test_split\n",
    "X_train, X_cv, y_train, y_cv = train_test_split(X, y, test_size=0.15, random_state=42)"
   ]
  },
  {
   "cell_type": "code",
   "execution_count": 18,
   "metadata": {},
   "outputs": [],
   "source": [
    "from math import sqrt \n",
    "from sklearn.metrics import mean_absolute_error"
   ]
  },
  {
   "cell_type": "code",
   "execution_count": 21,
   "metadata": {},
   "outputs": [
    {
     "name": "stdout",
     "output_type": "stream",
     "text": [
      "Collecting lightgbm\n",
      "  Downloading lightgbm-2.3.1-py2.py3-none-win_amd64.whl (544 kB)\n",
      "Requirement already satisfied: scipy in c:\\users\\abc\\anaconda3\\lib\\site-packages (from lightgbm) (1.4.1)\n",
      "Requirement already satisfied: numpy in c:\\users\\abc\\anaconda3\\lib\\site-packages (from lightgbm) (1.18.1)\n",
      "Requirement already satisfied: scikit-learn in c:\\users\\abc\\anaconda3\\lib\\site-packages (from lightgbm) (0.22.1)\n",
      "Requirement already satisfied: joblib>=0.11 in c:\\users\\abc\\anaconda3\\lib\\site-packages (from scikit-learn->lightgbm) (0.14.1)\n",
      "Installing collected packages: lightgbm\n",
      "Successfully installed lightgbm-2.3.1\n"
     ]
    }
   ],
   "source": [
    "!pip install lightgbm"
   ]
  },
  {
   "cell_type": "code",
   "execution_count": 24,
   "metadata": {},
   "outputs": [],
   "source": [
    "import lightgbm as lgb"
   ]
  },
  {
   "cell_type": "code",
   "execution_count": 26,
   "metadata": {},
   "outputs": [
    {
     "name": "stderr",
     "output_type": "stream",
     "text": [
      "C:\\Users\\ABC\\anaconda3\\lib\\site-packages\\lightgbm\\engine.py:148: UserWarning: Found `num_iterations` in params. Will use it instead of argument\n",
      "  warnings.warn(\"Found `{}` in params. Will use it instead of argument\".format(alias))\n",
      "C:\\Users\\ABC\\anaconda3\\lib\\site-packages\\lightgbm\\engine.py:153: UserWarning: Found `early_stopping_round` in params. Will use it instead of argument\n",
      "  warnings.warn(\"Found `{}` in params. Will use it instead of argument\".format(alias))\n"
     ]
    },
    {
     "name": "stdout",
     "output_type": "stream",
     "text": [
      "Training until validation scores don't improve for 200 rounds\n",
      "[100]\tvalid_0's l1: 0.332554\n",
      "[200]\tvalid_0's l1: 0.331175\n",
      "[300]\tvalid_0's l1: 0.331704\n",
      "[400]\tvalid_0's l1: 0.332219\n",
      "Early stopping, best iteration is:\n",
      "[201]\tvalid_0's l1: 0.331174\n",
      "RMSLE: 3.282148583947247\n"
     ]
    }
   ],
   "source": [
    "train2 = lgb.Dataset(X_train, label=y_train)\n",
    "test2 = lgb.Dataset(X_cv, label=y_cv)\n",
    "\n",
    "param = {'objective': 'regression',\n",
    "         'num_leaves':20,\n",
    "         'boosting': 'gbdt',  \n",
    "         'metric': 'mae',\n",
    "         'learning_rate': 0.1, \n",
    "         'num_iterations': 1000,\n",
    "         'num_leaves': 90,\n",
    "         'max_depth': 6,\n",
    "         'min_data_in_leaf': 11,\n",
    "         'bagging_fraction': 0.90,\n",
    "         'bagging_freq': 1,\n",
    "         'bagging_seed': 142,\n",
    "         'feature_fraction': 0.90,\n",
    "         'feature_fraction_seed': 2,\n",
    "         'early_stopping_round': 200,\n",
    "         'max_bin': 500\n",
    "         }\n",
    "\n",
    "lgbm = lgb.train(params=param, verbose_eval=100, train_set=train2, valid_sets=[test2])\n",
    "\n",
    "y_pred_lgbm = lgbm.predict(X_cv)\n",
    "print('RMSLE:', sqrt(mean_absolute_error(np.expm1(y_cv), np.expm1(y_pred_lgbm))))"
   ]
  },
  {
   "cell_type": "code",
   "execution_count": 27,
   "metadata": {},
   "outputs": [],
   "source": [
    "Xtest=test1"
   ]
  },
  {
   "cell_type": "code",
   "execution_count": 28,
   "metadata": {},
   "outputs": [
    {
     "name": "stderr",
     "output_type": "stream",
     "text": [
      "C:\\Users\\ABC\\anaconda3\\lib\\site-packages\\sklearn\\model_selection\\_split.py:296: FutureWarning: Setting a random_state has no effect since shuffle is False. This will raise an error in 0.24. You should leave random_state to its default (None), or set shuffle=True.\n",
      "  FutureWarning\n"
     ]
    },
    {
     "name": "stdout",
     "output_type": "stream",
     "text": [
      "RMSLE LGBM:  0.5928905363864839\n",
      "RMSLE LGBM:  0.581396164077793\n",
      "RMSLE LGBM:  0.5644889632211486\n",
      "RMSLE LGBM:  0.569938352411321\n",
      "RMSLE LGBM:  0.5791099776552955\n",
      "RMSLE LGBM:  0.5775829065667869\n",
      "RMSLE LGBM:  0.5957694530408458\n",
      "RMSLE LGBM:  0.5727950071505521\n",
      "RMSLE LGBM:  0.5876236152417094\n",
      "RMSLE LGBM:  0.6018246191655164\n"
     ]
    }
   ],
   "source": [
    "\n",
    "from sklearn.model_selection import KFold\n",
    "from lightgbm import LGBMRegressor\n",
    "\n",
    "errlgb = []\n",
    "y_pred_totlgb = []\n",
    "\n",
    "fold = KFold(n_splits=\n",
    "             10, shuffle=False, random_state=2**31)\n",
    "\n",
    "for train_data_index, test_data_index in fold.split(X):\n",
    "    X_train, X_test = X.loc[train_data_index], X.loc[test_data_index]\n",
    "    y_train, y_test = y[train_data_index], y[test_data_index]\n",
    "\n",
    "    lgbm = LGBMRegressor(boosting_type='gbdt', num_leaves=800, max_depth=31, learning_rate=0.1, n_estimators=1000, min_child_samples=20, subsample=0.9)\n",
    "    lgbm.fit(X_train, y_train, eval_set=[(X_test, y_test)], verbose=0, early_stopping_rounds=100)\n",
    "\n",
    "    y_pred_lgbm = lgbm.predict(X_test)\n",
    "    print(\"RMSLE LGBM: \", sqrt(mean_absolute_error(y_test, y_pred_lgbm)))\n",
    "\n",
    "    errlgb.append(sqrt(mean_absolute_error(y_test, y_pred_lgbm)))\n",
    "    p = lgbm.predict(Xtest)\n",
    "    y_pred_totlgb.append(p)"
   ]
  },
  {
   "cell_type": "code",
   "execution_count": 29,
   "metadata": {},
   "outputs": [
    {
     "data": {
      "text/plain": [
       "0.5823419594917453"
      ]
     },
     "execution_count": 29,
     "metadata": {},
     "output_type": "execute_result"
    }
   ],
   "source": [
    "np.mean(errlgb,0)"
   ]
  },
  {
   "cell_type": "code",
   "execution_count": 30,
   "metadata": {},
   "outputs": [
    {
     "data": {
      "text/plain": [
       "array([2.46824251, 0.77421704, 0.51664545, ..., 0.71490397, 0.61210025,\n",
       "       0.76119289])"
      ]
     },
     "execution_count": 30,
     "metadata": {},
     "output_type": "execute_result"
    }
   ],
   "source": [
    "lgbm_final = np.mean(y_pred_totlgb,0)\n",
    "lgbm_final"
   ]
  },
  {
   "cell_type": "code",
   "execution_count": 35,
   "metadata": {},
   "outputs": [],
   "source": [
    "submission['Outcome']=abs(lgbm_final)"
   ]
  },
  {
   "cell_type": "code",
   "execution_count": 37,
   "metadata": {},
   "outputs": [],
   "source": [
    "submission=submission.to_csv('D:/Sunil_M_S/Data Set/Healthcare Analytics/f1_av.csv',index=False)\n"
   ]
  },
  {
   "cell_type": "code",
   "execution_count": 39,
   "metadata": {},
   "outputs": [],
   "source": [
    "submission=pd.read_csv('D:/Sunil_M_S/Data Set/Healthcare Analytics/f1_av.csv')"
   ]
  },
  {
   "cell_type": "code",
   "execution_count": 40,
   "metadata": {},
   "outputs": [
    {
     "data": {
      "text/html": [
       "<div>\n",
       "<style scoped>\n",
       "    .dataframe tbody tr th:only-of-type {\n",
       "        vertical-align: middle;\n",
       "    }\n",
       "\n",
       "    .dataframe tbody tr th {\n",
       "        vertical-align: top;\n",
       "    }\n",
       "\n",
       "    .dataframe thead th {\n",
       "        text-align: right;\n",
       "    }\n",
       "</style>\n",
       "<table border=\"1\" class=\"dataframe\">\n",
       "  <thead>\n",
       "    <tr style=\"text-align: right;\">\n",
       "      <th></th>\n",
       "      <th>Patient_ID</th>\n",
       "      <th>Health_Camp_ID</th>\n",
       "      <th>Outcome</th>\n",
       "    </tr>\n",
       "  </thead>\n",
       "  <tbody>\n",
       "    <tr>\n",
       "      <th>0</th>\n",
       "      <td>505701</td>\n",
       "      <td>6548</td>\n",
       "      <td>2.468243</td>\n",
       "    </tr>\n",
       "    <tr>\n",
       "      <th>1</th>\n",
       "      <td>500633</td>\n",
       "      <td>6584</td>\n",
       "      <td>0.774217</td>\n",
       "    </tr>\n",
       "    <tr>\n",
       "      <th>2</th>\n",
       "      <td>506945</td>\n",
       "      <td>6582</td>\n",
       "      <td>0.516645</td>\n",
       "    </tr>\n",
       "    <tr>\n",
       "      <th>3</th>\n",
       "      <td>497447</td>\n",
       "      <td>6551</td>\n",
       "      <td>0.989426</td>\n",
       "    </tr>\n",
       "    <tr>\n",
       "      <th>4</th>\n",
       "      <td>496446</td>\n",
       "      <td>6533</td>\n",
       "      <td>0.511915</td>\n",
       "    </tr>\n",
       "  </tbody>\n",
       "</table>\n",
       "</div>"
      ],
      "text/plain": [
       "   Patient_ID  Health_Camp_ID   Outcome\n",
       "0      505701            6548  2.468243\n",
       "1      500633            6584  0.774217\n",
       "2      506945            6582  0.516645\n",
       "3      497447            6551  0.989426\n",
       "4      496446            6533  0.511915"
      ]
     },
     "execution_count": 40,
     "metadata": {},
     "output_type": "execute_result"
    }
   ],
   "source": [
    "submission.head()"
   ]
  },
  {
   "cell_type": "code",
   "execution_count": null,
   "metadata": {},
   "outputs": [],
   "source": []
  }
 ],
 "metadata": {
  "kernelspec": {
   "display_name": "Python 3",
   "language": "python",
   "name": "python3"
  },
  "language_info": {
   "codemirror_mode": {
    "name": "ipython",
    "version": 3
   },
   "file_extension": ".py",
   "mimetype": "text/x-python",
   "name": "python",
   "nbconvert_exporter": "python",
   "pygments_lexer": "ipython3",
   "version": "3.7.6"
  }
 },
 "nbformat": 4,
 "nbformat_minor": 4
}
