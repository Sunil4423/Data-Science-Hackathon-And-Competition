{
 "cells": [
  {
   "cell_type": "code",
   "execution_count": 2,
   "metadata": {},
   "outputs": [],
   "source": [
    "import pandas as pd\n",
    "import numpy as np\n",
    "import matplotlib.pyplot as plt "
   ]
  },
  {
   "cell_type": "code",
   "execution_count": 3,
   "metadata": {},
   "outputs": [],
   "source": [
    "train=pd.read_csv('D:/Sunil_M_S/Data Set/Big Mart Sales/train.csv')\n",
    "test=pd.read_csv('D:/Sunil_M_S/Data Set/Big Mart Sales/test.csv')\n",

   ]
  },
  {
   "cell_type": "code",
   "execution_count": 4,
   "metadata": {
    "collapsed": true
   },
   "outputs": [
    {
     "data": {
      "text/html": [
       "<div>\n",
       "<style scoped>\n",
       "    .dataframe tbody tr th:only-of-type {\n",
       "        vertical-align: middle;\n",
       "    }\n",
       "\n",
       "    .dataframe tbody tr th {\n",
       "        vertical-align: top;\n",
       "    }\n",
       "\n",
       "    .dataframe thead th {\n",
       "        text-align: right;\n",
       "    }\n",
       "</style>\n",
       "<table border=\"1\" class=\"dataframe\">\n",
       "  <thead>\n",
       "    <tr style=\"text-align: right;\">\n",
       "      <th></th>\n",
       "      <th>Item_Identifier</th>\n",
       "      <th>Item_Weight</th>\n",
       "      <th>Item_Fat_Content</th>\n",
       "      <th>Item_Visibility</th>\n",
       "      <th>Item_Type</th>\n",
       "      <th>Item_MRP</th>\n",
       "      <th>Outlet_Identifier</th>\n",
       "      <th>Outlet_Establishment_Year</th>\n",
       "      <th>Outlet_Size</th>\n",
       "      <th>Outlet_Location_Type</th>\n",
       "      <th>Outlet_Type</th>\n",
       "      <th>Item_Outlet_Sales</th>\n",
       "    </tr>\n",
       "  </thead>\n",
       "  <tbody>\n",
       "    <tr>\n",
       "      <th>0</th>\n",
       "      <td>FDA15</td>\n",
       "      <td>9.300</td>\n",
       "      <td>Low Fat</td>\n",
       "      <td>0.016047</td>\n",
       "      <td>Dairy</td>\n",
       "      <td>249.8092</td>\n",
       "      <td>OUT049</td>\n",
       "      <td>1999</td>\n",
       "      <td>Medium</td>\n",
       "      <td>Tier 1</td>\n",
       "      <td>Supermarket Type1</td>\n",
       "      <td>3735.1380</td>\n",
       "    </tr>\n",
       "    <tr>\n",
       "      <th>1</th>\n",
       "      <td>DRC01</td>\n",
       "      <td>5.920</td>\n",
       "      <td>Regular</td>\n",
       "      <td>0.019278</td>\n",
       "      <td>Soft Drinks</td>\n",
       "      <td>48.2692</td>\n",
       "      <td>OUT018</td>\n",
       "      <td>2009</td>\n",
       "      <td>Medium</td>\n",
       "      <td>Tier 3</td>\n",
       "      <td>Supermarket Type2</td>\n",
       "      <td>443.4228</td>\n",
       "    </tr>\n",
       "    <tr>\n",
       "      <th>2</th>\n",
       "      <td>FDN15</td>\n",
       "      <td>17.500</td>\n",
       "      <td>Low Fat</td>\n",
       "      <td>0.016760</td>\n",
       "      <td>Meat</td>\n",
       "      <td>141.6180</td>\n",
       "      <td>OUT049</td>\n",
       "      <td>1999</td>\n",
       "      <td>Medium</td>\n",
       "      <td>Tier 1</td>\n",
       "      <td>Supermarket Type1</td>\n",
       "      <td>2097.2700</td>\n",
       "    </tr>\n",
       "    <tr>\n",
       "      <th>3</th>\n",
       "      <td>FDX07</td>\n",
       "      <td>19.200</td>\n",
       "      <td>Regular</td>\n",
       "      <td>0.000000</td>\n",
       "      <td>Fruits and Vegetables</td>\n",
       "      <td>182.0950</td>\n",
       "      <td>OUT010</td>\n",
       "      <td>1998</td>\n",
       "      <td>NaN</td>\n",
       "      <td>Tier 3</td>\n",
       "      <td>Grocery Store</td>\n",
       "      <td>732.3800</td>\n",
       "    </tr>\n",
       "    <tr>\n",
       "      <th>4</th>\n",
       "      <td>NCD19</td>\n",
       "      <td>8.930</td>\n",
       "      <td>Low Fat</td>\n",
       "      <td>0.000000</td>\n",
       "      <td>Household</td>\n",
       "      <td>53.8614</td>\n",
       "      <td>OUT013</td>\n",
       "      <td>1987</td>\n",
       "      <td>High</td>\n",
       "      <td>Tier 3</td>\n",
       "      <td>Supermarket Type1</td>\n",
       "      <td>994.7052</td>\n",
       "    </tr>\n",
       "    <tr>\n",
       "      <th>5</th>\n",
       "      <td>FDP36</td>\n",
       "      <td>10.395</td>\n",
       "      <td>Regular</td>\n",
       "      <td>0.000000</td>\n",
       "      <td>Baking Goods</td>\n",
       "      <td>51.4008</td>\n",
       "      <td>OUT018</td>\n",
       "      <td>2009</td>\n",
       "      <td>Medium</td>\n",
       "      <td>Tier 3</td>\n",
       "      <td>Supermarket Type2</td>\n",
       "      <td>556.6088</td>\n",
       "    </tr>\n",
       "    <tr>\n",
       "      <th>6</th>\n",
       "      <td>FDO10</td>\n",
       "      <td>13.650</td>\n",
       "      <td>Regular</td>\n",
       "      <td>0.012741</td>\n",
       "      <td>Snack Foods</td>\n",
       "      <td>57.6588</td>\n",
       "      <td>OUT013</td>\n",
       "      <td>1987</td>\n",
       "      <td>High</td>\n",
       "      <td>Tier 3</td>\n",
       "      <td>Supermarket Type1</td>\n",
       "      <td>343.5528</td>\n",
       "    </tr>\n",
       "    <tr>\n",
       "      <th>7</th>\n",
       "      <td>FDP10</td>\n",
       "      <td>NaN</td>\n",
       "      <td>Low Fat</td>\n",
       "      <td>0.127470</td>\n",
       "      <td>Snack Foods</td>\n",
       "      <td>107.7622</td>\n",
       "      <td>OUT027</td>\n",
       "      <td>1985</td>\n",
       "      <td>Medium</td>\n",
       "      <td>Tier 3</td>\n",
       "      <td>Supermarket Type3</td>\n",
       "      <td>4022.7636</td>\n",
       "    </tr>\n",
       "    <tr>\n",
       "      <th>8</th>\n",
       "      <td>FDH17</td>\n",
       "      <td>16.200</td>\n",
       "      <td>Regular</td>\n",
       "      <td>0.016687</td>\n",
       "      <td>Frozen Foods</td>\n",
       "      <td>96.9726</td>\n",
       "      <td>OUT045</td>\n",
       "      <td>2002</td>\n",
       "      <td>NaN</td>\n",
       "      <td>Tier 2</td>\n",
       "      <td>Supermarket Type1</td>\n",
       "      <td>1076.5986</td>\n",
       "    </tr>\n",
       "    <tr>\n",
       "      <th>9</th>\n",
       "      <td>FDU28</td>\n",
       "      <td>19.200</td>\n",
       "      <td>Regular</td>\n",
       "      <td>0.094450</td>\n",
       "      <td>Frozen Foods</td>\n",
       "      <td>187.8214</td>\n",
       "      <td>OUT017</td>\n",
       "      <td>2007</td>\n",
       "      <td>NaN</td>\n",
       "      <td>Tier 2</td>\n",
       "      <td>Supermarket Type1</td>\n",
       "      <td>4710.5350</td>\n",
       "    </tr>\n",
       "    <tr>\n",
       "      <th>10</th>\n",
       "      <td>FDY07</td>\n",
       "      <td>11.800</td>\n",
       "      <td>Low Fat</td>\n",
       "      <td>0.000000</td>\n",
       "      <td>Fruits and Vegetables</td>\n",
       "      <td>45.5402</td>\n",
       "      <td>OUT049</td>\n",
       "      <td>1999</td>\n",
       "      <td>Medium</td>\n",
       "      <td>Tier 1</td>\n",
       "      <td>Supermarket Type1</td>\n",
       "      <td>1516.0266</td>\n",
       "    </tr>\n",
       "    <tr>\n",
       "      <th>11</th>\n",
       "      <td>FDA03</td>\n",
       "      <td>18.500</td>\n",
       "      <td>Regular</td>\n",
       "      <td>0.045464</td>\n",
       "      <td>Dairy</td>\n",
       "      <td>144.1102</td>\n",
       "      <td>OUT046</td>\n",
       "      <td>1997</td>\n",
       "      <td>Small</td>\n",
       "      <td>Tier 1</td>\n",
       "      <td>Supermarket Type1</td>\n",
       "      <td>2187.1530</td>\n",
       "    </tr>\n",
       "    <tr>\n",
       "      <th>12</th>\n",
       "      <td>FDX32</td>\n",
       "      <td>15.100</td>\n",
       "      <td>Regular</td>\n",
       "      <td>0.100014</td>\n",
       "      <td>Fruits and Vegetables</td>\n",
       "      <td>145.4786</td>\n",
       "      <td>OUT049</td>\n",
       "      <td>1999</td>\n",
       "      <td>Medium</td>\n",
       "      <td>Tier 1</td>\n",
       "      <td>Supermarket Type1</td>\n",
       "      <td>1589.2646</td>\n",
       "    </tr>\n",
       "    <tr>\n",
       "      <th>13</th>\n",
       "      <td>FDS46</td>\n",
       "      <td>17.600</td>\n",
       "      <td>Regular</td>\n",
       "      <td>0.047257</td>\n",
       "      <td>Snack Foods</td>\n",
       "      <td>119.6782</td>\n",
       "      <td>OUT046</td>\n",
       "      <td>1997</td>\n",
       "      <td>Small</td>\n",
       "      <td>Tier 1</td>\n",
       "      <td>Supermarket Type1</td>\n",
       "      <td>2145.2076</td>\n",
       "    </tr>\n",
       "    <tr>\n",
       "      <th>14</th>\n",
       "      <td>FDF32</td>\n",
       "      <td>16.350</td>\n",
       "      <td>Low Fat</td>\n",
       "      <td>0.068024</td>\n",
       "      <td>Fruits and Vegetables</td>\n",
       "      <td>196.4426</td>\n",
       "      <td>OUT013</td>\n",
       "      <td>1987</td>\n",
       "      <td>High</td>\n",
       "      <td>Tier 3</td>\n",
       "      <td>Supermarket Type1</td>\n",
       "      <td>1977.4260</td>\n",
       "    </tr>\n",
       "    <tr>\n",
       "      <th>15</th>\n",
       "      <td>FDP49</td>\n",
       "      <td>9.000</td>\n",
       "      <td>Regular</td>\n",
       "      <td>0.069089</td>\n",
       "      <td>Breakfast</td>\n",
       "      <td>56.3614</td>\n",
       "      <td>OUT046</td>\n",
       "      <td>1997</td>\n",
       "      <td>Small</td>\n",
       "      <td>Tier 1</td>\n",
       "      <td>Supermarket Type1</td>\n",
       "      <td>1547.3192</td>\n",
       "    </tr>\n",
       "    <tr>\n",
       "      <th>16</th>\n",
       "      <td>NCB42</td>\n",
       "      <td>11.800</td>\n",
       "      <td>Low Fat</td>\n",
       "      <td>0.008596</td>\n",
       "      <td>Health and Hygiene</td>\n",
       "      <td>115.3492</td>\n",
       "      <td>OUT018</td>\n",
       "      <td>2009</td>\n",
       "      <td>Medium</td>\n",
       "      <td>Tier 3</td>\n",
       "      <td>Supermarket Type2</td>\n",
       "      <td>1621.8888</td>\n",
       "    </tr>\n",
       "    <tr>\n",
       "      <th>17</th>\n",
       "      <td>FDP49</td>\n",
       "      <td>9.000</td>\n",
       "      <td>Regular</td>\n",
       "      <td>0.069196</td>\n",
       "      <td>Breakfast</td>\n",
       "      <td>54.3614</td>\n",
       "      <td>OUT049</td>\n",
       "      <td>1999</td>\n",
       "      <td>Medium</td>\n",
       "      <td>Tier 1</td>\n",
       "      <td>Supermarket Type1</td>\n",
       "      <td>718.3982</td>\n",
       "    </tr>\n",
       "    <tr>\n",
       "      <th>18</th>\n",
       "      <td>DRI11</td>\n",
       "      <td>NaN</td>\n",
       "      <td>Low Fat</td>\n",
       "      <td>0.034238</td>\n",
       "      <td>Hard Drinks</td>\n",
       "      <td>113.2834</td>\n",
       "      <td>OUT027</td>\n",
       "      <td>1985</td>\n",
       "      <td>Medium</td>\n",
       "      <td>Tier 3</td>\n",
       "      <td>Supermarket Type3</td>\n",
       "      <td>2303.6680</td>\n",
       "    </tr>\n",
       "    <tr>\n",
       "      <th>19</th>\n",
       "      <td>FDU02</td>\n",
       "      <td>13.350</td>\n",
       "      <td>Low Fat</td>\n",
       "      <td>0.102492</td>\n",
       "      <td>Dairy</td>\n",
       "      <td>230.5352</td>\n",
       "      <td>OUT035</td>\n",
       "      <td>2004</td>\n",
       "      <td>Small</td>\n",
       "      <td>Tier 2</td>\n",
       "      <td>Supermarket Type1</td>\n",
       "      <td>2748.4224</td>\n",
       "    </tr>\n",
       "    <tr>\n",
       "      <th>20</th>\n",
       "      <td>FDN22</td>\n",
       "      <td>18.850</td>\n",
       "      <td>Regular</td>\n",
       "      <td>0.138190</td>\n",
       "      <td>Snack Foods</td>\n",
       "      <td>250.8724</td>\n",
       "      <td>OUT013</td>\n",
       "      <td>1987</td>\n",
       "      <td>High</td>\n",
       "      <td>Tier 3</td>\n",
       "      <td>Supermarket Type1</td>\n",
       "      <td>3775.0860</td>\n",
       "    </tr>\n",
       "    <tr>\n",
       "      <th>21</th>\n",
       "      <td>FDW12</td>\n",
       "      <td>NaN</td>\n",
       "      <td>Regular</td>\n",
       "      <td>0.035400</td>\n",
       "      <td>Baking Goods</td>\n",
       "      <td>144.5444</td>\n",
       "      <td>OUT027</td>\n",
       "      <td>1985</td>\n",
       "      <td>Medium</td>\n",
       "      <td>Tier 3</td>\n",
       "      <td>Supermarket Type3</td>\n",
       "      <td>4064.0432</td>\n",
       "    </tr>\n",
       "    <tr>\n",
       "      <th>22</th>\n",
       "      <td>NCB30</td>\n",
       "      <td>14.600</td>\n",
       "      <td>Low Fat</td>\n",
       "      <td>0.025698</td>\n",
       "      <td>Household</td>\n",
       "      <td>196.5084</td>\n",
       "      <td>OUT035</td>\n",
       "      <td>2004</td>\n",
       "      <td>Small</td>\n",
       "      <td>Tier 2</td>\n",
       "      <td>Supermarket Type1</td>\n",
       "      <td>1587.2672</td>\n",
       "    </tr>\n",
       "    <tr>\n",
       "      <th>23</th>\n",
       "      <td>FDC37</td>\n",
       "      <td>NaN</td>\n",
       "      <td>Low Fat</td>\n",
       "      <td>0.057557</td>\n",
       "      <td>Baking Goods</td>\n",
       "      <td>107.6938</td>\n",
       "      <td>OUT019</td>\n",
       "      <td>1985</td>\n",
       "      <td>Small</td>\n",
       "      <td>Tier 1</td>\n",
       "      <td>Grocery Store</td>\n",
       "      <td>214.3876</td>\n",
       "    </tr>\n",
       "    <tr>\n",
       "      <th>24</th>\n",
       "      <td>FDR28</td>\n",
       "      <td>13.850</td>\n",
       "      <td>Regular</td>\n",
       "      <td>0.025896</td>\n",
       "      <td>Frozen Foods</td>\n",
       "      <td>165.0210</td>\n",
       "      <td>OUT046</td>\n",
       "      <td>1997</td>\n",
       "      <td>Small</td>\n",
       "      <td>Tier 1</td>\n",
       "      <td>Supermarket Type1</td>\n",
       "      <td>4078.0250</td>\n",
       "    </tr>\n",
       "    <tr>\n",
       "      <th>25</th>\n",
       "      <td>NCD06</td>\n",
       "      <td>13.000</td>\n",
       "      <td>Low Fat</td>\n",
       "      <td>0.099887</td>\n",
       "      <td>Household</td>\n",
       "      <td>45.9060</td>\n",
       "      <td>OUT017</td>\n",
       "      <td>2007</td>\n",
       "      <td>NaN</td>\n",
       "      <td>Tier 2</td>\n",
       "      <td>Supermarket Type1</td>\n",
       "      <td>838.9080</td>\n",
       "    </tr>\n",
       "    <tr>\n",
       "      <th>26</th>\n",
       "      <td>FDV10</td>\n",
       "      <td>7.645</td>\n",
       "      <td>Regular</td>\n",
       "      <td>0.066693</td>\n",
       "      <td>Snack Foods</td>\n",
       "      <td>42.3112</td>\n",
       "      <td>OUT035</td>\n",
       "      <td>2004</td>\n",
       "      <td>Small</td>\n",
       "      <td>Tier 2</td>\n",
       "      <td>Supermarket Type1</td>\n",
       "      <td>1065.2800</td>\n",
       "    </tr>\n",
       "    <tr>\n",
       "      <th>27</th>\n",
       "      <td>DRJ59</td>\n",
       "      <td>11.650</td>\n",
       "      <td>low fat</td>\n",
       "      <td>0.019356</td>\n",
       "      <td>Hard Drinks</td>\n",
       "      <td>39.1164</td>\n",
       "      <td>OUT013</td>\n",
       "      <td>1987</td>\n",
       "      <td>High</td>\n",
       "      <td>Tier 3</td>\n",
       "      <td>Supermarket Type1</td>\n",
       "      <td>308.9312</td>\n",
       "    </tr>\n",
       "    <tr>\n",
       "      <th>28</th>\n",
       "      <td>FDE51</td>\n",
       "      <td>5.925</td>\n",
       "      <td>Regular</td>\n",
       "      <td>0.161467</td>\n",
       "      <td>Dairy</td>\n",
       "      <td>45.5086</td>\n",
       "      <td>OUT010</td>\n",
       "      <td>1998</td>\n",
       "      <td>NaN</td>\n",
       "      <td>Tier 3</td>\n",
       "      <td>Grocery Store</td>\n",
       "      <td>178.4344</td>\n",
       "    </tr>\n",
       "    <tr>\n",
       "      <th>29</th>\n",
       "      <td>FDC14</td>\n",
       "      <td>NaN</td>\n",
       "      <td>Regular</td>\n",
       "      <td>0.072222</td>\n",
       "      <td>Canned</td>\n",
       "      <td>43.6454</td>\n",
       "      <td>OUT019</td>\n",
       "      <td>1985</td>\n",
       "      <td>Small</td>\n",
       "      <td>Tier 1</td>\n",
       "      <td>Grocery Store</td>\n",
       "      <td>125.8362</td>\n",
       "    </tr>\n",
       "    <tr>\n",
       "      <th>30</th>\n",
       "      <td>FDV38</td>\n",
       "      <td>19.250</td>\n",
       "      <td>Low Fat</td>\n",
       "      <td>0.170349</td>\n",
       "      <td>Dairy</td>\n",
       "      <td>55.7956</td>\n",
       "      <td>OUT010</td>\n",
       "      <td>1998</td>\n",
       "      <td>NaN</td>\n",
       "      <td>Tier 3</td>\n",
       "      <td>Grocery Store</td>\n",
       "      <td>163.7868</td>\n",
       "    </tr>\n",
       "    <tr>\n",
       "      <th>31</th>\n",
       "      <td>NCS17</td>\n",
       "      <td>18.600</td>\n",
       "      <td>Low Fat</td>\n",
       "      <td>0.080829</td>\n",
       "      <td>Health and Hygiene</td>\n",
       "      <td>96.4436</td>\n",
       "      <td>OUT018</td>\n",
       "      <td>2009</td>\n",
       "      <td>Medium</td>\n",
       "      <td>Tier 3</td>\n",
       "      <td>Supermarket Type2</td>\n",
       "      <td>2741.7644</td>\n",
       "    </tr>\n",
       "    <tr>\n",
       "      <th>32</th>\n",
       "      <td>FDP33</td>\n",
       "      <td>18.700</td>\n",
       "      <td>Low Fat</td>\n",
       "      <td>0.000000</td>\n",
       "      <td>Snack Foods</td>\n",
       "      <td>256.6672</td>\n",
       "      <td>OUT018</td>\n",
       "      <td>2009</td>\n",
       "      <td>Medium</td>\n",
       "      <td>Tier 3</td>\n",
       "      <td>Supermarket Type2</td>\n",
       "      <td>3068.0064</td>\n",
       "    </tr>\n",
       "    <tr>\n",
       "      <th>33</th>\n",
       "      <td>FDO23</td>\n",
       "      <td>17.850</td>\n",
       "      <td>Low Fat</td>\n",
       "      <td>0.000000</td>\n",
       "      <td>Breads</td>\n",
       "      <td>93.1436</td>\n",
       "      <td>OUT045</td>\n",
       "      <td>2002</td>\n",
       "      <td>NaN</td>\n",
       "      <td>Tier 2</td>\n",
       "      <td>Supermarket Type1</td>\n",
       "      <td>2174.5028</td>\n",
       "    </tr>\n",
       "    <tr>\n",
       "      <th>34</th>\n",
       "      <td>DRH01</td>\n",
       "      <td>17.500</td>\n",
       "      <td>Low Fat</td>\n",
       "      <td>0.097904</td>\n",
       "      <td>Soft Drinks</td>\n",
       "      <td>174.8738</td>\n",
       "      <td>OUT046</td>\n",
       "      <td>1997</td>\n",
       "      <td>Small</td>\n",
       "      <td>Tier 1</td>\n",
       "      <td>Supermarket Type1</td>\n",
       "      <td>2085.2856</td>\n",
       "    </tr>\n",
       "    <tr>\n",
       "      <th>35</th>\n",
       "      <td>NCX29</td>\n",
       "      <td>10.000</td>\n",
       "      <td>Low Fat</td>\n",
       "      <td>0.089291</td>\n",
       "      <td>Health and Hygiene</td>\n",
       "      <td>146.7102</td>\n",
       "      <td>OUT049</td>\n",
       "      <td>1999</td>\n",
       "      <td>Medium</td>\n",
       "      <td>Tier 1</td>\n",
       "      <td>Supermarket Type1</td>\n",
       "      <td>3791.0652</td>\n",
       "    </tr>\n",
       "    <tr>\n",
       "      <th>36</th>\n",
       "      <td>FDV20</td>\n",
       "      <td>NaN</td>\n",
       "      <td>Regular</td>\n",
       "      <td>0.059512</td>\n",
       "      <td>Fruits and Vegetables</td>\n",
       "      <td>128.0678</td>\n",
       "      <td>OUT027</td>\n",
       "      <td>1985</td>\n",
       "      <td>Medium</td>\n",
       "      <td>Tier 3</td>\n",
       "      <td>Supermarket Type3</td>\n",
       "      <td>2797.6916</td>\n",
       "    </tr>\n",
       "    <tr>\n",
       "      <th>37</th>\n",
       "      <td>DRZ11</td>\n",
       "      <td>8.850</td>\n",
       "      <td>Regular</td>\n",
       "      <td>0.113124</td>\n",
       "      <td>Soft Drinks</td>\n",
       "      <td>122.5388</td>\n",
       "      <td>OUT018</td>\n",
       "      <td>2009</td>\n",
       "      <td>Medium</td>\n",
       "      <td>Tier 3</td>\n",
       "      <td>Supermarket Type2</td>\n",
       "      <td>1609.9044</td>\n",
       "    </tr>\n",
       "    <tr>\n",
       "      <th>38</th>\n",
       "      <td>FDX10</td>\n",
       "      <td>NaN</td>\n",
       "      <td>Regular</td>\n",
       "      <td>0.123111</td>\n",
       "      <td>Snack Foods</td>\n",
       "      <td>36.9874</td>\n",
       "      <td>OUT027</td>\n",
       "      <td>1985</td>\n",
       "      <td>Medium</td>\n",
       "      <td>Tier 3</td>\n",
       "      <td>Supermarket Type3</td>\n",
       "      <td>388.1614</td>\n",
       "    </tr>\n",
       "    <tr>\n",
       "      <th>39</th>\n",
       "      <td>FDB34</td>\n",
       "      <td>NaN</td>\n",
       "      <td>Low Fat</td>\n",
       "      <td>0.026481</td>\n",
       "      <td>Snack Foods</td>\n",
       "      <td>87.6198</td>\n",
       "      <td>OUT027</td>\n",
       "      <td>1985</td>\n",
       "      <td>Medium</td>\n",
       "      <td>Tier 3</td>\n",
       "      <td>Supermarket Type3</td>\n",
       "      <td>2180.4950</td>\n",
       "    </tr>\n",
       "    <tr>\n",
       "      <th>40</th>\n",
       "      <td>FDU02</td>\n",
       "      <td>13.350</td>\n",
       "      <td>Low Fat</td>\n",
       "      <td>0.102512</td>\n",
       "      <td>Dairy</td>\n",
       "      <td>230.6352</td>\n",
       "      <td>OUT046</td>\n",
       "      <td>1997</td>\n",
       "      <td>Small</td>\n",
       "      <td>Tier 1</td>\n",
       "      <td>Supermarket Type1</td>\n",
       "      <td>3435.5280</td>\n",
       "    </tr>\n",
       "    <tr>\n",
       "      <th>41</th>\n",
       "      <td>FDK43</td>\n",
       "      <td>9.800</td>\n",
       "      <td>Low Fat</td>\n",
       "      <td>0.026818</td>\n",
       "      <td>Meat</td>\n",
       "      <td>126.0020</td>\n",
       "      <td>OUT013</td>\n",
       "      <td>1987</td>\n",
       "      <td>High</td>\n",
       "      <td>Tier 3</td>\n",
       "      <td>Supermarket Type1</td>\n",
       "      <td>2150.5340</td>\n",
       "    </tr>\n",
       "    <tr>\n",
       "      <th>42</th>\n",
       "      <td>FDA46</td>\n",
       "      <td>13.600</td>\n",
       "      <td>Low Fat</td>\n",
       "      <td>0.117818</td>\n",
       "      <td>Snack Foods</td>\n",
       "      <td>192.9136</td>\n",
       "      <td>OUT049</td>\n",
       "      <td>1999</td>\n",
       "      <td>Medium</td>\n",
       "      <td>Tier 1</td>\n",
       "      <td>Supermarket Type1</td>\n",
       "      <td>2527.3768</td>\n",
       "    </tr>\n",
       "    <tr>\n",
       "      <th>43</th>\n",
       "      <td>FDC02</td>\n",
       "      <td>21.350</td>\n",
       "      <td>Low Fat</td>\n",
       "      <td>0.069103</td>\n",
       "      <td>Canned</td>\n",
       "      <td>259.9278</td>\n",
       "      <td>OUT018</td>\n",
       "      <td>2009</td>\n",
       "      <td>Medium</td>\n",
       "      <td>Tier 3</td>\n",
       "      <td>Supermarket Type2</td>\n",
       "      <td>6768.5228</td>\n",
       "    </tr>\n",
       "    <tr>\n",
       "      <th>44</th>\n",
       "      <td>FDL50</td>\n",
       "      <td>12.150</td>\n",
       "      <td>Regular</td>\n",
       "      <td>0.042278</td>\n",
       "      <td>Canned</td>\n",
       "      <td>126.5046</td>\n",
       "      <td>OUT013</td>\n",
       "      <td>1987</td>\n",
       "      <td>High</td>\n",
       "      <td>Tier 3</td>\n",
       "      <td>Supermarket Type1</td>\n",
       "      <td>373.5138</td>\n",
       "    </tr>\n",
       "  </tbody>\n",
       "</table>\n",
       "</div>"
      ],
      "text/plain": [
       "   Item_Identifier  Item_Weight Item_Fat_Content  Item_Visibility  \\\n",
       "0            FDA15        9.300          Low Fat         0.016047   \n",
       "1            DRC01        5.920          Regular         0.019278   \n",
       "2            FDN15       17.500          Low Fat         0.016760   \n",
       "3            FDX07       19.200          Regular         0.000000   \n",
       "4            NCD19        8.930          Low Fat         0.000000   \n",
       "5            FDP36       10.395          Regular         0.000000   \n",
       "6            FDO10       13.650          Regular         0.012741   \n",
       "7            FDP10          NaN          Low Fat         0.127470   \n",
       "8            FDH17       16.200          Regular         0.016687   \n",
       "9            FDU28       19.200          Regular         0.094450   \n",
       "10           FDY07       11.800          Low Fat         0.000000   \n",
       "11           FDA03       18.500          Regular         0.045464   \n",
       "12           FDX32       15.100          Regular         0.100014   \n",
       "13           FDS46       17.600          Regular         0.047257   \n",
       "14           FDF32       16.350          Low Fat         0.068024   \n",
       "15           FDP49        9.000          Regular         0.069089   \n",
       "16           NCB42       11.800          Low Fat         0.008596   \n",
       "17           FDP49        9.000          Regular         0.069196   \n",
       "18           DRI11          NaN          Low Fat         0.034238   \n",
       "19           FDU02       13.350          Low Fat         0.102492   \n",
       "20           FDN22       18.850          Regular         0.138190   \n",
       "21           FDW12          NaN          Regular         0.035400   \n",
       "22           NCB30       14.600          Low Fat         0.025698   \n",
       "23           FDC37          NaN          Low Fat         0.057557   \n",
       "24           FDR28       13.850          Regular         0.025896   \n",
       "25           NCD06       13.000          Low Fat         0.099887   \n",
       "26           FDV10        7.645          Regular         0.066693   \n",
       "27           DRJ59       11.650          low fat         0.019356   \n",
       "28           FDE51        5.925          Regular         0.161467   \n",
       "29           FDC14          NaN          Regular         0.072222   \n",
       "30           FDV38       19.250          Low Fat         0.170349   \n",
       "31           NCS17       18.600          Low Fat         0.080829   \n",
       "32           FDP33       18.700          Low Fat         0.000000   \n",
       "33           FDO23       17.850          Low Fat         0.000000   \n",
       "34           DRH01       17.500          Low Fat         0.097904   \n",
       "35           NCX29       10.000          Low Fat         0.089291   \n",
       "36           FDV20          NaN          Regular         0.059512   \n",
       "37           DRZ11        8.850          Regular         0.113124   \n",
       "38           FDX10          NaN          Regular         0.123111   \n",
       "39           FDB34          NaN          Low Fat         0.026481   \n",
       "40           FDU02       13.350          Low Fat         0.102512   \n",
       "41           FDK43        9.800          Low Fat         0.026818   \n",
       "42           FDA46       13.600          Low Fat         0.117818   \n",
       "43           FDC02       21.350          Low Fat         0.069103   \n",
       "44           FDL50       12.150          Regular         0.042278   \n",
       "\n",
       "                Item_Type  Item_MRP Outlet_Identifier  \\\n",
       "0                   Dairy  249.8092            OUT049   \n",
       "1             Soft Drinks   48.2692            OUT018   \n",
       "2                    Meat  141.6180            OUT049   \n",
       "3   Fruits and Vegetables  182.0950            OUT010   \n",
       "4               Household   53.8614            OUT013   \n",
       "5            Baking Goods   51.4008            OUT018   \n",
       "6             Snack Foods   57.6588            OUT013   \n",
       "7             Snack Foods  107.7622            OUT027   \n",
       "8            Frozen Foods   96.9726            OUT045   \n",
       "9            Frozen Foods  187.8214            OUT017   \n",
       "10  Fruits and Vegetables   45.5402            OUT049   \n",
       "11                  Dairy  144.1102            OUT046   \n",
       "12  Fruits and Vegetables  145.4786            OUT049   \n",
       "13            Snack Foods  119.6782            OUT046   \n",
       "14  Fruits and Vegetables  196.4426            OUT013   \n",
       "15              Breakfast   56.3614            OUT046   \n",
       "16     Health and Hygiene  115.3492            OUT018   \n",
       "17              Breakfast   54.3614            OUT049   \n",
       "18            Hard Drinks  113.2834            OUT027   \n",
       "19                  Dairy  230.5352            OUT035   \n",
       "20            Snack Foods  250.8724            OUT013   \n",
       "21           Baking Goods  144.5444            OUT027   \n",
       "22              Household  196.5084            OUT035   \n",
       "23           Baking Goods  107.6938            OUT019   \n",
       "24           Frozen Foods  165.0210            OUT046   \n",
       "25              Household   45.9060            OUT017   \n",
       "26            Snack Foods   42.3112            OUT035   \n",
       "27            Hard Drinks   39.1164            OUT013   \n",
       "28                  Dairy   45.5086            OUT010   \n",
       "29                 Canned   43.6454            OUT019   \n",
       "30                  Dairy   55.7956            OUT010   \n",
       "31     Health and Hygiene   96.4436            OUT018   \n",
       "32            Snack Foods  256.6672            OUT018   \n",
       "33                 Breads   93.1436            OUT045   \n",
       "34            Soft Drinks  174.8738            OUT046   \n",
       "35     Health and Hygiene  146.7102            OUT049   \n",
       "36  Fruits and Vegetables  128.0678            OUT027   \n",
       "37            Soft Drinks  122.5388            OUT018   \n",
       "38            Snack Foods   36.9874            OUT027   \n",
       "39            Snack Foods   87.6198            OUT027   \n",
       "40                  Dairy  230.6352            OUT046   \n",
       "41                   Meat  126.0020            OUT013   \n",
       "42            Snack Foods  192.9136            OUT049   \n",
       "43                 Canned  259.9278            OUT018   \n",
       "44                 Canned  126.5046            OUT013   \n",
       "\n",
       "    Outlet_Establishment_Year Outlet_Size Outlet_Location_Type  \\\n",
       "0                        1999      Medium               Tier 1   \n",
       "1                        2009      Medium               Tier 3   \n",
       "2                        1999      Medium               Tier 1   \n",
       "3                        1998         NaN               Tier 3   \n",
       "4                        1987        High               Tier 3   \n",
       "5                        2009      Medium               Tier 3   \n",
       "6                        1987        High               Tier 3   \n",
       "7                        1985      Medium               Tier 3   \n",
       "8                        2002         NaN               Tier 2   \n",
       "9                        2007         NaN               Tier 2   \n",
       "10                       1999      Medium               Tier 1   \n",
       "11                       1997       Small               Tier 1   \n",
       "12                       1999      Medium               Tier 1   \n",
       "13                       1997       Small               Tier 1   \n",
       "14                       1987        High               Tier 3   \n",
       "15                       1997       Small               Tier 1   \n",
       "16                       2009      Medium               Tier 3   \n",
       "17                       1999      Medium               Tier 1   \n",
       "18                       1985      Medium               Tier 3   \n",
       "19                       2004       Small               Tier 2   \n",
       "20                       1987        High               Tier 3   \n",
       "21                       1985      Medium               Tier 3   \n",
       "22                       2004       Small               Tier 2   \n",
       "23                       1985       Small               Tier 1   \n",
       "24                       1997       Small               Tier 1   \n",
       "25                       2007         NaN               Tier 2   \n",
       "26                       2004       Small               Tier 2   \n",
       "27                       1987        High               Tier 3   \n",
       "28                       1998         NaN               Tier 3   \n",
       "29                       1985       Small               Tier 1   \n",
       "30                       1998         NaN               Tier 3   \n",
       "31                       2009      Medium               Tier 3   \n",
       "32                       2009      Medium               Tier 3   \n",
       "33                       2002         NaN               Tier 2   \n",
       "34                       1997       Small               Tier 1   \n",
       "35                       1999      Medium               Tier 1   \n",
       "36                       1985      Medium               Tier 3   \n",
       "37                       2009      Medium               Tier 3   \n",
       "38                       1985      Medium               Tier 3   \n",
       "39                       1985      Medium               Tier 3   \n",
       "40                       1997       Small               Tier 1   \n",
       "41                       1987        High               Tier 3   \n",
       "42                       1999      Medium               Tier 1   \n",
       "43                       2009      Medium               Tier 3   \n",
       "44                       1987        High               Tier 3   \n",
       "\n",
       "          Outlet_Type  Item_Outlet_Sales  \n",
       "0   Supermarket Type1          3735.1380  \n",
       "1   Supermarket Type2           443.4228  \n",
       "2   Supermarket Type1          2097.2700  \n",
       "3       Grocery Store           732.3800  \n",
       "4   Supermarket Type1           994.7052  \n",
       "5   Supermarket Type2           556.6088  \n",
       "6   Supermarket Type1           343.5528  \n",
       "7   Supermarket Type3          4022.7636  \n",
       "8   Supermarket Type1          1076.5986  \n",
       "9   Supermarket Type1          4710.5350  \n",
       "10  Supermarket Type1          1516.0266  \n",
       "11  Supermarket Type1          2187.1530  \n",
       "12  Supermarket Type1          1589.2646  \n",
       "13  Supermarket Type1          2145.2076  \n",
       "14  Supermarket Type1          1977.4260  \n",
       "15  Supermarket Type1          1547.3192  \n",
       "16  Supermarket Type2          1621.8888  \n",
       "17  Supermarket Type1           718.3982  \n",
       "18  Supermarket Type3          2303.6680  \n",
       "19  Supermarket Type1          2748.4224  \n",
       "20  Supermarket Type1          3775.0860  \n",
       "21  Supermarket Type3          4064.0432  \n",
       "22  Supermarket Type1          1587.2672  \n",
       "23      Grocery Store           214.3876  \n",
       "24  Supermarket Type1          4078.0250  \n",
       "25  Supermarket Type1           838.9080  \n",
       "26  Supermarket Type1          1065.2800  \n",
       "27  Supermarket Type1           308.9312  \n",
       "28      Grocery Store           178.4344  \n",
       "29      Grocery Store           125.8362  \n",
       "30      Grocery Store           163.7868  \n",
       "31  Supermarket Type2          2741.7644  \n",
       "32  Supermarket Type2          3068.0064  \n",
       "33  Supermarket Type1          2174.5028  \n",
       "34  Supermarket Type1          2085.2856  \n",
       "35  Supermarket Type1          3791.0652  \n",
       "36  Supermarket Type3          2797.6916  \n",
       "37  Supermarket Type2          1609.9044  \n",
       "38  Supermarket Type3           388.1614  \n",
       "39  Supermarket Type3          2180.4950  \n",
       "40  Supermarket Type1          3435.5280  \n",
       "41  Supermarket Type1          2150.5340  \n",
       "42  Supermarket Type1          2527.3768  \n",
       "43  Supermarket Type2          6768.5228  \n",
       "44  Supermarket Type1           373.5138  "
      ]
     },
     "execution_count": 4,
     "metadata": {},
     "output_type": "execute_result"
    }
   ],
   "source": [
    "train.head(45)"
   ]
  },
  {
   "cell_type": "code",
   "execution_count": 35,
   "metadata": {
    "collapsed": true
   },
   "outputs": [
    {
     "data": {
      "text/plain": [
       "Item_Identifier                 0\n",
       "Item_Weight                  1463\n",
       "Item_Fat_Content                0\n",
       "Item_Visibility                 0\n",
       "Item_Type                       0\n",
       "Item_MRP                        0\n",
       "Outlet_Identifier               0\n",
       "Outlet_Establishment_Year       0\n",
       "Outlet_Size                  2410\n",
       "Outlet_Location_Type            0\n",
       "Outlet_Type                     0\n",
       "Item_Outlet_Sales               0\n",
       "dtype: int64"
      ]
     },
     "execution_count": 35,
     "metadata": {},
     "output_type": "execute_result"
    }
   ],
   "source": [
    "train.isnull().sum()"
   ]
  },
  {
   "cell_type": "code",
   "execution_count": 85,
   "metadata": {
    "collapsed": true
   },
   "outputs": [
    {
     "data": {
      "text/plain": [
       "Item_Identifier                 0\n",
       "Item_Weight                   976\n",
       "Item_Fat_Content                0\n",
       "Item_Visibility                 0\n",
       "Item_Type                       0\n",
       "Item_MRP                        0\n",
       "Outlet_Identifier               0\n",
       "Outlet_Establishment_Year       0\n",
       "Outlet_Size                  1606\n",
       "Outlet_Location_Type            0\n",
       "Outlet_Type                     0\n",
       "dtype: int64"
      ]
     },
     "execution_count": 85,
     "metadata": {},
     "output_type": "execute_result"
    }
   ],
   "source": [
    "test.isnull().sum()"
   ]
  },
  {
   "cell_type": "code",
   "execution_count": 36,
   "metadata": {
    "collapsed": true
   },
   "outputs": [
    {
     "data": {
      "text/html": [
       "<div>\n",
       "<style scoped>\n",
       "    .dataframe tbody tr th:only-of-type {\n",
       "        vertical-align: middle;\n",
       "    }\n",
       "\n",
       "    .dataframe tbody tr th {\n",
       "        vertical-align: top;\n",
       "    }\n",
       "\n",
       "    .dataframe thead th {\n",
       "        text-align: right;\n",
       "    }\n",
       "</style>\n",
       "<table border=\"1\" class=\"dataframe\">\n",
       "  <thead>\n",
       "    <tr style=\"text-align: right;\">\n",
       "      <th></th>\n",
       "      <th>Item_Weight</th>\n",
       "      <th>Item_Visibility</th>\n",
       "      <th>Item_MRP</th>\n",
       "      <th>Outlet_Establishment_Year</th>\n",
       "      <th>Item_Outlet_Sales</th>\n",
       "    </tr>\n",
       "  </thead>\n",
       "  <tbody>\n",
       "    <tr>\n",
       "      <th>count</th>\n",
       "      <td>7060.000000</td>\n",
       "      <td>8523.000000</td>\n",
       "      <td>8523.000000</td>\n",
       "      <td>8523.000000</td>\n",
       "      <td>8523.000000</td>\n",
       "    </tr>\n",
       "    <tr>\n",
       "      <th>mean</th>\n",
       "      <td>12.857645</td>\n",
       "      <td>0.066132</td>\n",
       "      <td>140.992782</td>\n",
       "      <td>1997.831867</td>\n",
       "      <td>2181.288914</td>\n",
       "    </tr>\n",
       "    <tr>\n",
       "      <th>std</th>\n",
       "      <td>4.643456</td>\n",
       "      <td>0.051598</td>\n",
       "      <td>62.275067</td>\n",
       "      <td>8.371760</td>\n",
       "      <td>1706.499616</td>\n",
       "    </tr>\n",
       "    <tr>\n",
       "      <th>min</th>\n",
       "      <td>4.555000</td>\n",
       "      <td>0.000000</td>\n",
       "      <td>31.290000</td>\n",
       "      <td>1985.000000</td>\n",
       "      <td>33.290000</td>\n",
       "    </tr>\n",
       "    <tr>\n",
       "      <th>25%</th>\n",
       "      <td>8.773750</td>\n",
       "      <td>0.026989</td>\n",
       "      <td>93.826500</td>\n",
       "      <td>1987.000000</td>\n",
       "      <td>834.247400</td>\n",
       "    </tr>\n",
       "    <tr>\n",
       "      <th>50%</th>\n",
       "      <td>12.600000</td>\n",
       "      <td>0.053931</td>\n",
       "      <td>143.012800</td>\n",
       "      <td>1999.000000</td>\n",
       "      <td>1794.331000</td>\n",
       "    </tr>\n",
       "    <tr>\n",
       "      <th>75%</th>\n",
       "      <td>16.850000</td>\n",
       "      <td>0.094585</td>\n",
       "      <td>185.643700</td>\n",
       "      <td>2004.000000</td>\n",
       "      <td>3101.296400</td>\n",
       "    </tr>\n",
       "    <tr>\n",
       "      <th>max</th>\n",
       "      <td>21.350000</td>\n",
       "      <td>0.328391</td>\n",
       "      <td>266.888400</td>\n",
       "      <td>2009.000000</td>\n",
       "      <td>13086.964800</td>\n",
       "    </tr>\n",
       "  </tbody>\n",
       "</table>\n",
       "</div>"
      ],
      "text/plain": [
       "       Item_Weight  Item_Visibility     Item_MRP  Outlet_Establishment_Year  \\\n",
       "count  7060.000000      8523.000000  8523.000000                8523.000000   \n",
       "mean     12.857645         0.066132   140.992782                1997.831867   \n",
       "std       4.643456         0.051598    62.275067                   8.371760   \n",
       "min       4.555000         0.000000    31.290000                1985.000000   \n",
       "25%       8.773750         0.026989    93.826500                1987.000000   \n",
       "50%      12.600000         0.053931   143.012800                1999.000000   \n",
       "75%      16.850000         0.094585   185.643700                2004.000000   \n",
       "max      21.350000         0.328391   266.888400                2009.000000   \n",
       "\n",
       "       Item_Outlet_Sales  \n",
       "count        8523.000000  \n",
       "mean         2181.288914  \n",
       "std          1706.499616  \n",
       "min            33.290000  \n",
       "25%           834.247400  \n",
       "50%          1794.331000  \n",
       "75%          3101.296400  \n",
       "max         13086.964800  "
      ]
     },
     "execution_count": 36,
     "metadata": {},
     "output_type": "execute_result"
    }
   ],
   "source": [
    "train.describe()"
   ]
  },
  {
   "cell_type": "code",
   "execution_count": 37,
   "metadata": {
    "collapsed": true
   },
   "outputs": [
    {
     "data": {
      "text/plain": [
       "<matplotlib.axes._subplots.AxesSubplot at 0x1b897f0e1c8>"
      ]
     },
     "execution_count": 37,
     "metadata": {},
     "output_type": "execute_result"
    },
    {
     "data": {
      "image/png": "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\n",
      "text/plain": [
       "<Figure size 864x720 with 2 Axes>"
      ]
     },
     "metadata": {
      "needs_background": "light"
     },
     "output_type": "display_data"
    }
   ],
   "source": [
    "import seaborn as sns\n",
    "# Plot the linear correlation between different numerical features\n",
    "plt.figure(figsize=(12,10))\n",
    "corr = train.corr()\n",
    "sns.heatmap(corr,annot=True, fmt='.2f')"
   ]
  },
  {
   "cell_type": "code",
   "execution_count": 38,
   "metadata": {
    "collapsed": true
   },
   "outputs": [
    {
     "data": {
      "text/plain": [
       "Medium    2793\n",
       "Small     2388\n",
       "High       932\n",
       "Name: Outlet_Size, dtype: int64"
      ]
     },
     "execution_count": 38,
     "metadata": {},
     "output_type": "execute_result"
    }
   ],
   "source": [
    "train['Outlet_Size'].value_counts()"
   ]
  },
  {
   "cell_type": "code",
   "execution_count": 39,
   "metadata": {},
   "outputs": [],
   "source": [
    "#filling the missing valuse ion train dataset(Outlet_Size)\n",
    "train.Outlet_Size=train.Outlet_Size.fillna('Medium')"
   ]
  },
  {
   "cell_type": "code",
   "execution_count": 41,
   "metadata": {},
   "outputs": [],
   "source": [
    "#filling the missing valuse ion train dataset(Item_Weight)\n",
    "train['Item_Weight'] = train['Item_Weight'].replace(0, np.NaN)\n",
    "train['Item_Weight'].fillna(train['Item_Weight'].mean(), inplace = True)"
   ]
  },
  {
   "cell_type": "code",
   "execution_count": 86,
   "metadata": {},
   "outputs": [],
   "source": [
    "##filling the missing valuse ion test dataset(Outlet_Size)\n",
    "test.Outlet_Size=test.Outlet_Size.fillna('Medium')\n"
   ]
  },
  {
   "cell_type": "code",
   "execution_count": 87,
   "metadata": {},
   "outputs": [],
   "source": [
    "#filling the missing valuse ion test dataset(Item_Weight)\n",
    "test['Item_Weight'] = test['Item_Weight'].replace(0, np.NaN)\n",
    "test['Item_Weight'].fillna(test['Item_Weight'].mean(), inplace = True)"
   ]
  },
  {
   "cell_type": "code",
   "execution_count": 88,
   "metadata": {},
   "outputs": [
    {
     "data": {
      "text/plain": [
       "Item_Identifier              0\n",
       "Item_Weight                  0\n",
       "Item_Fat_Content             0\n",
       "Item_Visibility              0\n",
       "Item_Type                    0\n",
       "Item_MRP                     0\n",
       "Outlet_Identifier            0\n",
       "Outlet_Establishment_Year    0\n",
       "Outlet_Size                  0\n",
       "Outlet_Location_Type         0\n",
       "Outlet_Type                  0\n",
       "dtype: int64"
      ]
     },
     "execution_count": 88,
     "metadata": {},
     "output_type": "execute_result"
    }
   ],
   "source": [
    "test.isnull().sum()"
   ]
  },
  {
   "cell_type": "code",
   "execution_count": 12,
   "metadata": {
    "collapsed": true
   },
   "outputs": [
    {
     "data": {
      "text/plain": [
       "Text(0, 0.5, 'counts')"
      ]
     },
     "execution_count": 12,
     "metadata": {},
     "output_type": "execute_result"
    },
    {
     "data": {
      "image/png": "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\n",
      "text/plain": [
       "<Figure size 432x288 with 1 Axes>"
      ]
     },
     "metadata": {
      "needs_background": "light"
     },
     "output_type": "display_data"
    }
   ],
   "source": [
    "# Data Visualization \n",
    "\n",
    "plt.hist(train['Item_Outlet_Sales'],bins=20,color='pink')\n",
    "plt.title('Target Variable')\n",
    "plt.xlabel('Item_Outlet_Sales')\n",
    "plt.ylabel('counts')\n"
   ]
  },
  {
   "cell_type": "code",
   "execution_count": 43,
   "metadata": {
    "collapsed": true
   },
   "outputs": [
    {
     "data": {
      "text/plain": [
       "FDG33    10\n",
       "FDW13    10\n",
       "FDF56     9\n",
       "NCB18     9\n",
       "NCF42     9\n",
       "         ..\n",
       "FDC23     1\n",
       "DRF48     1\n",
       "FDN52     1\n",
       "FDE52     1\n",
       "FDK57     1\n",
       "Name: Item_Identifier, Length: 1559, dtype: int64"
      ]
     },
     "execution_count": 43,
     "metadata": {},
     "output_type": "execute_result"
    }
   ],
   "source": [
    "#checking the different items in Item_Identifier\n",
    "\n",
    "train['Item_Identifier'].value_counts()"
   ]
  },
  {
   "cell_type": "code",
   "execution_count": 44,
   "metadata": {
    "collapsed": true
   },
   "outputs": [
    {
     "data": {
      "text/plain": [
       "Text(0, 0.5, 'number of items')"
      ]
     },
     "execution_count": 44,
     "metadata": {},
     "output_type": "execute_result"
    },
    {
     "data": {
      "image/png": "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\n",
      "text/plain": [
       "<Figure size 432x288 with 1 Axes>"
      ]
     },
     "metadata": {
      "needs_background": "light"
     },
     "output_type": "display_data"
    }
   ],
   "source": [
    "# will analyze only the training set\n",
    "train['Item_Identifier'].value_counts(normalize=True)\n",
    "train['Item_Identifier'].value_counts().plot.hist()\n",
    "plt.title('Different type of Item_Identifier')\n",
    "plt.xlabel('Item_Identifier')\n",
    "plt.ylabel('number of items')"
   ]
  },
  {
   "cell_type": "code",
   "execution_count": 45,
   "metadata": {
    "collapsed": true
   },
   "outputs": [
    {
     "data": {
      "text/plain": [
       "Low Fat    5089\n",
       "Regular    2889\n",
       "LF          316\n",
       "reg         117\n",
       "low fat     112\n",
       "Name: Item_Fat_Content, dtype: int64"
      ]
     },
     "execution_count": 45,
     "metadata": {},
     "output_type": "execute_result"
    }
   ],
   "source": [
    "#checking the different items in itmems fat content\n",
    "train['Item_Fat_Content'].value_counts()"
   ]
  },
  {
   "cell_type": "code",
   "execution_count": 46,
   "metadata": {},
   "outputs": [
    {
     "data": {
      "image/png": "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\n",
      "text/plain": [
       "<Figure size 432x288 with 1 Axes>"
      ]
     },
     "metadata": {
      "needs_background": "light"
     },
     "output_type": "display_data"
    }
   ],
   "source": [
    "# will analyze the Item_Fat_Content\n",
    "train['Item_Fat_Content'].value_counts(normalize = True)\n",
    "train['Item_Fat_Content'].value_counts().plot.bar()\n",
    "plt.title('Different varieties of fats in item in the store')\n",
    "plt.xlabel('Fat')\n",
    "plt.ylabel('Number of Items')\n",
    "plt.show()\n",
    "#plt.hist(train['Item_Fat_Content'],bins=20,color='blue')\n"
   ]
  },
  {
   "cell_type": "code",
   "execution_count": 47,
   "metadata": {},
   "outputs": [
    {
     "data": {
      "text/plain": [
       "Fruits and Vegetables    1232\n",
       "Snack Foods              1200\n",
       "Household                 910\n",
       "Frozen Foods              856\n",
       "Dairy                     682\n",
       "Canned                    649\n",
       "Baking Goods              648\n",
       "Health and Hygiene        520\n",
       "Soft Drinks               445\n",
       "Meat                      425\n",
       "Breads                    251\n",
       "Hard Drinks               214\n",
       "Others                    169\n",
       "Starchy Foods             148\n",
       "Breakfast                 110\n",
       "Seafood                    64\n",
       "Name: Item_Type, dtype: int64"
      ]
     },
     "execution_count": 47,
     "metadata": {},
     "output_type": "execute_result"
    }
   ],
   "source": [
    "# cheking the different items in intem type\n",
    "\n",
    "train['Item_Type'].value_counts()"
   ]
  },
  {
   "cell_type": "code",
   "execution_count": 48,
   "metadata": {
    "collapsed": true
   },
   "outputs": [
    {
     "data": {
      "text/plain": [
       "Text(0, 0.5, 'number of items')"
      ]
     },
     "execution_count": 48,
     "metadata": {},
     "output_type": "execute_result"
    },
    {
     "data": {
      "image/png": "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\n",
      "text/plain": [
       "<Figure size 432x288 with 1 Axes>"
      ]
     },
     "metadata": {
      "needs_background": "light"
     },
     "output_type": "display_data"
    }
   ],
   "source": [
    "#analyze item_type\n",
    "\n",
    "\n",
    "train['Item_Type'].value_counts(normalize=True)\n",
    "train['Item_Type'].value_counts().plot.bar()\n",
    "plt.title('different types ot items available in the store')\n",
    "plt.xlabel('Item')\n",
    "plt.ylabel('number of items')"
   ]
  },
  {
   "cell_type": "code",
   "execution_count": 49,
   "metadata": {
    "collapsed": true
   },
   "outputs": [
    {
     "data": {
      "text/plain": [
       "OUT027    935\n",
       "OUT013    932\n",
       "OUT035    930\n",
       "OUT049    930\n",
       "OUT046    930\n",
       "OUT045    929\n",
       "OUT018    928\n",
       "OUT017    926\n",
       "OUT010    555\n",
       "OUT019    528\n",
       "Name: Outlet_Identifier, dtype: int64"
      ]
     },
     "execution_count": 49,
     "metadata": {},
     "output_type": "execute_result"
    }
   ],
   "source": [
    "# checking the different Outlet_Identifier\n",
    "\n",
    "train['Outlet_Identifier'].value_counts()"
   ]
  },
  {
   "cell_type": "code",
   "execution_count": 50,
   "metadata": {
    "collapsed": true
   },
   "outputs": [
    {
     "data": {
      "text/plain": [
       "Text(0, 0.5, 'number o0f Outlet_Identifier')"
      ]
     },
     "execution_count": 50,
     "metadata": {},
     "output_type": "execute_result"
    },
    {
     "data": {
      "image/png": "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\n",
      "text/plain": [
       "<Figure size 432x288 with 1 Axes>"
      ]
     },
     "metadata": {
      "needs_background": "light"
     },
     "output_type": "display_data"
    }
   ],
   "source": [
    "#analyze the Outlet_Identifier\n",
    "train['Outlet_Identifier'].value_counts(normalize=True)\n",
    "train['Outlet_Identifier'].value_counts().plot.bar()\n",
    "plt.title('different types of Outlet_Identifier')\n",
    "plt.xlabel('Outlet_Identifier')\n",
    "plt.ylabel('number o0f Outlet_Identifier')"
   ]
  },
  {
   "cell_type": "code",
   "execution_count": 51,
   "metadata": {},
   "outputs": [
    {
     "data": {
      "text/plain": [
       "Medium    5203\n",
       "Small     2388\n",
       "High       932\n",
       "Name: Outlet_Size, dtype: int64"
      ]
     },
     "execution_count": 51,
     "metadata": {},
     "output_type": "execute_result"
    }
   ],
   "source": [
    "#checking the different items_size \n",
    "train['Outlet_Size'].value_counts()"
   ]
  },
  {
   "cell_type": "code",
   "execution_count": 52,
   "metadata": {},
   "outputs": [
    {
     "data": {
      "text/plain": [
       "(array([5203.,    0.,    0.,    0.,    0.,    0.,    0.,    0.,    0.,\n",
       "           0.,  932.,    0.,    0.,    0.,    0.,    0.,    0.,    0.,\n",
       "           0., 2388.]),\n",
       " array([0. , 0.1, 0.2, 0.3, 0.4, 0.5, 0.6, 0.7, 0.8, 0.9, 1. , 1.1, 1.2,\n",
       "        1.3, 1.4, 1.5, 1.6, 1.7, 1.8, 1.9, 2. ]),\n",
       " <a list of 20 Patch objects>)"
      ]
     },
     "execution_count": 52,
     "metadata": {},
     "output_type": "execute_result"
    },
    {
     "data": {
      "image/png": "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\n",
      "text/plain": [
       "<Figure size 432x288 with 1 Axes>"
      ]
     },
     "metadata": {
      "needs_background": "light"
     },
     "output_type": "display_data"
    }
   ],
   "source": [
    "plt.hist(train['Outlet_Size'],bins=20,color='pink')"
   ]
  },
  {
   "cell_type": "code",
   "execution_count": 53,
   "metadata": {},
   "outputs": [
    {
     "data": {
      "text/plain": [
       "Tier 3    3350\n",
       "Tier 2    2785\n",
       "Tier 1    2388\n",
       "Name: Outlet_Location_Type, dtype: int64"
      ]
     },
     "execution_count": 53,
     "metadata": {},
     "output_type": "execute_result"
    }
   ],
   "source": [
    "# checkimg the uniqe types in Outlet_Location_Type          \n",
    "train['Outlet_Location_Type'].value_counts()"
   ]
  },
  {
   "cell_type": "code",
   "execution_count": 54,
   "metadata": {},
   "outputs": [
    {
     "data": {
      "text/plain": [
       "(array([2388.,    0.,    0.,    0.,    0.,    0.,    0.,    0.,    0.,\n",
       "           0., 3350.,    0.,    0.,    0.,    0.,    0.,    0.,    0.,\n",
       "           0., 2785.]),\n",
       " array([0. , 0.1, 0.2, 0.3, 0.4, 0.5, 0.6, 0.7, 0.8, 0.9, 1. , 1.1, 1.2,\n",
       "        1.3, 1.4, 1.5, 1.6, 1.7, 1.8, 1.9, 2. ]),\n",
       " <a list of 20 Patch objects>)"
      ]
     },
     "execution_count": 54,
     "metadata": {},
     "output_type": "execute_result"
    },
    {
     "data": {
      "image/png": "iVBORw0KGgoAAAANSUhEUgAAAX0AAAD7CAYAAACG50QgAAAABHNCSVQICAgIfAhkiAAAAAlwSFlzAAALEgAACxIB0t1+/AAAADh0RVh0U29mdHdhcmUAbWF0cGxvdGxpYiB2ZXJzaW9uMy4xLjMsIGh0dHA6Ly9tYXRwbG90bGliLm9yZy+AADFEAAARtElEQVR4nO3df4wd513v8fenTloqCsQhmxJsF0etoU2RcMvBiah01Vu4jhMJOUhUpBKtCUEuKBFUQuWm/EH64yKKBK1U1IZrlLQOKg0RFNWqAsGEVgWJNF63aRrXDVn6K4tNslynKSFSIOF7/zjPSif22d3j/eUfz/slHZ2Z7zxz5pnV7OeMn5lZp6qQJPXhRWe6A5Kk9WPoS1JHDH1J6oihL0kdMfQlqSOGviR1ZMnQT/JdSR5I8qUkR5K8p9U/luTrSR5sr+2tniQfSjKT5KEkrx/5rD1JHm2vPWu3W5KkcS6YoM2zwJuq6ukkFwL/kOSv2rJ3VtWfn9T+GmBbe10J3AZcmeRi4FZgABRwOMmBqnpyNXZEkrS0JUO/hk9vPd1mL2yvxZ7o2g3c2da7P8lFSS4D3ggcrKoTAEkOAruATyz0QZdccklt3bp1gt2QJM07fPjwv1XV1Lhlk5zpk2QDcBh4FfDhqvp8kl8FfifJbwP3AbdU1bPAJuCxkdVnW22h+snb2gvsBXjFK17B9PT0JF2UJDVJvrnQsoku5FbV81W1HdgM7Ejyo8C7gFcDPwFcDPzv+e2N+4hF6idva19VDapqMDU19otKkrRMp3X3TlV9G/gssKuqjtfQs8BHgR2t2SywZWS1zcCxReqSpHUyyd07U0kuatMvBX4a+GobpydJgOuAh9sqB4C3tbt4rgKeqqrjwL3AziQbk2wEdraaJGmdTDKmfxmwv43rvwi4u6o+neTvkkwxHLZ5EPiV1v4e4FpgBngGuAGgqk4keR9wqLV77/xFXUnS+sjZ/KeVB4NBeSFXkk5PksNVNRi3zCdyJakjhr4kdcTQl6SOGPqS1JGJnsiVdKqMe9xwQmfx/RM6z3mmL0kdMfQlqSOGviR1xNCXpI4Y+pLUEUNfkjpi6EtSRwx9SeqIoS9JHTH0Jakjhr4kdcTQl6SOGPqS1BFDX5I6YuhLUkcMfUnqiKEvSR1ZMvSTfFeSB5J8KcmRJO9p9cuTfD7Jo0n+LMmLW/0lbX6mLd868lnvavVHkly9VjslSRpvkjP9Z4E3VdWPAduBXUmuAn4P+GBVbQOeBG5s7W8EnqyqVwEfbO1IcgVwPfBaYBfwkSQbVnNnJEmLWzL0a+jpNnthexXwJuDPW30/cF2b3t3mact/Kkla/a6qeraqvg7MADtWZS8kSROZaEw/yYYkDwJPAAeBfwa+XVXPtSazwKY2vQl4DKAtfwr4/tH6mHVGt7U3yXSS6bm5udPfI0nSgiYK/ap6vqq2A5sZnp2/Zlyz9p4Fli1UP3lb+6pqUFWDqampSbonSZrQad29U1XfBj4LXAVclOSCtmgzcKxNzwJbANry7wNOjNbHrCNJWgeT3L0zleSiNv1S4KeBo8BngJ9rzfYAn2rTB9o8bfnfVVW1+vXt7p7LgW3AA6u1I5KkpV2wdBMuA/a3O21eBNxdVZ9O8hXgriT/B/gicHtrfzvwJ0lmGJ7hXw9QVUeS3A18BXgOuKmqnl/d3ZEkLSbDk/Cz02AwqOnp6TPdDWmsjLtKNaGz+NdO54Ekh6tqMG6ZT+RKUkcMfUnqiKEvSR0x9CWpI4a+JHXE0Jekjhj6ktQRQ1+SOjLJE7mSpGU4Gx/g80xfkjpi6EtSRwx9SeqIoS9JHTH0Jakjhr4kdcTQl6SOGPqS1BFDX5I6YuhLUkcMfUnqiKEvSR0x9CWpI0uGfpItST6T5GiSI0l+vdXfneRfkjzYXteOrPOuJDNJHkly9Uh9V6vNJLllbXZJkrSQSf608nPAb1TVF5J8D3A4ycG27INV9fujjZNcAVwPvBb4QeBvk/xwW/xh4H8Bs8ChJAeq6iursSOSpKUtGfpVdRw43qb/PclRYNMiq+wG7qqqZ4GvJ5kBdrRlM1X1NYAkd7W2hr4krZPTGtNPshV4HfD5Vro5yUNJ7kiysdU2AY+NrDbbagvVT97G3iTTSabn5uZOp3uSpCVMHPpJXgb8BfCOqvoOcBvwSmA7w38J/MF80zGr1yL1Fxaq9lXVoKoGU1NTk3ZPkjSBif67xCQXMgz8j1fVJwGq6vGR5X8MfLrNzgJbRlbfDBxr0wvVJUnrYJK7dwLcDhytqg+M1C8bafazwMNt+gBwfZKXJLkc2AY8ABwCtiW5PMmLGV7sPbA6uyFJmsQkZ/pvAN4KfDnJg632W8BbkmxnOETzDeDtAFV1JMndDC/QPgfcVFXPAyS5GbgX2ADcUVVHVnFfJElLSK3Vf7m+CgaDQU1PT5/pbkhjZdxVqgmdxb92WkVn6hhJcriqBuOW+USuJHVkogu55yrPxCTphTzTl6SOGPqS1BFDX5I6YuhLUkcMfUnqiKEvSR0x9CWpI4a+JHXE0Jekjhj6ktQRQ1+SOmLoS1JHDH1J6oihL0kdMfQlqSOGviR1xNCXpI4Y+pLUEUNfkjpi6EtSR5YM/SRbknwmydEkR5L8eqtfnORgkkfb+8ZWT5IPJZlJ8lCS14981p7W/tEke9ZutyRJ40xypv8c8BtV9RrgKuCmJFcAtwD3VdU24L42D3ANsK299gK3wfBLArgVuBLYAdw6/0UhSVofS4Z+VR2vqi+06X8HjgKbgN3A/tZsP3Bdm94N3FlD9wMXJbkMuBo4WFUnqupJ4CCwa1X3RpK0qNMa00+yFXgd8Hng5VV1HIZfDMClrdkm4LGR1WZbbaH6ydvYm2Q6yfTc3NzpdE+StISJQz/Jy4C/AN5RVd9ZrOmYWi1Sf2Ghal9VDapqMDU1NWn3JEkTmCj0k1zIMPA/XlWfbOXH27AN7f2JVp8Ftoysvhk4tkhdkrROJrl7J8DtwNGq+sDIogPA/B04e4BPjdTf1u7iuQp4qg3/3AvsTLKxXcDd2WqSpHVywQRt3gC8Ffhykgdb7beA9wN3J7kR+Bbw5rbsHuBaYAZ4BrgBoKpOJHkfcKi1e29VnViVvZAkTSRVpwyrnzUGg0FNT08ve/2Mu4owobP4x6KzhMeXlnKmjpEkh6tqMG6ZT+RKUkcMfUnqiKEvSR0x9CWpI4a+JHXE0Jekjhj6ktQRQ1+SOmLoS1JHDH1J6oihL0kdMfQlqSOGviR1xNCXpI4Y+pLUEUNfkjpi6EtSRwx9SeqIoS9JHTH0Jakjhr4kdcTQl6SOLBn6Se5I8kSSh0dq707yL0kebK9rR5a9K8lMkkeSXD1S39VqM0luWf1dkSQtZZIz/Y8Bu8bUP1hV29vrHoAkVwDXA69t63wkyYYkG4APA9cAVwBvaW0lSevogqUaVNXnkmyd8PN2A3dV1bPA15PMADvaspmq+hpAkrta26+cdo8lScu2kjH9m5M81IZ/NrbaJuCxkTazrbZQ/RRJ9iaZTjI9Nze3gu5Jkk623NC/DXglsB04DvxBq2dM21qkfmqxal9VDapqMDU1tczuSZLGWXJ4Z5yqenx+OskfA59us7PAlpGmm4FjbXqhuiRpnSzrTD/JZSOzPwvM39lzALg+yUuSXA5sAx4ADgHbklye5MUML/YeWH63JUnLseSZfpJPAG8ELkkyC9wKvDHJdoZDNN8A3g5QVUeS3M3wAu1zwE1V9Xz7nJuBe4ENwB1VdWTV90aStKhUjR1aPysMBoOanp5e9voZdyVhQmfxj0VnCY8vLeVMHSNJDlfVYNwyn8iVpI4Y+pLUEUNfkjpi6EtSRwx9SeqIoS9JHTH0Jakjhr4kdcTQl6SOGPqS1BFDX5I6YuhLUkcMfUnqiKEvSR0x9CWpI4a+JHXE0Jekjhj6ktQRQ1+SOmLoS1JHDH1J6oihL0kdWTL0k9yR5IkkD4/ULk5yMMmj7X1jqyfJh5LMJHkoyetH1tnT2j+aZM/a7I4kaTGTnOl/DNh1Uu0W4L6q2gbc1+YBrgG2tdde4DYYfkkAtwJXAjuAW+e/KCRJ62fJ0K+qzwEnTirvBva36f3AdSP1O2vofuCiJJcBVwMHq+pEVT0JHOTULxJJ0hpb7pj+y6vqOEB7v7TVNwGPjbSbbbWF6qdIsjfJdJLpubm5ZXZPkjTOal/IzZhaLVI/tVi1r6oGVTWYmppa1c5JUu+WG/qPt2Eb2vsTrT4LbBlptxk4tkhdkrSOlhv6B4D5O3D2AJ8aqb+t3cVzFfBUG/65F9iZZGO7gLuz1SRJ6+iCpRok+QTwRuCSJLMM78J5P3B3khuBbwFvbs3vAa4FZoBngBsAqupEkvcBh1q791bVyReHJUlrLFVjh9bPCoPBoKanp5e9fsZdSZjQWfxj0VnC40tLOVPHSJLDVTUYt8wnciWpI4a+JHXE0Jekjhj6ktQRQ1+SOmLoS1JHDH1J6oihL0kdMfQlqSOGviR1xNCXpI4Y+pLUEUNfkjpi6EtSRwx9SeqIoS9JHTH0Jakjhr4kdcTQl6SOGPqS1BFDX5I6YuhLUkdWFPpJvpHky0keTDLdahcnOZjk0fa+sdWT5ENJZpI8lOT1q7EDkqTJrcaZ/v+squ1VNWjztwD3VdU24L42D3ANsK299gK3rcK2JUmnYS2Gd3YD+9v0fuC6kfqdNXQ/cFGSy9Zg+5KkBaw09Av4mySHk+xttZdX1XGA9n5pq28CHhtZd7bVXiDJ3iTTSabn5uZW2D1J0qgLVrj+G6rqWJJLgYNJvrpI24yp1SmFqn3APoDBYHDKcknS8q3oTL+qjrX3J4C/BHYAj88P27T3J1rzWWDLyOqbgWMr2b4k6fQsO/STfHeS75mfBnYCDwMHgD2t2R7gU236APC2dhfPVcBT88NAkqT1sZLhnZcDf5lk/nP+tKr+Oskh4O4kNwLfAt7c2t8DXAvMAM8AN6xg25KkZVh26FfV14AfG1P/f8BPjakXcNNytydJWjmfyJWkjhj6ktQRQ1+SOmLoS1JHDH1J6oihL0kdMfQlqSOGviR1xNCXpI4Y+pLUEUNfkjpi6EtSRwx9SeqIoS9JHTH0Jakjhr4kdcTQl6SOGPqS1BFDX5I6YuhLUkcMfUnqiKEvSR1Z99BPsivJI0lmktyy3tuXpJ6ta+gn2QB8GLgGuAJ4S5Ir1rMPktSz9T7T3wHMVNXXquo/gbuA3evcB0nq1gXrvL1NwGMj87PAlaMNkuwF9rbZp5M8soLtXQL823JWTFawVfXC40trJln+8QX80EIL1jv0xx3q9YKZqn3AvlXZWDJdVYPV+CzpZB5fWktrdXyt9/DOLLBlZH4zcGyd+yBJ3Vrv0D8EbEtyeZIXA9cDB9a5D5LUrXUd3qmq55LcDNwLbADuqKoja7jJVRkmkhbg8aW1tCbHV6pq6VaSpPOCT+RKUkcMfUnqyHrfsnnaknw/cF+b/QHgeWCuzT9TVT+5gs++GXgH8EpgqqqWe0+szmFrfIzdDgwY3q78T8AvVtXTK+iuzjFrfHx9nOHx9V/AA8Dbq+q/Fl3nXBrTT/Ju4Omq+v1lrBuG+/vfI7XXAU8CnwUGhr7W4Bj73qr6Tpv+APBEVb1/tfqrc8saHF/XAn/VZv8U+FxV3bbY55zTwztJnh6ZfmeSQ0keSvKeVtua5GiSjwBf4IXPCFBVX6yqb6xrp3VOWYVjbD7wA7yUkx5GVN9W4fi6pxqGZ/qbl9rmOR3685LsBLYx/Ns+24EfT/I/2uIfAe6sqtdV1TfPVB91blvJMZbko8C/Aq8G/nCduqxzyEozLMmFwFuBv15qW+dF6AM72+uLDL8NX83wBwjwzaq6/0x1TOeNZR9jVXUD8IPAUeDn17ifOjetNMM+wnBo5++X2tBZfyF3QgF+t6r+7wuKyVbgP85Eh3TeWdExVlXPJ/kz4J3AR9eigzqnLfv4SnIrMAW8fZINnS9n+vcCv5TkZQBJNiW59Az3SeeX0z7GMvSq+WngZ4CvrnlPdS5aVoYl+WXgauAtoxd4F3NenOlX1d8keQ3wj8PfLZ4GfoHhrVELSvJrwG8yvI3qoST3VNUvr3V/de5Z5jEWYH+S723TXwJ+da37qnPPcjMM+CPgmyPrfbKq3rvYCufULZuSpJU5X4Z3JEkTMPQlqSOGviR1xNCXpI4Y+pLUEUNfkjpi6EtSR/4/e64ZaNqdtBQAAAAASUVORK5CYII=\n",
      "text/plain": [
       "<Figure size 432x288 with 1 Axes>"
      ]
     },
     "metadata": {
      "needs_background": "light"
     },
     "output_type": "display_data"
    }
   ],
   "source": [
    "# checking the differenmt types of Outlet_Location_Type           \n",
    "plt.hist(train['Outlet_Location_Type'],bins=20,color='blue')"
   ]
  },
  {
   "cell_type": "code",
   "execution_count": 55,
   "metadata": {},
   "outputs": [
    {
     "data": {
      "text/plain": [
       "Tier 3    3350\n",
       "Tier 2    2785\n",
       "Tier 1    2388\n",
       "Name: Outlet_Location_Type, dtype: int64"
      ]
     },
     "execution_count": 55,
     "metadata": {},
     "output_type": "execute_result"
    }
   ],
   "source": [
    "# checking the unqiue values in Outlet_Location_Type\n",
    "train['Outlet_Location_Type'].value_counts()"
   ]
  },
  {
   "cell_type": "code",
   "execution_count": 56,
   "metadata": {},
   "outputs": [
    {
     "data": {
      "text/plain": [
       "(array([2388.,    0.,    0.,    0.,    0.,    0.,    0.,    0.,    0.,\n",
       "           0.,    0.,    0.,    0.,    0.,    0., 3350.,    0.,    0.,\n",
       "           0.,    0.,    0.,    0.,    0.,    0.,    0.,    0.,    0.,\n",
       "           0.,    0., 2785.]),\n",
       " array([0.        , 0.06666667, 0.13333333, 0.2       , 0.26666667,\n",
       "        0.33333333, 0.4       , 0.46666667, 0.53333333, 0.6       ,\n",
       "        0.66666667, 0.73333333, 0.8       , 0.86666667, 0.93333333,\n",
       "        1.        , 1.06666667, 1.13333333, 1.2       , 1.26666667,\n",
       "        1.33333333, 1.4       , 1.46666667, 1.53333333, 1.6       ,\n",
       "        1.66666667, 1.73333333, 1.8       , 1.86666667, 1.93333333,\n",
       "        2.        ]),\n",
       " <a list of 30 Patch objects>)"
      ]
     },
     "execution_count": 56,
     "metadata": {},
     "output_type": "execute_result"
    },
    {
     "data": {
      "image/png": "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\n",
      "text/plain": [
       "<Figure size 432x288 with 1 Axes>"
      ]
     },
     "metadata": {
      "needs_background": "light"
     },
     "output_type": "display_data"
    }
   ],
   "source": [
    "plt.hist(train['Outlet_Location_Type'],bins=30,color='red')"
   ]
  },
  {
   "cell_type": "code",
   "execution_count": 57,
   "metadata": {},
   "outputs": [
    {
     "data": {
      "text/plain": [
       "Supermarket Type1    5577\n",
       "Grocery Store        1083\n",
       "Supermarket Type3     935\n",
       "Supermarket Type2     928\n",
       "Name: Outlet_Type, dtype: int64"
      ]
     },
     "execution_count": 57,
     "metadata": {},
     "output_type": "execute_result"
    }
   ],
   "source": [
    "# checking the unqiue values in Outlet_Type\n",
    "train['Outlet_Type'].value_counts()"
   ]
  },
  {
   "cell_type": "code",
   "execution_count": 58,
   "metadata": {},
   "outputs": [
    {
     "data": {
      "text/plain": [
       "Text(0.5, 0, 'Outlet_Type')"
      ]
     },
     "execution_count": 58,
     "metadata": {},
     "output_type": "execute_result"
    },
    {
     "data": {
      "image/png": "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\n",
      "text/plain": [
       "<Figure size 432x288 with 1 Axes>"
      ]
     },
     "metadata": {
      "needs_background": "light"
     },
     "output_type": "display_data"
    }
   ],
   "source": [
    "plt.hist(train['Outlet_Type'],bins=30,color='green')\n",
    "plt.title('different type of outlet')\n",
    "plt.ylabel('counts')\n",
    "plt.xlabel('Outlet_Type')"
   ]
  },
  {
   "cell_type": "markdown",
   "metadata": {},
   "source": [
    "# Data pre processing "
   ]
  },
  {
   "cell_type": "code",
   "execution_count": 59,
   "metadata": {},
   "outputs": [
    {
     "data": {
      "text/plain": [
       "Low Fat    5517\n",
       "Regular    3006\n",
       "Name: Item_Fat_Content, dtype: int64"
      ]
     },
     "execution_count": 59,
     "metadata": {},
     "output_type": "execute_result"
    }
   ],
   "source": [
    "# combining reg,regular and low fat ,low fat and lw\n",
    "train['Item_Fat_Content']=train['Item_Fat_Content'].replace({'LF':'Low Fat','reg':'Regular','low fat':'Low Fat'})\n",
    "train['Item_Fat_Content'].value_counts()"
   ]
  },
  {
   "cell_type": "code",
   "execution_count": 89,
   "metadata": {},
   "outputs": [
    {
     "data": {
      "text/plain": [
       "Low Fat    3668\n",
       "Regular    2013\n",
       "Name: Item_Fat_Content, dtype: int64"
      ]
     },
     "execution_count": 89,
     "metadata": {},
     "output_type": "execute_result"
    }
   ],
   "source": [
    "# combining reg,regular and low fat ,low fat and lw\n",
    "test['Item_Fat_Content']=test['Item_Fat_Content'].replace({'LF':'Low Fat','reg':'Regular','low fat':'Low Fat'})\n",
    "test['Item_Fat_Content'].value_counts()"
   ]
  },
  {
   "cell_type": "code",
   "execution_count": 60,
   "metadata": {},
   "outputs": [
    {
     "data": {
      "text/plain": [
       "Food              6125\n",
       "Non_Consumable    1599\n",
       "Drinks             799\n",
       "Name: Item_Identifier, dtype: int64"
      ]
     },
     "execution_count": 60,
     "metadata": {},
     "output_type": "execute_result"
    }
   ],
   "source": [
    "# geeting the first two characters of ID to separate them int o differernt categories\n",
    "\n",
    "train['Item_Identifier']=train['Item_Identifier'].apply(lambda x: x[0:2])\n",
    "\n",
    "train['Item_Identifier']=train['Item_Identifier'].map({'FD':'Food','NC':'Non_Consumable','DR':'Drinks'})\n",
    "\n",
    "train['Item_Identifier'].value_counts()"
   ]
  },
  {
   "cell_type": "code",
   "execution_count": 91,
   "metadata": {},
   "outputs": [
    {
     "data": {
      "text/plain": [
       "Series([], Name: Item_Identifier, dtype: int64)"
      ]
     },
     "execution_count": 91,
     "metadata": {},
     "output_type": "execute_result"
    }
   ],
   "source": [
    "# geeting the first two characters of ID to separate them int o differernt categories\n",
    "\n",
    "test['Item_Identifier']=test['Item_Identifier'].apply(lambda x: x[0:2])\n",
    "\n",
    "test['Item_Identifier']=test['Item_Identifier'].map({'FD':'Food','NC':'Non_Consumable','DR':'Drinks'})\n",
    "\n",
    "test['Item_Identifier'].value_counts()"
   ]
  },
  {
   "cell_type": "code",
   "execution_count": 61,
   "metadata": {},
   "outputs": [
    {
     "data": {
      "text/plain": [
       "28    1463\n",
       "26     932\n",
       "14     930\n",
       "9      930\n",
       "16     930\n",
       "11     929\n",
       "4      928\n",
       "6      926\n",
       "15     555\n",
       "Name: Outlet_Years, dtype: int64"
      ]
     },
     "execution_count": 61,
     "metadata": {},
     "output_type": "execute_result"
    }
   ],
   "source": [
    "# determing the operation period of a time\n",
    "train['Outlet_Years']=2013-train['Outlet_Establishment_Year']\n",
    "\n",
    "train['Outlet_Years'].value_counts()"
   ]
  },
  {
   "cell_type": "code",
   "execution_count": 92,
   "metadata": {},
   "outputs": [
    {
     "data": {
      "text/plain": [
       "28    976\n",
       "26    621\n",
       "14    620\n",
       "9     620\n",
       "16    620\n",
       "11    619\n",
       "4     618\n",
       "6     617\n",
       "15    370\n",
       "Name: Outlet_Years, dtype: int64"
      ]
     },
     "execution_count": 92,
     "metadata": {},
     "output_type": "execute_result"
    }
   ],
   "source": [
    "# determing the operation period of a time\n",
    "test['Outlet_Years']=2013-test['Outlet_Establishment_Year']\n",
    "\n",
    "test['Outlet_Years'].value_counts()"
   ]
  },
  {
   "cell_type": "code",
   "execution_count": 93,
   "metadata": {},
   "outputs": [
    {
     "data": {
      "text/plain": [
       "Item_Identifier               object\n",
       "Item_Weight                  float64\n",
       "Item_Fat_Content              object\n",
       "Item_Visibility              float64\n",
       "Item_Type                     object\n",
       "Item_MRP                     float64\n",
       "Outlet_Identifier             object\n",
       "Outlet_Establishment_Year      int64\n",
       "Outlet_Size                   object\n",
       "Outlet_Location_Type          object\n",
       "Outlet_Type                   object\n",
       "Outlet_Years                   int64\n",
       "dtype: object"
      ]
     },
     "execution_count": 93,
     "metadata": {},
     "output_type": "execute_result"
    }
   ],
   "source": [
    "test.dtypes"
   ]
  },
  {
   "cell_type": "code",
   "execution_count": 62,
   "metadata": {},
   "outputs": [
    {
     "data": {
      "text/plain": [
       "Item_Identifier               object\n",
       "Item_Weight                  float64\n",
       "Item_Fat_Content              object\n",
       "Item_Visibility              float64\n",
       "Item_Type                     object\n",
       "Item_MRP                     float64\n",
       "Outlet_Identifier             object\n",
       "Outlet_Establishment_Year      int64\n",
       "Outlet_Size                   object\n",
       "Outlet_Location_Type          object\n",
       "Outlet_Type                   object\n",
       "Item_Outlet_Sales            float64\n",
       "Outlet_Years                   int64\n",
       "dtype: object"
      ]
     },
     "execution_count": 62,
     "metadata": {},
     "output_type": "execute_result"
    }
   ],
   "source": [
    "train.dtypes"
   ]
  },
  {
   "cell_type": "code",
   "execution_count": 63,
   "metadata": {},
   "outputs": [
    {
     "data": {
      "text/html": [
       "<div>\n",
       "<style scoped>\n",
       "    .dataframe tbody tr th:only-of-type {\n",
       "        vertical-align: middle;\n",
       "    }\n",
       "\n",
       "    .dataframe tbody tr th {\n",
       "        vertical-align: top;\n",
       "    }\n",
       "\n",
       "    .dataframe thead th {\n",
       "        text-align: right;\n",
       "    }\n",
       "</style>\n",
       "<table border=\"1\" class=\"dataframe\">\n",
       "  <thead>\n",
       "    <tr style=\"text-align: right;\">\n",
       "      <th></th>\n",
       "      <th>Item_Identifier</th>\n",
       "      <th>Item_Weight</th>\n",
       "      <th>Item_Fat_Content</th>\n",
       "      <th>Item_Visibility</th>\n",
       "      <th>Item_Type</th>\n",
       "      <th>Item_MRP</th>\n",
       "      <th>Outlet_Identifier</th>\n",
       "      <th>Outlet_Establishment_Year</th>\n",
       "      <th>Outlet_Size</th>\n",
       "      <th>Outlet_Location_Type</th>\n",
       "      <th>Outlet_Type</th>\n",
       "      <th>Item_Outlet_Sales</th>\n",
       "      <th>Outlet_Years</th>\n",
       "    </tr>\n",
       "  </thead>\n",
       "  <tbody>\n",
       "    <tr>\n",
       "      <th>0</th>\n",
       "      <td>Food</td>\n",
       "      <td>9.30</td>\n",
       "      <td>Low Fat</td>\n",
       "      <td>0.016047</td>\n",
       "      <td>Dairy</td>\n",
       "      <td>249.8092</td>\n",
       "      <td>OUT049</td>\n",
       "      <td>1999</td>\n",
       "      <td>Medium</td>\n",
       "      <td>Tier 1</td>\n",
       "      <td>Supermarket Type1</td>\n",
       "      <td>3735.1380</td>\n",
       "      <td>14</td>\n",
       "    </tr>\n",
       "    <tr>\n",
       "      <th>1</th>\n",
       "      <td>Drinks</td>\n",
       "      <td>5.92</td>\n",
       "      <td>Regular</td>\n",
       "      <td>0.019278</td>\n",
       "      <td>Soft Drinks</td>\n",
       "      <td>48.2692</td>\n",
       "      <td>OUT018</td>\n",
       "      <td>2009</td>\n",
       "      <td>Medium</td>\n",
       "      <td>Tier 3</td>\n",
       "      <td>Supermarket Type2</td>\n",
       "      <td>443.4228</td>\n",
       "      <td>4</td>\n",
       "    </tr>\n",
       "    <tr>\n",
       "      <th>2</th>\n",
       "      <td>Food</td>\n",
       "      <td>17.50</td>\n",
       "      <td>Low Fat</td>\n",
       "      <td>0.016760</td>\n",
       "      <td>Meat</td>\n",
       "      <td>141.6180</td>\n",
       "      <td>OUT049</td>\n",
       "      <td>1999</td>\n",
       "      <td>Medium</td>\n",
       "      <td>Tier 1</td>\n",
       "      <td>Supermarket Type1</td>\n",
       "      <td>2097.2700</td>\n",
       "      <td>14</td>\n",
       "    </tr>\n",
       "    <tr>\n",
       "      <th>3</th>\n",
       "      <td>Food</td>\n",
       "      <td>19.20</td>\n",
       "      <td>Regular</td>\n",
       "      <td>0.000000</td>\n",
       "      <td>Fruits and Vegetables</td>\n",
       "      <td>182.0950</td>\n",
       "      <td>OUT010</td>\n",
       "      <td>1998</td>\n",
       "      <td>Medium</td>\n",
       "      <td>Tier 3</td>\n",
       "      <td>Grocery Store</td>\n",
       "      <td>732.3800</td>\n",
       "      <td>15</td>\n",
       "    </tr>\n",
       "    <tr>\n",
       "      <th>4</th>\n",
       "      <td>Non_Consumable</td>\n",
       "      <td>8.93</td>\n",
       "      <td>Low Fat</td>\n",
       "      <td>0.000000</td>\n",
       "      <td>Household</td>\n",
       "      <td>53.8614</td>\n",
       "      <td>OUT013</td>\n",
       "      <td>1987</td>\n",
       "      <td>High</td>\n",
       "      <td>Tier 3</td>\n",
       "      <td>Supermarket Type1</td>\n",
       "      <td>994.7052</td>\n",
       "      <td>26</td>\n",
       "    </tr>\n",
       "  </tbody>\n",
       "</table>\n",
       "</div>"
      ],
      "text/plain": [
       "  Item_Identifier  Item_Weight Item_Fat_Content  Item_Visibility  \\\n",
       "0            Food         9.30          Low Fat         0.016047   \n",
       "1          Drinks         5.92          Regular         0.019278   \n",
       "2            Food        17.50          Low Fat         0.016760   \n",
       "3            Food        19.20          Regular         0.000000   \n",
       "4  Non_Consumable         8.93          Low Fat         0.000000   \n",
       "\n",
       "               Item_Type  Item_MRP Outlet_Identifier  \\\n",
       "0                  Dairy  249.8092            OUT049   \n",
       "1            Soft Drinks   48.2692            OUT018   \n",
       "2                   Meat  141.6180            OUT049   \n",
       "3  Fruits and Vegetables  182.0950            OUT010   \n",
       "4              Household   53.8614            OUT013   \n",
       "\n",
       "   Outlet_Establishment_Year Outlet_Size Outlet_Location_Type  \\\n",
       "0                       1999      Medium               Tier 1   \n",
       "1                       2009      Medium               Tier 3   \n",
       "2                       1999      Medium               Tier 1   \n",
       "3                       1998      Medium               Tier 3   \n",
       "4                       1987        High               Tier 3   \n",
       "\n",
       "         Outlet_Type  Item_Outlet_Sales  Outlet_Years  \n",
       "0  Supermarket Type1          3735.1380            14  \n",
       "1  Supermarket Type2           443.4228             4  \n",
       "2  Supermarket Type1          2097.2700            14  \n",
       "3      Grocery Store           732.3800            15  \n",
       "4  Supermarket Type1           994.7052            26  "
      ]
     },
     "execution_count": 63,
     "metadata": {},
     "output_type": "execute_result"
    }
   ],
   "source": [
    "train.head()"
   ]
  },
  {
   "cell_type": "code",
   "execution_count": 64,
   "metadata": {},
   "outputs": [],
   "source": [
    "\n",
    "#import library \n",
    "#now import labelEncoding\n",
    "from sklearn.preprocessing import LabelEncoder\n",
    "lb=LabelEncoder()\n",
    "train['Outlet']=lb.fit_transform(train['Outlet_Identifier'])\n",
    "var=['Item_Identifier','Item_Fat_Content','Item_Type','Outlet_Identifier','Outlet_Size','Outlet_Location_Type','Outlet_Type']\n",
    "lb=LabelEncoder()\n",
    "for item in var:\n",
    "    train[item]=lb.fit_transform(train[item])"
   ]
  },
  {
   "cell_type": "code",
   "execution_count": 94,
   "metadata": {},
   "outputs": [],
   "source": [
    "\n",
    "#import library \n",
    "#now import labelEncoding\n",
    "from sklearn.preprocessing import LabelEncoder\n",
    "lb=LabelEncoder()\n",
    "test['Outlet']=lb.fit_transform(test['Outlet_Identifier'])\n",
    "var=['Item_Identifier','Item_Fat_Content','Item_Type','Outlet_Identifier','Outlet_Size','Outlet_Location_Type','Outlet_Type']\n",
    "lb=LabelEncoder()\n",
    "for item in var:\n",
    "    test[item]=lb.fit_transform(test[item])"
   ]
  },
  {
   "cell_type": "code",
   "execution_count": 65,
   "metadata": {},
   "outputs": [
    {
     "data": {
      "text/html": [
       "<div>\n",
       "<style scoped>\n",
       "    .dataframe tbody tr th:only-of-type {\n",
       "        vertical-align: middle;\n",
       "    }\n",
       "\n",
       "    .dataframe tbody tr th {\n",
       "        vertical-align: top;\n",
       "    }\n",
       "\n",
       "    .dataframe thead th {\n",
       "        text-align: right;\n",
       "    }\n",
       "</style>\n",
       "<table border=\"1\" class=\"dataframe\">\n",
       "  <thead>\n",
       "    <tr style=\"text-align: right;\">\n",
       "      <th></th>\n",
       "      <th>Item_Identifier</th>\n",
       "      <th>Item_Weight</th>\n",
       "      <th>Item_Fat_Content</th>\n",
       "      <th>Item_Visibility</th>\n",
       "      <th>Item_Type</th>\n",
       "      <th>Item_MRP</th>\n",
       "      <th>Outlet_Identifier</th>\n",
       "      <th>Outlet_Establishment_Year</th>\n",
       "      <th>Outlet_Size</th>\n",
       "      <th>Outlet_Location_Type</th>\n",
       "      <th>Outlet_Type</th>\n",
       "      <th>Item_Outlet_Sales</th>\n",
       "      <th>Outlet_Years</th>\n",
       "      <th>Outlet</th>\n",
       "    </tr>\n",
       "  </thead>\n",
       "  <tbody>\n",
       "    <tr>\n",
       "      <th>0</th>\n",
       "      <td>1</td>\n",
       "      <td>9.30</td>\n",
       "      <td>0</td>\n",
       "      <td>0.016047</td>\n",
       "      <td>4</td>\n",
       "      <td>249.8092</td>\n",
       "      <td>9</td>\n",
       "      <td>1999</td>\n",
       "      <td>1</td>\n",
       "      <td>0</td>\n",
       "      <td>1</td>\n",
       "      <td>3735.1380</td>\n",
       "      <td>14</td>\n",
       "      <td>9</td>\n",
       "    </tr>\n",
       "    <tr>\n",
       "      <th>1</th>\n",
       "      <td>0</td>\n",
       "      <td>5.92</td>\n",
       "      <td>1</td>\n",
       "      <td>0.019278</td>\n",
       "      <td>14</td>\n",
       "      <td>48.2692</td>\n",
       "      <td>3</td>\n",
       "      <td>2009</td>\n",
       "      <td>1</td>\n",
       "      <td>2</td>\n",
       "      <td>2</td>\n",
       "      <td>443.4228</td>\n",
       "      <td>4</td>\n",
       "      <td>3</td>\n",
       "    </tr>\n",
       "    <tr>\n",
       "      <th>2</th>\n",
       "      <td>1</td>\n",
       "      <td>17.50</td>\n",
       "      <td>0</td>\n",
       "      <td>0.016760</td>\n",
       "      <td>10</td>\n",
       "      <td>141.6180</td>\n",
       "      <td>9</td>\n",
       "      <td>1999</td>\n",
       "      <td>1</td>\n",
       "      <td>0</td>\n",
       "      <td>1</td>\n",
       "      <td>2097.2700</td>\n",
       "      <td>14</td>\n",
       "      <td>9</td>\n",
       "    </tr>\n",
       "    <tr>\n",
       "      <th>3</th>\n",
       "      <td>1</td>\n",
       "      <td>19.20</td>\n",
       "      <td>1</td>\n",
       "      <td>0.000000</td>\n",
       "      <td>6</td>\n",
       "      <td>182.0950</td>\n",
       "      <td>0</td>\n",
       "      <td>1998</td>\n",
       "      <td>1</td>\n",
       "      <td>2</td>\n",
       "      <td>0</td>\n",
       "      <td>732.3800</td>\n",
       "      <td>15</td>\n",
       "      <td>0</td>\n",
       "    </tr>\n",
       "    <tr>\n",
       "      <th>4</th>\n",
       "      <td>2</td>\n",
       "      <td>8.93</td>\n",
       "      <td>0</td>\n",
       "      <td>0.000000</td>\n",
       "      <td>9</td>\n",
       "      <td>53.8614</td>\n",
       "      <td>1</td>\n",
       "      <td>1987</td>\n",
       "      <td>0</td>\n",
       "      <td>2</td>\n",
       "      <td>1</td>\n",
       "      <td>994.7052</td>\n",
       "      <td>26</td>\n",
       "      <td>1</td>\n",
       "    </tr>\n",
       "  </tbody>\n",
       "</table>\n",
       "</div>"
      ],
      "text/plain": [
       "   Item_Identifier  Item_Weight  Item_Fat_Content  Item_Visibility  Item_Type  \\\n",
       "0                1         9.30                 0         0.016047          4   \n",
       "1                0         5.92                 1         0.019278         14   \n",
       "2                1        17.50                 0         0.016760         10   \n",
       "3                1        19.20                 1         0.000000          6   \n",
       "4                2         8.93                 0         0.000000          9   \n",
       "\n",
       "   Item_MRP  Outlet_Identifier  Outlet_Establishment_Year  Outlet_Size  \\\n",
       "0  249.8092                  9                       1999            1   \n",
       "1   48.2692                  3                       2009            1   \n",
       "2  141.6180                  9                       1999            1   \n",
       "3  182.0950                  0                       1998            1   \n",
       "4   53.8614                  1                       1987            0   \n",
       "\n",
       "   Outlet_Location_Type  Outlet_Type  Item_Outlet_Sales  Outlet_Years  Outlet  \n",
       "0                     0            1          3735.1380            14       9  \n",
       "1                     2            2           443.4228             4       3  \n",
       "2                     0            1          2097.2700            14       9  \n",
       "3                     2            0           732.3800            15       0  \n",
       "4                     2            1           994.7052            26       1  "
      ]
     },
     "execution_count": 65,
     "metadata": {},
     "output_type": "execute_result"
    }
   ],
   "source": [
    "train.head()"
   ]
  },
  {
   "cell_type": "code",
   "execution_count": 67,
   "metadata": {
    "scrolled": true
   },
   "outputs": [],
   "source": [
    "train.drop(['Outlet_Establishment_Year','Item_Type'],inplace=True,axis=1)"
   ]
  },
  {
   "cell_type": "code",
   "execution_count": 97,
   "metadata": {},
   "outputs": [],
   "source": [
    "test.drop(['Outlet_Establishment_Year','Item_Type'],inplace=True,axis=1)"
   ]
  },
  {
   "cell_type": "code",
   "execution_count": 69,
   "metadata": {},
   "outputs": [],
   "source": [
    "# spliiting the dataset into test and train \n",
    "\n",
    "X=train.drop('Item_Outlet_Sales',axis=1)\n",
    "y=train.Item_Outlet_Sales"
   ]
  },
  {
   "cell_type": "code",
   "execution_count": 70,
   "metadata": {},
   "outputs": [
    {
     "name": "stdout",
     "output_type": "stream",
     "text": [
      "(8523, 11)\n",
      "(8523,)\n"
     ]
    }
   ],
   "source": [
    "print(X.shape)\n",
    "print(y.shape)"
   ]
  },
  {
   "cell_type": "code",
   "execution_count": 71,
   "metadata": {},
   "outputs": [
    {
     "name": "stdout",
     "output_type": "stream",
     "text": [
      "(5966, 11)\n",
      "(5966,)\n",
      "(2557, 11)\n",
      "(2557,)\n"
     ]
    }
   ],
   "source": [
    "from sklearn.model_selection import train_test_split\n",
    "\n",
    "X_train,X_test,y_train,y_test=train_test_split(X,y,test_size=0.3)\n",
    "\n",
    "print(X_train.shape)\n",
    "print(y_train.shape)\n",
    "print(X_test.shape)\n",
    "print(y_test.shape)"
   ]
  },
  {
   "cell_type": "code",
   "execution_count": 72,
   "metadata": {},
   "outputs": [],
   "source": [
    "# modelling \n",
    "# LINEAR REGRESSION \n",
    "  \n",
    "    \n",
    "from sklearn.linear_model import LinearRegression\n",
    "from sklearn.metrics import mean_squared_error\n",
    "from sklearn.metrics import r2_score"
   ]
  },
  {
   "cell_type": "code",
   "execution_count": 73,
   "metadata": {
    "collapsed": true
   },
   "outputs": [
    {
     "data": {
      "text/plain": [
       "Item_Identifier           int32\n",
       "Item_Weight             float64\n",
       "Item_Fat_Content          int32\n",
       "Item_Visibility         float64\n",
       "Item_MRP                float64\n",
       "Outlet_Identifier         int32\n",
       "Outlet_Size               int32\n",
       "Outlet_Location_Type      int32\n",
       "Outlet_Type               int32\n",
       "Outlet_Years              int64\n",
       "Outlet                    int32\n",
       "dtype: object"
      ]
     },
     "execution_count": 73,
     "metadata": {},
     "output_type": "execute_result"
    }
   ],
   "source": [
    "X.dtypes"
   ]
  },
  {
   "cell_type": "code",
   "execution_count": 74,
   "metadata": {},
   "outputs": [
    {
     "name": "stdout",
     "output_type": "stream",
     "text": [
      "[2872.61367338 2427.1716221  3492.85371282 ...  849.22625017 3286.73163418\n",
      " 3546.97808013]\n",
      "RMSE : 1208.6325019832145\n",
      "Variance score: 0.51\n"
     ]
    }
   ],
   "source": [
    "model = LinearRegression()\n",
    "model.fit(X_train, y_train)\n",
    "\n",
    "# predicting the  test set results\n",
    "y_pred = model.predict(X_test)\n",
    "print(y_pred)\n",
    "\n",
    "# finding the mean squared error and variance\n",
    "mse = mean_squared_error(y_test, y_pred)\n",
    "print('RMSE :', np.sqrt(mse))\n",
    "print('Variance score: %.2f' % r2_score(y_test, y_pred))"
   ]
  },
  {
   "cell_type": "code",
   "execution_count": 76,
   "metadata": {},
   "outputs": [
    {
     "name": "stdout",
     "output_type": "stream",
     "text": [
      "RMSE: 1150.9940032057673\n"
     ]
    }
   ],
   "source": [
    "#AdaBoost Regressor\n",
    "from sklearn.ensemble import AdaBoostRegressor \n",
    "\n",
    "model=AdaBoostRegressor(n_estimators=100)\n",
    "model.fit(X_train,y_train)\n",
    "\n",
    "#predicting the test set results \n",
    "y_pred=model.predict(X_test)\n",
    "\n",
    "#RMSE\n",
    "mse=mean_squared_error(y_test,y_pred)\n",
    "print('RMSE:',np.sqrt(mse))"
   ]
  },
  {
   "cell_type": "code",
   "execution_count": 84,
   "metadata": {},
   "outputs": [
    {
     "name": "stdout",
     "output_type": "stream",
     "text": [
      "[2609.87806231 2285.40493154 2330.56878939 ... 1070.22410707 3204.36339312\n",
      " 2846.58965714]\n",
      "RMSE: 1102.7153189572257\n"
     ]
    }
   ],
   "source": [
    "#XgBoost Regressor\n",
    "from sklearn.ensemble import GradientBoostingRegressor\n",
    "\n",
    "XGB=GradientBoostingRegressor()\n",
    "XGB.fit(X_train,y_train)\n",
    "\n",
    "#predicting the test set results \n",
    "y_pred=XGB.predict(X_test)\n",
    "print(y_pred)\n",
    "\n",
    "\n",
    "#calculating the root mean squared error\n",
    "print('RMSE:',np.sqrt(((y_test-y_pred)**2).sum()/len(y_test)))"
   ]
  },
  {
   "cell_type": "code",
   "execution_count": 78,
   "metadata": {},
   "outputs": [
    {
     "name": "stdout",
     "output_type": "stream",
     "text": [
      "[2455.363872 2256.29633  2879.005754 ...  926.414094 4282.745184\n",
      " 2620.515562]\n",
      "RMSE: 1169.884385619735\n",
      "Variance score:0.55\n",
      "result: 0.9378604488415931\n"
     ]
    }
   ],
   "source": [
    "# Random Forest Regression\n",
    "from sklearn.ensemble import RandomForestRegressor \n",
    "\n",
    "model=RandomForestRegressor(n_estimators=100,n_jobs=-1)\n",
    "model.fit(X_train,y_train)\n",
    "\n",
    "#predicting the test set results\n",
    "y_pred=model.predict(X_test)\n",
    "print(y_pred)\n",
    "\n",
    "#finding the mean squared error and variance\n",
    "mse=mean_squared_error(y_test,y_pred)\n",
    "print('RMSE:',np.sqrt(mse))\n",
    "print('Variance score:%.2f' % r2_score(y_test,y_pred))\n",
    "\n",
    "print('result:',model.score(X_train,y_train))\n",
    "\n",
    "\n"
   ]
  },
  {
   "cell_type": "code",
   "execution_count": 79,
   "metadata": {},
   "outputs": [
    {
     "name": "stdout",
     "output_type": "stream",
     "text": [
      "[2109.2544 1571.288  3099.9648 ...  223.7088 4028.09   2316.984 ]\n",
      "RMSE: 1557.6231993303234\n",
      "variance: score:0.19\n",
      "Result : 1.0\n"
     ]
    }
   ],
   "source": [
    "#decision tree regression\n",
    "\n",
    "from sklearn.tree import DecisionTreeRegressor\n",
    "\n",
    "model=DecisionTreeRegressor()\n",
    "model.fit(X_train,y_train)\n",
    "\n",
    "#predicting the test results\n",
    "y_pred=model.predict(X_test)\n",
    "print(y_pred)\n",
    "\n",
    "#finding the rmse squared error and variance \n",
    "mse=mean_squared_error(y_test,y_pred)\n",
    "\n",
    "print('RMSE:',np.sqrt(mse))\n",
    "print(\"variance: score:%.2f\" % r2_score(y_test,y_pred))\n",
    "\n",
    "\n",
    "print(\"Result :\",model.score(X_train, y_train))\n"
   ]
  },
  {
   "cell_type": "code",
   "execution_count": 80,
   "metadata": {},
   "outputs": [
    {
     "name": "stdout",
     "output_type": "stream",
     "text": [
      "RMSE : 1589.700468111132\n"
     ]
    }
   ],
   "source": [
    "# Support vector machine \n",
    "\n",
    "from sklearn.svm import SVR\n",
    "\n",
    "model=SVR()\n",
    "model.fit(X_train,y_train)\n",
    "\n",
    "#predictig the test results \n",
    "y_pred=model.predict(X_test)\n",
    "\n",
    "#calculating the RMSE Score \n",
    "mse = mean_squared_error(y_test, y_pred)\n",
    "print(\"RMSE :\", np.sqrt(mse))\n"
   ]
  },
  {
   "cell_type": "code",
   "execution_count": 98,
   "metadata": {},
   "outputs": [
    {
     "data": {
      "text/html": [
       "<div>\n",
       "<style scoped>\n",
       "    .dataframe tbody tr th:only-of-type {\n",
       "        vertical-align: middle;\n",
       "    }\n",
       "\n",
       "    .dataframe tbody tr th {\n",
       "        vertical-align: top;\n",
       "    }\n",
       "\n",
       "    .dataframe thead th {\n",
       "        text-align: right;\n",
       "    }\n",
       "</style>\n",
       "<table border=\"1\" class=\"dataframe\">\n",
       "  <thead>\n",
       "    <tr style=\"text-align: right;\">\n",
       "      <th></th>\n",
       "      <th>Item_Identifier</th>\n",
       "      <th>Item_Weight</th>\n",
       "      <th>Item_Fat_Content</th>\n",
       "      <th>Item_Visibility</th>\n",
       "      <th>Item_MRP</th>\n",
       "      <th>Outlet_Identifier</th>\n",
       "      <th>Outlet_Size</th>\n",
       "      <th>Outlet_Location_Type</th>\n",
       "      <th>Outlet_Type</th>\n",
       "      <th>Outlet_Years</th>\n",
       "      <th>Outlet</th>\n",
       "    </tr>\n",
       "  </thead>\n",
       "  <tbody>\n",
       "    <tr>\n",
       "      <th>0</th>\n",
       "      <td>0</td>\n",
       "      <td>20.750000</td>\n",
       "      <td>0</td>\n",
       "      <td>0.007565</td>\n",
       "      <td>107.8622</td>\n",
       "      <td>9</td>\n",
       "      <td>1</td>\n",
       "      <td>0</td>\n",
       "      <td>1</td>\n",
       "      <td>14</td>\n",
       "      <td>9</td>\n",
       "    </tr>\n",
       "    <tr>\n",
       "      <th>1</th>\n",
       "      <td>0</td>\n",
       "      <td>8.300000</td>\n",
       "      <td>1</td>\n",
       "      <td>0.038428</td>\n",
       "      <td>87.3198</td>\n",
       "      <td>2</td>\n",
       "      <td>1</td>\n",
       "      <td>1</td>\n",
       "      <td>1</td>\n",
       "      <td>6</td>\n",
       "      <td>2</td>\n",
       "    </tr>\n",
       "    <tr>\n",
       "      <th>2</th>\n",
       "      <td>0</td>\n",
       "      <td>14.600000</td>\n",
       "      <td>0</td>\n",
       "      <td>0.099575</td>\n",
       "      <td>241.7538</td>\n",
       "      <td>0</td>\n",
       "      <td>1</td>\n",
       "      <td>2</td>\n",
       "      <td>0</td>\n",
       "      <td>15</td>\n",
       "      <td>0</td>\n",
       "    </tr>\n",
       "    <tr>\n",
       "      <th>3</th>\n",
       "      <td>0</td>\n",
       "      <td>7.315000</td>\n",
       "      <td>0</td>\n",
       "      <td>0.015388</td>\n",
       "      <td>155.0340</td>\n",
       "      <td>2</td>\n",
       "      <td>1</td>\n",
       "      <td>1</td>\n",
       "      <td>1</td>\n",
       "      <td>6</td>\n",
       "      <td>2</td>\n",
       "    </tr>\n",
       "    <tr>\n",
       "      <th>4</th>\n",
       "      <td>0</td>\n",
       "      <td>12.695633</td>\n",
       "      <td>1</td>\n",
       "      <td>0.118599</td>\n",
       "      <td>234.2300</td>\n",
       "      <td>5</td>\n",
       "      <td>1</td>\n",
       "      <td>2</td>\n",
       "      <td>3</td>\n",
       "      <td>28</td>\n",
       "      <td>5</td>\n",
       "    </tr>\n",
       "  </tbody>\n",
       "</table>\n",
       "</div>"
      ],
      "text/plain": [
       "   Item_Identifier  Item_Weight  Item_Fat_Content  Item_Visibility  Item_MRP  \\\n",
       "0                0    20.750000                 0         0.007565  107.8622   \n",
       "1                0     8.300000                 1         0.038428   87.3198   \n",
       "2                0    14.600000                 0         0.099575  241.7538   \n",
       "3                0     7.315000                 0         0.015388  155.0340   \n",
       "4                0    12.695633                 1         0.118599  234.2300   \n",
       "\n",
       "   Outlet_Identifier  Outlet_Size  Outlet_Location_Type  Outlet_Type  \\\n",
       "0                  9            1                     0            1   \n",
       "1                  2            1                     1            1   \n",
       "2                  0            1                     2            0   \n",
       "3                  2            1                     1            1   \n",
       "4                  5            1                     2            3   \n",
       "\n",
       "   Outlet_Years  Outlet  \n",
       "0            14       9  \n",
       "1             6       2  \n",
       "2            15       0  \n",
       "3             6       2  \n",
       "4            28       5  "
      ]
     },
     "execution_count": 98,
     "metadata": {},
     "output_type": "execute_result"
    }
   ],
   "source": [
    "test.head()"
   ]
  },
  {
   "cell_type": "code",
   "execution_count": 101,
   "metadata": {},
   "outputs": [],
   "source": [
    "X_test=test"
   ]
  },
  {
   "cell_type": "code",
   "execution_count": 102,
   "metadata": {},
   "outputs": [],
   "source": [
    "pred=XGB.predict(X_test)"
   ]
  },
  {
   "cell_type": "code",
   "execution_count": 110,
   "metadata": {},
   "outputs": [],
   "source": [
    "submit=pd.DataFrame({'Item_Identifier':sub['Item_Identifier'],'Outlet_Identifier':sub['Outlet_Identifier'],'Item_Outlet_Sales':pred})"
   ]
  },
  {
   "cell_type": "code",
   "execution_count": 112,
   "metadata": {},
   "outputs": [],
   "source": [
    " "
   ]
  },
  {
   "cell_type": "code",
   "execution_count": 113,
   "metadata": {},
   "outputs": [
    {
     "data": {
      "text/html": [
       "<div>\n",
       "<style scoped>\n",
       "    .dataframe tbody tr th:only-of-type {\n",
       "        vertical-align: middle;\n",
       "    }\n",
       "\n",
       "    .dataframe tbody tr th {\n",
       "        vertical-align: top;\n",
       "    }\n",
       "\n",
       "    .dataframe thead th {\n",
       "        text-align: right;\n",
       "    }\n",
       "</style>\n",
       "<table border=\"1\" class=\"dataframe\">\n",
       "  <thead>\n",
       "    <tr style=\"text-align: right;\">\n",
       "      <th></th>\n",
       "      <th>Item_Identifier</th>\n",
       "      <th>Outlet_Identifier</th>\n",
       "      <th>Item_Outlet_Sales</th>\n",
       "    </tr>\n",
       "  </thead>\n",
       "  <tbody>\n",
       "    <tr>\n",
       "      <th>0</th>\n",
       "      <td>FDW58</td>\n",
       "      <td>OUT049</td>\n",
       "      <td>1449.285856</td>\n",
       "    </tr>\n",
       "    <tr>\n",
       "      <th>1</th>\n",
       "      <td>FDW14</td>\n",
       "      <td>OUT017</td>\n",
       "      <td>1408.984725</td>\n",
       "    </tr>\n",
       "    <tr>\n",
       "      <th>2</th>\n",
       "      <td>NCN55</td>\n",
       "      <td>OUT010</td>\n",
       "      <td>662.245026</td>\n",
       "    </tr>\n",
       "    <tr>\n",
       "      <th>3</th>\n",
       "      <td>FDQ58</td>\n",
       "      <td>OUT017</td>\n",
       "      <td>2566.604601</td>\n",
       "    </tr>\n",
       "    <tr>\n",
       "      <th>4</th>\n",
       "      <td>FDY38</td>\n",
       "      <td>OUT027</td>\n",
       "      <td>5807.619946</td>\n",
       "    </tr>\n",
       "  </tbody>\n",
       "</table>\n",
       "</div>"
      ],
      "text/plain": [
       "  Item_Identifier Outlet_Identifier  Item_Outlet_Sales\n",
       "0           FDW58            OUT049        1449.285856\n",
       "1           FDW14            OUT017        1408.984725\n",
       "2           NCN55            OUT010         662.245026\n",
       "3           FDQ58            OUT017        2566.604601\n",
       "4           FDY38            OUT027        5807.619946"
      ]
     },
     "execution_count": 113,
     "metadata": {},
     "output_type": "execute_result"
    }
   ],
   "source": [
    "submit.head()"
   ]
  },
  {
   "cell_type": "code",
   "execution_count": null,
   "metadata": {},
   "outputs": [],
   "source": []
  }
 ],
 "metadata": {
  "kernelspec": {
   "display_name": "Python 3",
   "language": "python",
   "name": "python3"
  },
  "language_info": {
   "codemirror_mode": {
    "name": "ipython",
    "version": 3
   },
   "file_extension": ".py",
   "mimetype": "text/x-python",
   "name": "python",
   "nbconvert_exporter": "python",
   "pygments_lexer": "ipython3",
   "version": "3.7.6"
  }
 },
 "nbformat": 4,
 "nbformat_minor": 4
}
